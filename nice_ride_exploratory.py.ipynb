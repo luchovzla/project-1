{
 "cells": [
  {
   "cell_type": "code",
   "execution_count": null,
   "metadata": {},
   "outputs": [],
   "source": [
    "# Dependencies\n",
    "import pandas as pd\n",
    "import matplotlib.pyplot as plt\n",
    "import numpy as np"
   ]
  },
  {
   "cell_type": "code",
   "execution_count": null,
   "metadata": {},
   "outputs": [],
   "source": [
    "nice_ride_nov_2020 = pd.read_csv(\"202011-niceride-tripdata.csv\")"
   ]
  },
  {
   "cell_type": "code",
   "execution_count": null,
   "metadata": {},
   "outputs": [],
   "source": [
    "nice_ride_nov_2020"
   ]
  },
  {
   "cell_type": "code",
   "execution_count": null,
   "metadata": {},
   "outputs": [],
   "source": [
    "nice_ride_aug_2018 = pd.read_csv(\"201808-niceride-tripdata.csv\")"
   ]
  },
  {
   "cell_type": "code",
   "execution_count": null,
   "metadata": {},
   "outputs": [],
   "source": [
    "nice_ride_aug_2018"
   ]
  },
  {
   "cell_type": "code",
   "execution_count": null,
   "metadata": {},
   "outputs": [],
   "source": [
    "nice_ride_aug_2020 = pd.read_csv(\"202008-niceride-tripdata.csv\")\n",
    "nice_ride_aug_2020"
   ]
  },
  {
   "cell_type": "code",
   "execution_count": null,
   "metadata": {},
   "outputs": [],
   "source": [
    "nice_ride_jun_2019 = pd.read_csv(\"201906-niceride-tripdata.csv\")\n",
    "nice_ride_jun_2019"
   ]
  },
  {
   "cell_type": "code",
   "execution_count": null,
   "metadata": {},
   "outputs": [],
   "source": [
    "stations_2020 = nice_ride_aug_2020[[\"start_station_name\", \"start_station_id\"]]\n",
    "stations_2020 = stations_2020.dropna()\n",
    "stations_2020 = stations_2020.drop_duplicates()\n",
    "stations_2020 = stations_2020.sort_values(by = \"start_station_id\", ascending = True)\n",
    "stations_2020"
   ]
  },
  {
   "cell_type": "code",
   "execution_count": null,
   "metadata": {},
   "outputs": [],
   "source": [
    "stations_2019 = nice_ride_jun_2019[[\"start station name\", \"start station id\"]]\n",
    "stations_2019 = stations_2019.dropna()\n",
    "stations_2019 = stations_2019.drop_duplicates()\n",
    "stations_2019 = stations_2019.sort_values(by = \"start station id\", ascending = True)\n",
    "stations_2019"
   ]
  },
  {
   "cell_type": "code",
   "execution_count": null,
   "metadata": {},
   "outputs": [],
   "source": []
  }
 ],
 "metadata": {
  "kernelspec": {
   "display_name": "Python 3",
   "language": "python",
   "name": "python3"
  },
  "language_info": {
   "codemirror_mode": {
    "name": "ipython",
    "version": 3
   },
   "file_extension": ".py",
   "mimetype": "text/x-python",
   "name": "python",
   "nbconvert_exporter": "python",
   "pygments_lexer": "ipython3",
   "version": "3.6.10"
  }
 },
 "nbformat": 4,
 "nbformat_minor": 4
}
