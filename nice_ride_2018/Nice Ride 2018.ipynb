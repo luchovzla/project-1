{
 "cells": [
  {
   "cell_type": "code",
   "execution_count": 3,
   "metadata": {},
   "outputs": [],
   "source": [
    "#Dependencies\n",
    "import pandas as pd\n",
    "import numpy as np"
   ]
  },
  {
   "cell_type": "code",
   "execution_count": 4,
   "metadata": {},
   "outputs": [],
   "source": [
    "#Import CSV Files\n",
    "apr_18_path = \"201804-niceride-tripdata.csv\"\n",
    "may_18_path = \"201805-niceride-tripdata.csv\"\n",
    "jun_18_path = \"201806-niceride-tripdata.csv\"\n",
    "jul_18_path = \"201807-niceride-tripdata.csv\"\n",
    "aug_18_path = \"201808-niceride-tripdata.csv\"\n",
    "sep_18_path = \"201809-niceride-tripdata.csv\"\n",
    "oct_18_path = \"201810-niceride-tripdata.csv\"\n",
    "nov_18_path = \"201811-niceride-tripdata.csv\""
   ]
  },
  {
   "cell_type": "code",
   "execution_count": 5,
   "metadata": {},
   "outputs": [
    {
     "data": {
      "text/plain": [
       "18303"
      ]
     },
     "execution_count": 5,
     "metadata": {},
     "output_type": "execute_result"
    }
   ],
   "source": [
    "#Read data to df\n",
    "apr_2018 = pd.read_csv(apr_18_path, dtype=str)\n",
    "len(apr_2018)"
   ]
  },
  {
   "cell_type": "code",
   "execution_count": 6,
   "metadata": {},
   "outputs": [
    {
     "data": {
      "text/plain": [
       "66882"
      ]
     },
     "execution_count": 6,
     "metadata": {},
     "output_type": "execute_result"
    }
   ],
   "source": [
    "may_2018 = pd.read_csv(may_18_path, dtype=str)\n",
    "len(may_2018)"
   ]
  },
  {
   "cell_type": "code",
   "execution_count": 7,
   "metadata": {},
   "outputs": [
    {
     "data": {
      "text/plain": [
       "74349"
      ]
     },
     "execution_count": 7,
     "metadata": {},
     "output_type": "execute_result"
    }
   ],
   "source": [
    "jun_2018 = pd.read_csv(jun_18_path, dtype = str)\n",
    "len(jun_2018)"
   ]
  },
  {
   "cell_type": "code",
   "execution_count": 8,
   "metadata": {},
   "outputs": [
    {
     "data": {
      "text/plain": [
       "86008"
      ]
     },
     "execution_count": 8,
     "metadata": {},
     "output_type": "execute_result"
    }
   ],
   "source": [
    "jul_2018 = pd.read_csv(jul_18_path, dtype = str)\n",
    "len(jul_2018)"
   ]
  },
  {
   "cell_type": "code",
   "execution_count": 9,
   "metadata": {},
   "outputs": [
    {
     "data": {
      "text/plain": [
       "71734"
      ]
     },
     "execution_count": 9,
     "metadata": {},
     "output_type": "execute_result"
    }
   ],
   "source": [
    "aug_2018 = pd.read_csv(aug_18_path, dtype=str)\n",
    "len(aug_2018)"
   ]
  },
  {
   "cell_type": "code",
   "execution_count": 10,
   "metadata": {},
   "outputs": [
    {
     "data": {
      "text/plain": [
       "56692"
      ]
     },
     "execution_count": 10,
     "metadata": {},
     "output_type": "execute_result"
    }
   ],
   "source": [
    "sep_2018 = pd.read_csv(sep_18_path, dtype=str)\n",
    "len(sep_2018)"
   ]
  },
  {
   "cell_type": "code",
   "execution_count": 11,
   "metadata": {},
   "outputs": [
    {
     "data": {
      "text/plain": [
       "33384"
      ]
     },
     "execution_count": 11,
     "metadata": {},
     "output_type": "execute_result"
    }
   ],
   "source": [
    "oct_2018 = pd.read_csv(oct_18_path, dtype=str)\n",
    "len(oct_2018)"
   ]
  },
  {
   "cell_type": "code",
   "execution_count": 12,
   "metadata": {},
   "outputs": [
    {
     "data": {
      "text/plain": [
       "5071"
      ]
     },
     "execution_count": 12,
     "metadata": {},
     "output_type": "execute_result"
    }
   ],
   "source": [
    "nov_2018 = pd.read_csv(nov_18_path, dtype=str)\n",
    "len(nov_2018)"
   ]
  },
  {
   "cell_type": "code",
   "execution_count": 13,
   "metadata": {},
   "outputs": [
    {
     "data": {
      "text/plain": [
       "412423"
      ]
     },
     "execution_count": 13,
     "metadata": {},
     "output_type": "execute_result"
    }
   ],
   "source": [
    "# Append frames\n",
    "nr_2018 = apr_2018.append(may_2018, ignore_index=True)\n",
    "nr_2018 = nr_2018.append(jun_2018, ignore_index=True)\n",
    "nr_2018 = nr_2018.append(jul_2018, ignore_index=True)\n",
    "nr_2018 = nr_2018.append(aug_2018, ignore_index=True)\n",
    "nr_2018 = nr_2018.append(sep_2018, ignore_index=True)\n",
    "nr_2018 = nr_2018.append(oct_2018, ignore_index=True)\n",
    "nr_2018 = nr_2018.append(nov_2018, ignore_index=True)\n",
    "len(nr_2018)"
   ]
  },
  {
   "cell_type": "code",
   "execution_count": 14,
   "metadata": {
    "scrolled": true
   },
   "outputs": [
    {
     "data": {
      "text/html": [
       "<div>\n",
       "<style scoped>\n",
       "    .dataframe tbody tr th:only-of-type {\n",
       "        vertical-align: middle;\n",
       "    }\n",
       "\n",
       "    .dataframe tbody tr th {\n",
       "        vertical-align: top;\n",
       "    }\n",
       "\n",
       "    .dataframe thead th {\n",
       "        text-align: right;\n",
       "    }\n",
       "</style>\n",
       "<table border=\"1\" class=\"dataframe\">\n",
       "  <thead>\n",
       "    <tr style=\"text-align: right;\">\n",
       "      <th></th>\n",
       "      <th>tripduration</th>\n",
       "      <th>start_time</th>\n",
       "      <th>end_time</th>\n",
       "      <th>start station id</th>\n",
       "      <th>start station name</th>\n",
       "      <th>start station latitude</th>\n",
       "      <th>start station longitude</th>\n",
       "      <th>end station id</th>\n",
       "      <th>end station name</th>\n",
       "      <th>end station latitude</th>\n",
       "      <th>end station longitude</th>\n",
       "      <th>bikeid</th>\n",
       "      <th>usertype</th>\n",
       "      <th>birth year</th>\n",
       "      <th>gender</th>\n",
       "      <th>bike type</th>\n",
       "    </tr>\n",
       "  </thead>\n",
       "  <tbody>\n",
       "    <tr>\n",
       "      <th>0</th>\n",
       "      <td>1373</td>\n",
       "      <td>2018-04-24 16:03:04.2700</td>\n",
       "      <td>2018-04-24 16:25:57.6010</td>\n",
       "      <td>170</td>\n",
       "      <td>Boom Island Park</td>\n",
       "      <td>44.99254</td>\n",
       "      <td>-93.270256</td>\n",
       "      <td>2</td>\n",
       "      <td>100 Main Street SE</td>\n",
       "      <td>44.984892</td>\n",
       "      <td>-93.256551</td>\n",
       "      <td>2</td>\n",
       "      <td>Customer</td>\n",
       "      <td>1969</td>\n",
       "      <td>0</td>\n",
       "      <td>Classic</td>\n",
       "    </tr>\n",
       "    <tr>\n",
       "      <th>1</th>\n",
       "      <td>1730</td>\n",
       "      <td>2018-04-24 16:38:40.5210</td>\n",
       "      <td>2018-04-24 17:07:31.1070</td>\n",
       "      <td>2</td>\n",
       "      <td>100 Main Street SE</td>\n",
       "      <td>44.984892</td>\n",
       "      <td>-93.256551</td>\n",
       "      <td>13</td>\n",
       "      <td>North 2nd Street &amp; 4th Ave N</td>\n",
       "      <td>44.986087</td>\n",
       "      <td>-93.272459</td>\n",
       "      <td>2</td>\n",
       "      <td>Customer</td>\n",
       "      <td>1969</td>\n",
       "      <td>0</td>\n",
       "      <td>Classic</td>\n",
       "    </tr>\n",
       "    <tr>\n",
       "      <th>2</th>\n",
       "      <td>547</td>\n",
       "      <td>2018-04-24 17:51:10.1450</td>\n",
       "      <td>2018-04-24 18:00:17.4510</td>\n",
       "      <td>13</td>\n",
       "      <td>North 2nd Street &amp; 4th Ave N</td>\n",
       "      <td>44.986087</td>\n",
       "      <td>-93.272459</td>\n",
       "      <td>94</td>\n",
       "      <td>Portland Ave &amp; Washington Ave</td>\n",
       "      <td>44.978209822323755</td>\n",
       "      <td>-93.26023042201996</td>\n",
       "      <td>2</td>\n",
       "      <td>Subscriber</td>\n",
       "      <td>1985</td>\n",
       "      <td>2</td>\n",
       "      <td>Classic</td>\n",
       "    </tr>\n",
       "    <tr>\n",
       "      <th>3</th>\n",
       "      <td>856</td>\n",
       "      <td>2018-04-24 18:50:05.7390</td>\n",
       "      <td>2018-04-24 19:04:22.0360</td>\n",
       "      <td>94</td>\n",
       "      <td>Portland Ave &amp; Washington Ave</td>\n",
       "      <td>44.978209822323755</td>\n",
       "      <td>-93.26023042201996</td>\n",
       "      <td>13</td>\n",
       "      <td>North 2nd Street &amp; 4th Ave N</td>\n",
       "      <td>44.986087</td>\n",
       "      <td>-93.272459</td>\n",
       "      <td>2</td>\n",
       "      <td>Subscriber</td>\n",
       "      <td>1985</td>\n",
       "      <td>2</td>\n",
       "      <td>Classic</td>\n",
       "    </tr>\n",
       "    <tr>\n",
       "      <th>4</th>\n",
       "      <td>455</td>\n",
       "      <td>2018-04-25 08:49:05.2720</td>\n",
       "      <td>2018-04-25 08:56:40.3060</td>\n",
       "      <td>13</td>\n",
       "      <td>North 2nd Street &amp; 4th Ave N</td>\n",
       "      <td>44.986087</td>\n",
       "      <td>-93.272459</td>\n",
       "      <td>43</td>\n",
       "      <td>Nicollet Mall &amp; 10th Street</td>\n",
       "      <td>44.973839</td>\n",
       "      <td>-93.274544</td>\n",
       "      <td>2</td>\n",
       "      <td>Subscriber</td>\n",
       "      <td>1988</td>\n",
       "      <td>1</td>\n",
       "      <td>Classic</td>\n",
       "    </tr>\n",
       "  </tbody>\n",
       "</table>\n",
       "</div>"
      ],
      "text/plain": [
       "  tripduration                start_time                  end_time  \\\n",
       "0         1373  2018-04-24 16:03:04.2700  2018-04-24 16:25:57.6010   \n",
       "1         1730  2018-04-24 16:38:40.5210  2018-04-24 17:07:31.1070   \n",
       "2          547  2018-04-24 17:51:10.1450  2018-04-24 18:00:17.4510   \n",
       "3          856  2018-04-24 18:50:05.7390  2018-04-24 19:04:22.0360   \n",
       "4          455  2018-04-25 08:49:05.2720  2018-04-25 08:56:40.3060   \n",
       "\n",
       "  start station id             start station name start station latitude  \\\n",
       "0              170               Boom Island Park               44.99254   \n",
       "1                2             100 Main Street SE              44.984892   \n",
       "2               13   North 2nd Street & 4th Ave N              44.986087   \n",
       "3               94  Portland Ave & Washington Ave     44.978209822323755   \n",
       "4               13   North 2nd Street & 4th Ave N              44.986087   \n",
       "\n",
       "  start station longitude end station id               end station name  \\\n",
       "0              -93.270256              2             100 Main Street SE   \n",
       "1              -93.256551             13   North 2nd Street & 4th Ave N   \n",
       "2              -93.272459             94  Portland Ave & Washington Ave   \n",
       "3      -93.26023042201996             13   North 2nd Street & 4th Ave N   \n",
       "4              -93.272459             43    Nicollet Mall & 10th Street   \n",
       "\n",
       "  end station latitude end station longitude bikeid    usertype birth year  \\\n",
       "0            44.984892            -93.256551      2    Customer       1969   \n",
       "1            44.986087            -93.272459      2    Customer       1969   \n",
       "2   44.978209822323755    -93.26023042201996      2  Subscriber       1985   \n",
       "3            44.986087            -93.272459      2  Subscriber       1985   \n",
       "4            44.973839            -93.274544      2  Subscriber       1988   \n",
       "\n",
       "  gender bike type  \n",
       "0      0   Classic  \n",
       "1      0   Classic  \n",
       "2      2   Classic  \n",
       "3      2   Classic  \n",
       "4      1   Classic  "
      ]
     },
     "execution_count": 14,
     "metadata": {},
     "output_type": "execute_result"
    }
   ],
   "source": [
    "nr_2018.head()"
   ]
  },
  {
   "cell_type": "code",
   "execution_count": 15,
   "metadata": {},
   "outputs": [],
   "source": [
    "# Fix dtypes - datetime\n",
    "nr_2018[\"start_time\"] = pd.to_datetime(nr_2018[\"start_time\"])\n",
    "nr_2018[\"end_time\"] = pd.to_datetime(nr_2018[\"end_time\"])"
   ]
  },
  {
   "cell_type": "code",
   "execution_count": 16,
   "metadata": {},
   "outputs": [],
   "source": [
    "# Fix dtypes - coordinates\n",
    "nr_2018[\"start station latitude\"] = nr_2018[\"start station latitude\"].astype(float)\n",
    "nr_2018[\"start station longitude\"] = nr_2018[\"start station longitude\"].astype(float)\n",
    "nr_2018[\"end station latitude\"] = nr_2018[\"end station latitude\"].astype(float)\n",
    "nr_2018[\"end station longitude\"] = nr_2018[\"end station longitude\"].astype(float)"
   ]
  },
  {
   "cell_type": "code",
   "execution_count": 17,
   "metadata": {},
   "outputs": [],
   "source": [
    "# Fix dtypes - numbers\n",
    "nr_2018[\"tripduration\"] = nr_2018[\"tripduration\"].astype(int)"
   ]
  },
  {
   "cell_type": "code",
   "execution_count": 18,
   "metadata": {},
   "outputs": [],
   "source": [
    "# Fix dtypes - strings\n",
    "nr_2018[\"start station id\"] = nr_2018[\"start station id\"].convert_dtypes()\n",
    "nr_2018[\"start station name\"] = nr_2018[\"start station name\"].convert_dtypes()\n",
    "nr_2018[\"end station id\"] = nr_2018[\"end station id\"].convert_dtypes()\n",
    "nr_2018[\"end station name\"] = nr_2018[\"end station name\"].convert_dtypes()\n",
    "nr_2018[\"usertype\"] = nr_2018[\"usertype\"].convert_dtypes()\n",
    "nr_2018[\"bike type\"] = nr_2018[\"bike type\"].convert_dtypes()"
   ]
  },
  {
   "cell_type": "code",
   "execution_count": 19,
   "metadata": {},
   "outputs": [
    {
     "data": {
      "text/plain": [
       "tripduration                        int32\n",
       "start_time                 datetime64[ns]\n",
       "end_time                   datetime64[ns]\n",
       "start station id                   string\n",
       "start station name                 string\n",
       "start station latitude            float64\n",
       "start station longitude           float64\n",
       "end station id                     string\n",
       "end station name                   string\n",
       "end station latitude              float64\n",
       "end station longitude             float64\n",
       "bikeid                             object\n",
       "usertype                           string\n",
       "birth year                         object\n",
       "gender                             object\n",
       "bike type                          string\n",
       "dtype: object"
      ]
     },
     "execution_count": 19,
     "metadata": {},
     "output_type": "execute_result"
    }
   ],
   "source": [
    "nr_2018.dtypes"
   ]
  },
  {
   "cell_type": "code",
   "execution_count": 20,
   "metadata": {},
   "outputs": [],
   "source": [
    "# Rename columns for universal format\n",
    "nr_2018.rename(columns={\"start_time\" : \"start_datetime\", \n",
    "                        \"start station name\" : \"start_station_name\", \n",
    "                        \"start station id\" : \"start_station_id\",\n",
    "                        \"end_time\" : \"end_datetime\",\n",
    "                        \"end station name\" : \"end_station_name\",\n",
    "                        \"end station id\" : \"end_station_id\",\n",
    "                        \"tripduration\" : \"total_duration_sec\",\n",
    "                        \"usertype\" : \"account_type\",\n",
    "                        \"start station latitude\" : \"start_station_lat\",\n",
    "                        \"start station longitude\" : \"start_station_lng\",\n",
    "                        \"end station latitude\" : \"end_station_lat\",\n",
    "                        \"end station longitude\" : \"end_station_lng\",\n",
    "                        \"bike type\" : \"bike_type\"}, \n",
    "              inplace=True)"
   ]
  },
  {
   "cell_type": "code",
   "execution_count": 21,
   "metadata": {},
   "outputs": [
    {
     "data": {
      "text/html": [
       "<div>\n",
       "<style scoped>\n",
       "    .dataframe tbody tr th:only-of-type {\n",
       "        vertical-align: middle;\n",
       "    }\n",
       "\n",
       "    .dataframe tbody tr th {\n",
       "        vertical-align: top;\n",
       "    }\n",
       "\n",
       "    .dataframe thead th {\n",
       "        text-align: right;\n",
       "    }\n",
       "</style>\n",
       "<table border=\"1\" class=\"dataframe\">\n",
       "  <thead>\n",
       "    <tr style=\"text-align: right;\">\n",
       "      <th></th>\n",
       "      <th>total_duration_sec</th>\n",
       "      <th>start_datetime</th>\n",
       "      <th>end_datetime</th>\n",
       "      <th>start_station_id</th>\n",
       "      <th>start_station_name</th>\n",
       "      <th>start_station_lat</th>\n",
       "      <th>start_station_lng</th>\n",
       "      <th>end_station_id</th>\n",
       "      <th>end_station_name</th>\n",
       "      <th>end_station_lat</th>\n",
       "      <th>end_station_lng</th>\n",
       "      <th>account_type</th>\n",
       "      <th>bike_type</th>\n",
       "    </tr>\n",
       "  </thead>\n",
       "  <tbody>\n",
       "    <tr>\n",
       "      <th>0</th>\n",
       "      <td>1373</td>\n",
       "      <td>2018-04-24 16:03:04.270</td>\n",
       "      <td>2018-04-24 16:25:57.601</td>\n",
       "      <td>170</td>\n",
       "      <td>Boom Island Park</td>\n",
       "      <td>44.992540</td>\n",
       "      <td>-93.270256</td>\n",
       "      <td>2</td>\n",
       "      <td>100 Main Street SE</td>\n",
       "      <td>44.984892</td>\n",
       "      <td>-93.256551</td>\n",
       "      <td>Customer</td>\n",
       "      <td>Classic</td>\n",
       "    </tr>\n",
       "    <tr>\n",
       "      <th>1</th>\n",
       "      <td>1730</td>\n",
       "      <td>2018-04-24 16:38:40.521</td>\n",
       "      <td>2018-04-24 17:07:31.107</td>\n",
       "      <td>2</td>\n",
       "      <td>100 Main Street SE</td>\n",
       "      <td>44.984892</td>\n",
       "      <td>-93.256551</td>\n",
       "      <td>13</td>\n",
       "      <td>North 2nd Street &amp; 4th Ave N</td>\n",
       "      <td>44.986087</td>\n",
       "      <td>-93.272459</td>\n",
       "      <td>Customer</td>\n",
       "      <td>Classic</td>\n",
       "    </tr>\n",
       "    <tr>\n",
       "      <th>2</th>\n",
       "      <td>547</td>\n",
       "      <td>2018-04-24 17:51:10.145</td>\n",
       "      <td>2018-04-24 18:00:17.451</td>\n",
       "      <td>13</td>\n",
       "      <td>North 2nd Street &amp; 4th Ave N</td>\n",
       "      <td>44.986087</td>\n",
       "      <td>-93.272459</td>\n",
       "      <td>94</td>\n",
       "      <td>Portland Ave &amp; Washington Ave</td>\n",
       "      <td>44.978210</td>\n",
       "      <td>-93.260230</td>\n",
       "      <td>Subscriber</td>\n",
       "      <td>Classic</td>\n",
       "    </tr>\n",
       "    <tr>\n",
       "      <th>3</th>\n",
       "      <td>856</td>\n",
       "      <td>2018-04-24 18:50:05.739</td>\n",
       "      <td>2018-04-24 19:04:22.036</td>\n",
       "      <td>94</td>\n",
       "      <td>Portland Ave &amp; Washington Ave</td>\n",
       "      <td>44.978210</td>\n",
       "      <td>-93.260230</td>\n",
       "      <td>13</td>\n",
       "      <td>North 2nd Street &amp; 4th Ave N</td>\n",
       "      <td>44.986087</td>\n",
       "      <td>-93.272459</td>\n",
       "      <td>Subscriber</td>\n",
       "      <td>Classic</td>\n",
       "    </tr>\n",
       "    <tr>\n",
       "      <th>4</th>\n",
       "      <td>455</td>\n",
       "      <td>2018-04-25 08:49:05.272</td>\n",
       "      <td>2018-04-25 08:56:40.306</td>\n",
       "      <td>13</td>\n",
       "      <td>North 2nd Street &amp; 4th Ave N</td>\n",
       "      <td>44.986087</td>\n",
       "      <td>-93.272459</td>\n",
       "      <td>43</td>\n",
       "      <td>Nicollet Mall &amp; 10th Street</td>\n",
       "      <td>44.973839</td>\n",
       "      <td>-93.274544</td>\n",
       "      <td>Subscriber</td>\n",
       "      <td>Classic</td>\n",
       "    </tr>\n",
       "  </tbody>\n",
       "</table>\n",
       "</div>"
      ],
      "text/plain": [
       "   total_duration_sec          start_datetime            end_datetime  \\\n",
       "0                1373 2018-04-24 16:03:04.270 2018-04-24 16:25:57.601   \n",
       "1                1730 2018-04-24 16:38:40.521 2018-04-24 17:07:31.107   \n",
       "2                 547 2018-04-24 17:51:10.145 2018-04-24 18:00:17.451   \n",
       "3                 856 2018-04-24 18:50:05.739 2018-04-24 19:04:22.036   \n",
       "4                 455 2018-04-25 08:49:05.272 2018-04-25 08:56:40.306   \n",
       "\n",
       "  start_station_id             start_station_name  start_station_lat  \\\n",
       "0              170               Boom Island Park          44.992540   \n",
       "1                2             100 Main Street SE          44.984892   \n",
       "2               13   North 2nd Street & 4th Ave N          44.986087   \n",
       "3               94  Portland Ave & Washington Ave          44.978210   \n",
       "4               13   North 2nd Street & 4th Ave N          44.986087   \n",
       "\n",
       "   start_station_lng end_station_id               end_station_name  \\\n",
       "0         -93.270256              2             100 Main Street SE   \n",
       "1         -93.256551             13   North 2nd Street & 4th Ave N   \n",
       "2         -93.272459             94  Portland Ave & Washington Ave   \n",
       "3         -93.260230             13   North 2nd Street & 4th Ave N   \n",
       "4         -93.272459             43    Nicollet Mall & 10th Street   \n",
       "\n",
       "   end_station_lat  end_station_lng account_type bike_type  \n",
       "0        44.984892       -93.256551     Customer   Classic  \n",
       "1        44.986087       -93.272459     Customer   Classic  \n",
       "2        44.978210       -93.260230   Subscriber   Classic  \n",
       "3        44.986087       -93.272459   Subscriber   Classic  \n",
       "4        44.973839       -93.274544   Subscriber   Classic  "
      ]
     },
     "execution_count": 21,
     "metadata": {},
     "output_type": "execute_result"
    }
   ],
   "source": [
    "# Drop unnecessary info\n",
    "nr_2018 = nr_2018.drop(columns=[\"bikeid\", \"birth year\", \"gender\"])\n",
    "nr_2018.head()"
   ]
  },
  {
   "cell_type": "code",
   "execution_count": 22,
   "metadata": {},
   "outputs": [],
   "source": [
    "nr_2018[\"account_type\"]=nr_2018[\"account_type\"].str.replace(\"Customer\", \"Casual\")\n",
    "nr_2018[\"account_type\"]=nr_2018['account_type'].str.replace(\"Subscriber\", \"Member\")"
   ]
  },
  {
   "cell_type": "code",
   "execution_count": 23,
   "metadata": {},
   "outputs": [
    {
     "data": {
      "text/html": [
       "<div>\n",
       "<style scoped>\n",
       "    .dataframe tbody tr th:only-of-type {\n",
       "        vertical-align: middle;\n",
       "    }\n",
       "\n",
       "    .dataframe tbody tr th {\n",
       "        vertical-align: top;\n",
       "    }\n",
       "\n",
       "    .dataframe thead th {\n",
       "        text-align: right;\n",
       "    }\n",
       "</style>\n",
       "<table border=\"1\" class=\"dataframe\">\n",
       "  <thead>\n",
       "    <tr style=\"text-align: right;\">\n",
       "      <th></th>\n",
       "      <th>total_duration_sec</th>\n",
       "      <th>start_datetime</th>\n",
       "      <th>end_datetime</th>\n",
       "      <th>start_station_id</th>\n",
       "      <th>start_station_name</th>\n",
       "      <th>start_station_lat</th>\n",
       "      <th>start_station_lng</th>\n",
       "      <th>end_station_id</th>\n",
       "      <th>end_station_name</th>\n",
       "      <th>end_station_lat</th>\n",
       "      <th>end_station_lng</th>\n",
       "      <th>account_type</th>\n",
       "      <th>bike_type</th>\n",
       "    </tr>\n",
       "  </thead>\n",
       "  <tbody>\n",
       "    <tr>\n",
       "      <th>0</th>\n",
       "      <td>2490</td>\n",
       "      <td>2018-04-12 08:49:49.855</td>\n",
       "      <td>2018-04-12 09:31:20.522</td>\n",
       "      <td>10</td>\n",
       "      <td>Midtown Exchange</td>\n",
       "      <td>44.948590</td>\n",
       "      <td>-93.260200</td>\n",
       "      <td>45</td>\n",
       "      <td>Franklin &amp; Portland</td>\n",
       "      <td>44.962841</td>\n",
       "      <td>-93.267521</td>\n",
       "      <td>Member</td>\n",
       "      <td>Classic</td>\n",
       "    </tr>\n",
       "    <tr>\n",
       "      <th>1</th>\n",
       "      <td>228</td>\n",
       "      <td>2018-04-12 09:29:22.149</td>\n",
       "      <td>2018-04-12 09:33:10.525</td>\n",
       "      <td>16</td>\n",
       "      <td>22nd Ave S &amp; Franklin Ave</td>\n",
       "      <td>44.962930</td>\n",
       "      <td>-93.241042</td>\n",
       "      <td>49</td>\n",
       "      <td>Franklin &amp; 28th Ave</td>\n",
       "      <td>44.962701</td>\n",
       "      <td>-93.230893</td>\n",
       "      <td>Member</td>\n",
       "      <td>Classic</td>\n",
       "    </tr>\n",
       "    <tr>\n",
       "      <th>2</th>\n",
       "      <td>80</td>\n",
       "      <td>2018-04-12 10:15:30.340</td>\n",
       "      <td>2018-04-12 10:16:51.143</td>\n",
       "      <td>21</td>\n",
       "      <td>Social Sciences</td>\n",
       "      <td>44.970639</td>\n",
       "      <td>-93.243552</td>\n",
       "      <td>209</td>\n",
       "      <td>Willey Hall</td>\n",
       "      <td>44.972404</td>\n",
       "      <td>-93.242891</td>\n",
       "      <td>Member</td>\n",
       "      <td>Classic</td>\n",
       "    </tr>\n",
       "    <tr>\n",
       "      <th>3</th>\n",
       "      <td>755</td>\n",
       "      <td>2018-04-12 11:02:00.775</td>\n",
       "      <td>2018-04-12 11:14:36.357</td>\n",
       "      <td>10</td>\n",
       "      <td>Midtown Exchange</td>\n",
       "      <td>44.948590</td>\n",
       "      <td>-93.260200</td>\n",
       "      <td>31</td>\n",
       "      <td>Hennepin County Government Center</td>\n",
       "      <td>44.976602</td>\n",
       "      <td>-93.266701</td>\n",
       "      <td>Member</td>\n",
       "      <td>Classic</td>\n",
       "    </tr>\n",
       "    <tr>\n",
       "      <th>4</th>\n",
       "      <td>850</td>\n",
       "      <td>2018-04-12 11:09:51.580</td>\n",
       "      <td>2018-04-12 11:24:02.195</td>\n",
       "      <td>18</td>\n",
       "      <td>Walker Art Center</td>\n",
       "      <td>44.967104</td>\n",
       "      <td>-93.289075</td>\n",
       "      <td>31</td>\n",
       "      <td>Hennepin County Government Center</td>\n",
       "      <td>44.976602</td>\n",
       "      <td>-93.266701</td>\n",
       "      <td>Member</td>\n",
       "      <td>Classic</td>\n",
       "    </tr>\n",
       "    <tr>\n",
       "      <th>...</th>\n",
       "      <td>...</td>\n",
       "      <td>...</td>\n",
       "      <td>...</td>\n",
       "      <td>...</td>\n",
       "      <td>...</td>\n",
       "      <td>...</td>\n",
       "      <td>...</td>\n",
       "      <td>...</td>\n",
       "      <td>...</td>\n",
       "      <td>...</td>\n",
       "      <td>...</td>\n",
       "      <td>...</td>\n",
       "      <td>...</td>\n",
       "    </tr>\n",
       "    <tr>\n",
       "      <th>412418</th>\n",
       "      <td>314</td>\n",
       "      <td>2018-11-17 20:53:18.470</td>\n",
       "      <td>2018-11-17 20:58:32.944</td>\n",
       "      <td>&lt;NA&gt;</td>\n",
       "      <td>&lt;NA&gt;</td>\n",
       "      <td>44.950000</td>\n",
       "      <td>-93.280000</td>\n",
       "      <td>&lt;NA&gt;</td>\n",
       "      <td>&lt;NA&gt;</td>\n",
       "      <td>44.960000</td>\n",
       "      <td>-93.280000</td>\n",
       "      <td>Casual</td>\n",
       "      <td>Dockless</td>\n",
       "    </tr>\n",
       "    <tr>\n",
       "      <th>412419</th>\n",
       "      <td>588</td>\n",
       "      <td>2018-11-17 21:06:47.418</td>\n",
       "      <td>2018-11-17 21:16:35.618</td>\n",
       "      <td>&lt;NA&gt;</td>\n",
       "      <td>&lt;NA&gt;</td>\n",
       "      <td>44.970000</td>\n",
       "      <td>-93.240000</td>\n",
       "      <td>&lt;NA&gt;</td>\n",
       "      <td>&lt;NA&gt;</td>\n",
       "      <td>44.990000</td>\n",
       "      <td>-93.230000</td>\n",
       "      <td>Casual</td>\n",
       "      <td>Dockless</td>\n",
       "    </tr>\n",
       "    <tr>\n",
       "      <th>412420</th>\n",
       "      <td>323</td>\n",
       "      <td>2018-11-17 21:47:30.035</td>\n",
       "      <td>2018-11-17 21:52:53.874</td>\n",
       "      <td>&lt;NA&gt;</td>\n",
       "      <td>&lt;NA&gt;</td>\n",
       "      <td>44.950000</td>\n",
       "      <td>-93.290000</td>\n",
       "      <td>&lt;NA&gt;</td>\n",
       "      <td>&lt;NA&gt;</td>\n",
       "      <td>44.950000</td>\n",
       "      <td>-93.300000</td>\n",
       "      <td>Casual</td>\n",
       "      <td>Dockless</td>\n",
       "    </tr>\n",
       "    <tr>\n",
       "      <th>412421</th>\n",
       "      <td>347</td>\n",
       "      <td>2018-11-17 23:13:49.125</td>\n",
       "      <td>2018-11-17 23:19:36.587</td>\n",
       "      <td>&lt;NA&gt;</td>\n",
       "      <td>&lt;NA&gt;</td>\n",
       "      <td>44.970000</td>\n",
       "      <td>-93.230000</td>\n",
       "      <td>&lt;NA&gt;</td>\n",
       "      <td>&lt;NA&gt;</td>\n",
       "      <td>44.980000</td>\n",
       "      <td>-93.240000</td>\n",
       "      <td>Casual</td>\n",
       "      <td>Dockless</td>\n",
       "    </tr>\n",
       "    <tr>\n",
       "      <th>412422</th>\n",
       "      <td>124464</td>\n",
       "      <td>2018-11-17 23:51:45.365</td>\n",
       "      <td>2018-11-19 10:26:09.952</td>\n",
       "      <td>&lt;NA&gt;</td>\n",
       "      <td>&lt;NA&gt;</td>\n",
       "      <td>44.960000</td>\n",
       "      <td>-93.280000</td>\n",
       "      <td>&lt;NA&gt;</td>\n",
       "      <td>&lt;NA&gt;</td>\n",
       "      <td>44.950000</td>\n",
       "      <td>-93.280000</td>\n",
       "      <td>Casual</td>\n",
       "      <td>Dockless</td>\n",
       "    </tr>\n",
       "  </tbody>\n",
       "</table>\n",
       "<p>412423 rows × 13 columns</p>\n",
       "</div>"
      ],
      "text/plain": [
       "        total_duration_sec          start_datetime            end_datetime  \\\n",
       "0                     2490 2018-04-12 08:49:49.855 2018-04-12 09:31:20.522   \n",
       "1                      228 2018-04-12 09:29:22.149 2018-04-12 09:33:10.525   \n",
       "2                       80 2018-04-12 10:15:30.340 2018-04-12 10:16:51.143   \n",
       "3                      755 2018-04-12 11:02:00.775 2018-04-12 11:14:36.357   \n",
       "4                      850 2018-04-12 11:09:51.580 2018-04-12 11:24:02.195   \n",
       "...                    ...                     ...                     ...   \n",
       "412418                 314 2018-11-17 20:53:18.470 2018-11-17 20:58:32.944   \n",
       "412419                 588 2018-11-17 21:06:47.418 2018-11-17 21:16:35.618   \n",
       "412420                 323 2018-11-17 21:47:30.035 2018-11-17 21:52:53.874   \n",
       "412421                 347 2018-11-17 23:13:49.125 2018-11-17 23:19:36.587   \n",
       "412422              124464 2018-11-17 23:51:45.365 2018-11-19 10:26:09.952   \n",
       "\n",
       "       start_station_id         start_station_name  start_station_lat  \\\n",
       "0                    10           Midtown Exchange          44.948590   \n",
       "1                    16  22nd Ave S & Franklin Ave          44.962930   \n",
       "2                    21            Social Sciences          44.970639   \n",
       "3                    10           Midtown Exchange          44.948590   \n",
       "4                    18          Walker Art Center          44.967104   \n",
       "...                 ...                        ...                ...   \n",
       "412418             <NA>                       <NA>          44.950000   \n",
       "412419             <NA>                       <NA>          44.970000   \n",
       "412420             <NA>                       <NA>          44.950000   \n",
       "412421             <NA>                       <NA>          44.970000   \n",
       "412422             <NA>                       <NA>          44.960000   \n",
       "\n",
       "        start_station_lng end_station_id                   end_station_name  \\\n",
       "0              -93.260200             45                Franklin & Portland   \n",
       "1              -93.241042             49                Franklin & 28th Ave   \n",
       "2              -93.243552            209                        Willey Hall   \n",
       "3              -93.260200             31  Hennepin County Government Center   \n",
       "4              -93.289075             31  Hennepin County Government Center   \n",
       "...                   ...            ...                                ...   \n",
       "412418         -93.280000           <NA>                               <NA>   \n",
       "412419         -93.240000           <NA>                               <NA>   \n",
       "412420         -93.290000           <NA>                               <NA>   \n",
       "412421         -93.230000           <NA>                               <NA>   \n",
       "412422         -93.280000           <NA>                               <NA>   \n",
       "\n",
       "        end_station_lat  end_station_lng account_type bike_type  \n",
       "0             44.962841       -93.267521       Member   Classic  \n",
       "1             44.962701       -93.230893       Member   Classic  \n",
       "2             44.972404       -93.242891       Member   Classic  \n",
       "3             44.976602       -93.266701       Member   Classic  \n",
       "4             44.976602       -93.266701       Member   Classic  \n",
       "...                 ...              ...          ...       ...  \n",
       "412418        44.960000       -93.280000       Casual  Dockless  \n",
       "412419        44.990000       -93.230000       Casual  Dockless  \n",
       "412420        44.950000       -93.300000       Casual  Dockless  \n",
       "412421        44.980000       -93.240000       Casual  Dockless  \n",
       "412422        44.950000       -93.280000       Casual  Dockless  \n",
       "\n",
       "[412423 rows x 13 columns]"
      ]
     },
     "execution_count": 23,
     "metadata": {},
     "output_type": "execute_result"
    }
   ],
   "source": [
    "# Re-sort by datetime\n",
    "nr_2018= nr_2018.sort_values([\"start_datetime\"], ignore_index=True)\n",
    "nr_2018"
   ]
  },
  {
   "cell_type": "code",
   "execution_count": 24,
   "metadata": {},
   "outputs": [],
   "source": [
    "## Export Combined .csv\n",
    "nr_2018.to_csv(path_or_buf=\"../Resources/Nice_ride_trip_history_2018_season.csv\", index=False)"
   ]
  },
  {
   "cell_type": "code",
   "execution_count": null,
   "metadata": {},
   "outputs": [],
   "source": [
    "# Create dataframe with all dockless bike info\n",
    "dockless2018_df = nr_2018.loc[pd.isna(nr_2018[\"start_station_id\"])]\n",
    "dockless2018_df"
   ]
  },
  {
   "cell_type": "code",
   "execution_count": null,
   "metadata": {},
   "outputs": [],
   "source": [
    "# Create dataframe with all stationed bike info\n",
    "docked2018_df = nr_2018.dropna(axis=0)\n",
    "docked2018_df"
   ]
  },
  {
   "cell_type": "code",
   "execution_count": null,
   "metadata": {},
   "outputs": [],
   "source": [
    "# Build a station location dataframe\n",
    "# Collect unique info\n",
    "\n",
    "station_id = docked2018_df.start_station_id.unique()\n",
    "station_name = docked2018_df.start_station_name.unique()\n",
    "station_lat = docked2018_df.start_station_lat.unique()\n",
    "station_lng = docked2018_df.start_station_lng.unique()\n",
    "\n",
    "station_id = list(station_id)\n",
    "station_name = list(station_name)\n",
    "station_lat = list(station_lat)\n",
    "station_lng = list(station_lng)\n",
    "\n",
    "print(len(station_id))\n",
    "print(len(station_name))\n",
    "print(len(station_lat))\n",
    "print(len(station_lng))"
   ]
  },
  {
   "cell_type": "code",
   "execution_count": null,
   "metadata": {},
   "outputs": [],
   "source": [
    "# Create df\n",
    "station_18 = pd.DataFrame({\"station_id\" : station_id,\n",
    "                           \"station_name\" : station_name,\n",
    "                           \"station_lat\" : station_lat,\n",
    "                           \"station_lng\" : station_lng})\n",
    "station_18"
   ]
  },
  {
   "cell_type": "code",
   "execution_count": null,
   "metadata": {},
   "outputs": [],
   "source": [
    "# Format station locations into sortable form\n",
    "station_18['station_id'] = station_18['station_id'].apply('{0:0>5}'.format)"
   ]
  },
  {
   "cell_type": "code",
   "execution_count": null,
   "metadata": {},
   "outputs": [],
   "source": [
    "# Sort by station id\n",
    "station_18.sort_values(by=\"station_id\", ignore_index=True, inplace=True)"
   ]
  },
  {
   "cell_type": "code",
   "execution_count": null,
   "metadata": {},
   "outputs": [],
   "source": [
    "station_18"
   ]
  },
  {
   "cell_type": "code",
   "execution_count": null,
   "metadata": {},
   "outputs": [],
   "source": [
    "# Export station list to .csv\n",
    "station_18.to_csv(path_or_buf=\"../Resources/Nice_ride_2018_station_locations.csv\", index=False)"
   ]
  }
 ],
 "metadata": {
  "kernelspec": {
   "display_name": "Python 3",
   "language": "python",
   "name": "python3"
  },
  "language_info": {
   "codemirror_mode": {
    "name": "ipython",
    "version": 3
   },
   "file_extension": ".py",
   "mimetype": "text/x-python",
   "name": "python",
   "nbconvert_exporter": "python",
   "pygments_lexer": "ipython3",
   "version": "3.6.10"
  }
 },
 "nbformat": 4,
 "nbformat_minor": 4
}
