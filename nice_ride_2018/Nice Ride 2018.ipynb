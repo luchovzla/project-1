{
 "cells": [
  {
   "cell_type": "code",
   "execution_count": 1,
   "metadata": {},
   "outputs": [],
   "source": [
    "#Dependencies\n",
    "import pandas as pd\n",
    "import numpy as np"
   ]
  },
  {
   "cell_type": "code",
   "execution_count": 2,
   "metadata": {},
   "outputs": [],
   "source": [
    "#Import CSV Files\n",
    "apr_18_path = \"201804-niceride-tripdata.csv\"\n",
    "may_18_path = \"201805-niceride-tripdata.csv\"\n",
    "jun_18_path = \"201806-niceride-tripdata.csv\"\n",
    "jul_18_path = \"201807-niceride-tripdata.csv\"\n",
    "aug_18_path = \"201808-niceride-tripdata.csv\"\n",
    "sep_18_path = \"201809-niceride-tripdata.csv\"\n",
    "oct_18_path = \"201810-niceride-tripdata.csv\"\n",
    "nov_18_path = \"201811-niceride-tripdata.csv\""
   ]
  },
  {
   "cell_type": "code",
   "execution_count": 3,
   "metadata": {},
   "outputs": [
    {
     "data": {
      "text/plain": [
       "18303"
      ]
     },
     "execution_count": 3,
     "metadata": {},
     "output_type": "execute_result"
    }
   ],
   "source": [
    "#Read data to df\n",
    "apr_2018 = pd.read_csv(apr_18_path, dtype=str)\n",
    "len(apr_2018)"
   ]
  },
  {
   "cell_type": "code",
   "execution_count": 4,
   "metadata": {},
   "outputs": [
    {
     "data": {
      "text/plain": [
       "66882"
      ]
     },
     "execution_count": 4,
     "metadata": {},
     "output_type": "execute_result"
    }
   ],
   "source": [
    "may_2018 = pd.read_csv(may_18_path, dtype=str)\n",
    "len(may_2018)"
   ]
  },
  {
   "cell_type": "code",
   "execution_count": 5,
   "metadata": {},
   "outputs": [
    {
     "data": {
      "text/plain": [
       "74349"
      ]
     },
     "execution_count": 5,
     "metadata": {},
     "output_type": "execute_result"
    }
   ],
   "source": [
    "jun_2018 = pd.read_csv(jun_18_path, dtype = str)\n",
    "len(jun_2018)"
   ]
  },
  {
   "cell_type": "code",
   "execution_count": 6,
   "metadata": {},
   "outputs": [
    {
     "data": {
      "text/plain": [
       "86008"
      ]
     },
     "execution_count": 6,
     "metadata": {},
     "output_type": "execute_result"
    }
   ],
   "source": [
    "jul_2018 = pd.read_csv(jul_18_path, dtype = str)\n",
    "len(jul_2018)"
   ]
  },
  {
   "cell_type": "code",
   "execution_count": 7,
   "metadata": {},
   "outputs": [
    {
     "data": {
      "text/plain": [
       "71734"
      ]
     },
     "execution_count": 7,
     "metadata": {},
     "output_type": "execute_result"
    }
   ],
   "source": [
    "aug_2018 = pd.read_csv(aug_18_path, dtype=str)\n",
    "len(aug_2018)"
   ]
  },
  {
   "cell_type": "code",
   "execution_count": 8,
   "metadata": {},
   "outputs": [
    {
     "data": {
      "text/plain": [
       "56692"
      ]
     },
     "execution_count": 8,
     "metadata": {},
     "output_type": "execute_result"
    }
   ],
   "source": [
    "sep_2018 = pd.read_csv(sep_18_path, dtype=str)\n",
    "len(sep_2018)"
   ]
  },
  {
   "cell_type": "code",
   "execution_count": 9,
   "metadata": {},
   "outputs": [
    {
     "data": {
      "text/plain": [
       "33384"
      ]
     },
     "execution_count": 9,
     "metadata": {},
     "output_type": "execute_result"
    }
   ],
   "source": [
    "oct_2018 = pd.read_csv(oct_18_path, dtype=str)\n",
    "len(oct_2018)"
   ]
  },
  {
   "cell_type": "code",
   "execution_count": 10,
   "metadata": {},
   "outputs": [
    {
     "data": {
      "text/plain": [
       "5071"
      ]
     },
     "execution_count": 10,
     "metadata": {},
     "output_type": "execute_result"
    }
   ],
   "source": [
    "nov_2018 = pd.read_csv(nov_18_path, dtype=str)\n",
    "len(nov_2018)"
   ]
  },
  {
   "cell_type": "code",
   "execution_count": 11,
   "metadata": {},
   "outputs": [
    {
     "data": {
      "text/plain": [
       "412423"
      ]
     },
     "execution_count": 11,
     "metadata": {},
     "output_type": "execute_result"
    }
   ],
   "source": [
    "# Append frames\n",
    "nr_2018 = apr_2018.append(may_2018, ignore_index=True)\n",
    "nr_2018 = nr_2018.append(jun_2018, ignore_index=True)\n",
    "nr_2018 = nr_2018.append(jul_2018, ignore_index=True)\n",
    "nr_2018 = nr_2018.append(aug_2018, ignore_index=True)\n",
    "nr_2018 = nr_2018.append(sep_2018, ignore_index=True)\n",
    "nr_2018 = nr_2018.append(oct_2018, ignore_index=True)\n",
    "nr_2018 = nr_2018.append(nov_2018, ignore_index=True)\n",
    "len(nr_2018)"
   ]
  },
  {
   "cell_type": "code",
   "execution_count": 16,
   "metadata": {},
   "outputs": [],
   "source": [
    "# Export Combined .csv\n",
    "nr_2018.to_csv(path_or_buf=\"../Input_Data/Nice_ride_trip_history_2018_season.csv\", index=False)"
   ]
  },
  {
   "cell_type": "code",
   "execution_count": null,
   "metadata": {},
   "outputs": [],
   "source": []
  }
 ],
 "metadata": {
  "kernelspec": {
   "display_name": "Python 3",
   "language": "python",
   "name": "python3"
  },
  "language_info": {
   "codemirror_mode": {
    "name": "ipython",
    "version": 3
   },
   "file_extension": ".py",
   "mimetype": "text/x-python",
   "name": "python",
   "nbconvert_exporter": "python",
   "pygments_lexer": "ipython3",
   "version": "3.6.10"
  }
 },
 "nbformat": 4,
 "nbformat_minor": 4
}
