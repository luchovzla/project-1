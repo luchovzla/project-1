{
 "cells": [
  {
   "cell_type": "code",
   "execution_count": 1,
   "metadata": {},
   "outputs": [],
   "source": [
    "#Dependencies\n",
    "import pandas as pd\n",
    "import numpy as np"
   ]
  },
  {
   "cell_type": "code",
   "execution_count": 2,
   "metadata": {},
   "outputs": [],
   "source": [
    "#Import CSV Files\n",
    "apr_18_path = \"201804-niceride-tripdata.csv\"\n",
    "may_18_path = \"201805-niceride-tripdata.csv\"\n",
    "jun_18_path = \"201806-niceride-tripdata.csv\"\n",
    "jul_18_path = \"201807-niceride-tripdata.csv\"\n",
    "aug_18_path = \"201808-niceride-tripdata.csv\"\n",
    "sep_18_path = \"201809-niceride-tripdata.csv\"\n",
    "oct_18_path = \"201810-niceride-tripdata.csv\"\n",
    "nov_18_path = \"201811-niceride-tripdata.csv\""
   ]
  },
  {
   "cell_type": "code",
   "execution_count": 3,
   "metadata": {},
   "outputs": [
    {
     "data": {
      "text/plain": [
       "18303"
      ]
     },
     "execution_count": 3,
     "metadata": {},
     "output_type": "execute_result"
    }
   ],
   "source": [
    "#Read data to df\n",
    "apr_2018 = pd.read_csv(apr_18_path, dtype=str)\n",
    "len(apr_2018)"
   ]
  },
  {
   "cell_type": "code",
   "execution_count": 4,
   "metadata": {},
   "outputs": [
    {
     "data": {
      "text/plain": [
       "66882"
      ]
     },
     "execution_count": 4,
     "metadata": {},
     "output_type": "execute_result"
    }
   ],
   "source": [
    "may_2018 = pd.read_csv(may_18_path, dtype=str)\n",
    "len(may_2018)"
   ]
  },
  {
   "cell_type": "code",
   "execution_count": 5,
   "metadata": {},
   "outputs": [
    {
     "data": {
      "text/plain": [
       "74349"
      ]
     },
     "execution_count": 5,
     "metadata": {},
     "output_type": "execute_result"
    }
   ],
   "source": [
    "jun_2018 = pd.read_csv(jun_18_path, dtype = str)\n",
    "len(jun_2018)"
   ]
  },
  {
   "cell_type": "code",
   "execution_count": 6,
   "metadata": {},
   "outputs": [
    {
     "data": {
      "text/plain": [
       "86008"
      ]
     },
     "execution_count": 6,
     "metadata": {},
     "output_type": "execute_result"
    }
   ],
   "source": [
    "jul_2018 = pd.read_csv(jul_18_path, dtype = str)\n",
    "len(jul_2018)"
   ]
  },
  {
   "cell_type": "code",
   "execution_count": 7,
   "metadata": {},
   "outputs": [
    {
     "data": {
      "text/plain": [
       "71734"
      ]
     },
     "execution_count": 7,
     "metadata": {},
     "output_type": "execute_result"
    }
   ],
   "source": [
    "aug_2018 = pd.read_csv(aug_18_path, dtype=str)\n",
    "len(aug_2018)"
   ]
  },
  {
   "cell_type": "code",
   "execution_count": 8,
   "metadata": {},
   "outputs": [
    {
     "data": {
      "text/plain": [
       "56692"
      ]
     },
     "execution_count": 8,
     "metadata": {},
     "output_type": "execute_result"
    }
   ],
   "source": [
    "sep_2018 = pd.read_csv(sep_18_path, dtype=str)\n",
    "len(sep_2018)"
   ]
  },
  {
   "cell_type": "code",
   "execution_count": 9,
   "metadata": {},
   "outputs": [
    {
     "data": {
      "text/plain": [
       "33384"
      ]
     },
     "execution_count": 9,
     "metadata": {},
     "output_type": "execute_result"
    }
   ],
   "source": [
    "oct_2018 = pd.read_csv(oct_18_path, dtype=str)\n",
    "len(oct_2018)"
   ]
  },
  {
   "cell_type": "code",
   "execution_count": 10,
   "metadata": {},
   "outputs": [
    {
     "data": {
      "text/plain": [
       "5071"
      ]
     },
     "execution_count": 10,
     "metadata": {},
     "output_type": "execute_result"
    }
   ],
   "source": [
    "nov_2018 = pd.read_csv(nov_18_path, dtype=str)\n",
    "len(nov_2018)"
   ]
  },
  {
   "cell_type": "code",
   "execution_count": 11,
   "metadata": {},
   "outputs": [
    {
     "data": {
      "text/plain": [
       "412423"
      ]
     },
     "execution_count": 11,
     "metadata": {},
     "output_type": "execute_result"
    }
   ],
   "source": [
    "# Append frames\n",
    "nr_2018 = apr_2018.append(may_2018, ignore_index=True)\n",
    "nr_2018 = nr_2018.append(jun_2018, ignore_index=True)\n",
    "nr_2018 = nr_2018.append(jul_2018, ignore_index=True)\n",
    "nr_2018 = nr_2018.append(aug_2018, ignore_index=True)\n",
    "nr_2018 = nr_2018.append(sep_2018, ignore_index=True)\n",
    "nr_2018 = nr_2018.append(oct_2018, ignore_index=True)\n",
    "nr_2018 = nr_2018.append(nov_2018, ignore_index=True)\n",
    "len(nr_2018)"
   ]
  },
  {
   "cell_type": "code",
   "execution_count": 13,
   "metadata": {
    "scrolled": true
   },
   "outputs": [
    {
     "data": {
      "text/html": [
       "<div>\n",
       "<style scoped>\n",
       "    .dataframe tbody tr th:only-of-type {\n",
       "        vertical-align: middle;\n",
       "    }\n",
       "\n",
       "    .dataframe tbody tr th {\n",
       "        vertical-align: top;\n",
       "    }\n",
       "\n",
       "    .dataframe thead th {\n",
       "        text-align: right;\n",
       "    }\n",
       "</style>\n",
       "<table border=\"1\" class=\"dataframe\">\n",
       "  <thead>\n",
       "    <tr style=\"text-align: right;\">\n",
       "      <th></th>\n",
       "      <th>tripduration</th>\n",
       "      <th>start_time</th>\n",
       "      <th>end_time</th>\n",
       "      <th>start station id</th>\n",
       "      <th>start station name</th>\n",
       "      <th>start station latitude</th>\n",
       "      <th>start station longitude</th>\n",
       "      <th>end station id</th>\n",
       "      <th>end station name</th>\n",
       "      <th>end station latitude</th>\n",
       "      <th>end station longitude</th>\n",
       "      <th>bikeid</th>\n",
       "      <th>usertype</th>\n",
       "      <th>birth year</th>\n",
       "      <th>gender</th>\n",
       "      <th>bike type</th>\n",
       "    </tr>\n",
       "  </thead>\n",
       "  <tbody>\n",
       "    <tr>\n",
       "      <th>0</th>\n",
       "      <td>1373</td>\n",
       "      <td>2018-04-24 16:03:04.2700</td>\n",
       "      <td>2018-04-24 16:25:57.6010</td>\n",
       "      <td>170</td>\n",
       "      <td>Boom Island Park</td>\n",
       "      <td>44.99254</td>\n",
       "      <td>-93.270256</td>\n",
       "      <td>2</td>\n",
       "      <td>100 Main Street SE</td>\n",
       "      <td>44.984892</td>\n",
       "      <td>-93.256551</td>\n",
       "      <td>2</td>\n",
       "      <td>Customer</td>\n",
       "      <td>1969</td>\n",
       "      <td>0</td>\n",
       "      <td>Classic</td>\n",
       "    </tr>\n",
       "    <tr>\n",
       "      <th>1</th>\n",
       "      <td>1730</td>\n",
       "      <td>2018-04-24 16:38:40.5210</td>\n",
       "      <td>2018-04-24 17:07:31.1070</td>\n",
       "      <td>2</td>\n",
       "      <td>100 Main Street SE</td>\n",
       "      <td>44.984892</td>\n",
       "      <td>-93.256551</td>\n",
       "      <td>13</td>\n",
       "      <td>North 2nd Street &amp; 4th Ave N</td>\n",
       "      <td>44.986087</td>\n",
       "      <td>-93.272459</td>\n",
       "      <td>2</td>\n",
       "      <td>Customer</td>\n",
       "      <td>1969</td>\n",
       "      <td>0</td>\n",
       "      <td>Classic</td>\n",
       "    </tr>\n",
       "    <tr>\n",
       "      <th>2</th>\n",
       "      <td>547</td>\n",
       "      <td>2018-04-24 17:51:10.1450</td>\n",
       "      <td>2018-04-24 18:00:17.4510</td>\n",
       "      <td>13</td>\n",
       "      <td>North 2nd Street &amp; 4th Ave N</td>\n",
       "      <td>44.986087</td>\n",
       "      <td>-93.272459</td>\n",
       "      <td>94</td>\n",
       "      <td>Portland Ave &amp; Washington Ave</td>\n",
       "      <td>44.978209822323755</td>\n",
       "      <td>-93.26023042201996</td>\n",
       "      <td>2</td>\n",
       "      <td>Subscriber</td>\n",
       "      <td>1985</td>\n",
       "      <td>2</td>\n",
       "      <td>Classic</td>\n",
       "    </tr>\n",
       "    <tr>\n",
       "      <th>3</th>\n",
       "      <td>856</td>\n",
       "      <td>2018-04-24 18:50:05.7390</td>\n",
       "      <td>2018-04-24 19:04:22.0360</td>\n",
       "      <td>94</td>\n",
       "      <td>Portland Ave &amp; Washington Ave</td>\n",
       "      <td>44.978209822323755</td>\n",
       "      <td>-93.26023042201996</td>\n",
       "      <td>13</td>\n",
       "      <td>North 2nd Street &amp; 4th Ave N</td>\n",
       "      <td>44.986087</td>\n",
       "      <td>-93.272459</td>\n",
       "      <td>2</td>\n",
       "      <td>Subscriber</td>\n",
       "      <td>1985</td>\n",
       "      <td>2</td>\n",
       "      <td>Classic</td>\n",
       "    </tr>\n",
       "    <tr>\n",
       "      <th>4</th>\n",
       "      <td>455</td>\n",
       "      <td>2018-04-25 08:49:05.2720</td>\n",
       "      <td>2018-04-25 08:56:40.3060</td>\n",
       "      <td>13</td>\n",
       "      <td>North 2nd Street &amp; 4th Ave N</td>\n",
       "      <td>44.986087</td>\n",
       "      <td>-93.272459</td>\n",
       "      <td>43</td>\n",
       "      <td>Nicollet Mall &amp; 10th Street</td>\n",
       "      <td>44.973839</td>\n",
       "      <td>-93.274544</td>\n",
       "      <td>2</td>\n",
       "      <td>Subscriber</td>\n",
       "      <td>1988</td>\n",
       "      <td>1</td>\n",
       "      <td>Classic</td>\n",
       "    </tr>\n",
       "  </tbody>\n",
       "</table>\n",
       "</div>"
      ],
      "text/plain": [
       "  tripduration                start_time                  end_time  \\\n",
       "0         1373  2018-04-24 16:03:04.2700  2018-04-24 16:25:57.6010   \n",
       "1         1730  2018-04-24 16:38:40.5210  2018-04-24 17:07:31.1070   \n",
       "2          547  2018-04-24 17:51:10.1450  2018-04-24 18:00:17.4510   \n",
       "3          856  2018-04-24 18:50:05.7390  2018-04-24 19:04:22.0360   \n",
       "4          455  2018-04-25 08:49:05.2720  2018-04-25 08:56:40.3060   \n",
       "\n",
       "  start station id             start station name start station latitude  \\\n",
       "0              170               Boom Island Park               44.99254   \n",
       "1                2             100 Main Street SE              44.984892   \n",
       "2               13   North 2nd Street & 4th Ave N              44.986087   \n",
       "3               94  Portland Ave & Washington Ave     44.978209822323755   \n",
       "4               13   North 2nd Street & 4th Ave N              44.986087   \n",
       "\n",
       "  start station longitude end station id               end station name  \\\n",
       "0              -93.270256              2             100 Main Street SE   \n",
       "1              -93.256551             13   North 2nd Street & 4th Ave N   \n",
       "2              -93.272459             94  Portland Ave & Washington Ave   \n",
       "3      -93.26023042201996             13   North 2nd Street & 4th Ave N   \n",
       "4              -93.272459             43    Nicollet Mall & 10th Street   \n",
       "\n",
       "  end station latitude end station longitude bikeid    usertype birth year  \\\n",
       "0            44.984892            -93.256551      2    Customer       1969   \n",
       "1            44.986087            -93.272459      2    Customer       1969   \n",
       "2   44.978209822323755    -93.26023042201996      2  Subscriber       1985   \n",
       "3            44.986087            -93.272459      2  Subscriber       1985   \n",
       "4            44.973839            -93.274544      2  Subscriber       1988   \n",
       "\n",
       "  gender bike type  \n",
       "0      0   Classic  \n",
       "1      0   Classic  \n",
       "2      2   Classic  \n",
       "3      2   Classic  \n",
       "4      1   Classic  "
      ]
     },
     "execution_count": 13,
     "metadata": {},
     "output_type": "execute_result"
    }
   ],
   "source": [
    "nr_2018.head()"
   ]
  },
  {
   "cell_type": "code",
   "execution_count": 14,
   "metadata": {},
   "outputs": [],
   "source": [
    "# Fix dtypes - datetime\n",
    "nr_2018[\"start_time\"] = pd.to_datetime(nr_2018[\"start_time\"])\n",
    "nr_2018[\"end_time\"] = pd.to_datetime(nr_2018[\"end_time\"])"
   ]
  },
  {
   "cell_type": "code",
   "execution_count": 16,
   "metadata": {},
   "outputs": [],
   "source": [
    "# Fix dtypes - coordinates\n",
    "nr_2018[\"start station latitude\"] = nr_2018[\"start station latitude\"].astype(float)\n",
    "nr_2018[\"start station longitude\"] = nr_2018[\"start station longitude\"].astype(float)\n",
    "nr_2018[\"end station latitude\"] = nr_2018[\"end station latitude\"].astype(float)\n",
    "nr_2018[\"end station longitude\"] = nr_2018[\"end station longitude\"].astype(float)"
   ]
  },
  {
   "cell_type": "code",
   "execution_count": 19,
   "metadata": {},
   "outputs": [],
   "source": [
    "# Fix dtypes - numbers\n",
    "nr_2018[\"tripduration\"] = nr_2018[\"tripduration\"].astype(int)"
   ]
  },
  {
   "cell_type": "code",
   "execution_count": 20,
   "metadata": {},
   "outputs": [],
   "source": [
    "# Export Combined .csv\n",
    "nr_2018.to_csv(path_or_buf=\"../Input_Data/Nice_ride_trip_history_2018_season.csv\", index=False)"
   ]
  },
  {
   "cell_type": "code",
   "execution_count": 21,
   "metadata": {},
   "outputs": [
    {
     "data": {
      "text/plain": [
       "array(['170', '2', '13', '94', '43', '167', '157', '153', '201', '180',\n",
       "       '160', '158', '93', '188', '61', '190', '209', '26', '38', '19',\n",
       "       '41', '62', '27', '17', '21', '208', '80', '7', '120', '28', '79',\n",
       "       '37', '105', '172', '171', '212', '196', '8', '56', '193', '66',\n",
       "       '59', '22', '3', '29', '154', '202', '174', '95', '214', '195',\n",
       "       '205', '211', '92', '206', '96', '36', '49', '10', '164', '210',\n",
       "       '74', '54', '189', '35', '9', '53', '102', '197', '97', '46', '60',\n",
       "       '149', '169', '112', '63', '52', '91', '198', '108', '207', '111',\n",
       "       '85', '15', '48', '30', '191', '16', '18', '118', '11', '162',\n",
       "       '81', '156', '219', '20', '148', '31', '39', '113', '34', '64',\n",
       "       '131', '12', '50', '51', '47', '88', '186', '147', '200', '194',\n",
       "       '55', '124', '98', '84', '14', '82', '83', '183', '159', '89',\n",
       "       '204', '177', '68', '107', '142', '104', '44', '69', '4', '123',\n",
       "       '217', '132', '146', '100', '126', '161', '192', '163', '140',\n",
       "       '115', '144', '90', '137', '45', '101', '65', '150', '6', '23',\n",
       "       '67', '128', '145', '106', '166', '77', '136', '139', '5', '216',\n",
       "       '165', '116', '133', '138', '203', '134', '135', '125', '122',\n",
       "       '42', '152', '99', '121', '110', '70', '109', '119', '130', '199',\n",
       "       '141', '87', '72', '127', '71', '114', '86', '213', '73', '75',\n",
       "       '184', '25', '173', '117', '223', '185', '222', '151', '24', '143',\n",
       "       '224', '225', '181', nan, '226'], dtype=object)"
      ]
     },
     "execution_count": 21,
     "metadata": {},
     "output_type": "execute_result"
    }
   ],
   "source": [
    "station_list = nr_2018[\"start station id\"].unique()\n",
    "station_list"
   ]
  },
  {
   "cell_type": "code",
   "execution_count": 22,
   "metadata": {},
   "outputs": [
    {
     "data": {
      "text/plain": [
       "205"
      ]
     },
     "execution_count": 22,
     "metadata": {},
     "output_type": "execute_result"
    }
   ],
   "source": [
    "len(station_list)"
   ]
  },
  {
   "cell_type": "code",
   "execution_count": 34,
   "metadata": {},
   "outputs": [],
   "source": [
    "dockless_df = nr_2018.loc[nr_2018[\"bike type\"] != \"Classic\"]"
   ]
  },
  {
   "cell_type": "code",
   "execution_count": 35,
   "metadata": {},
   "outputs": [
    {
     "data": {
      "text/html": [
       "<div>\n",
       "<style scoped>\n",
       "    .dataframe tbody tr th:only-of-type {\n",
       "        vertical-align: middle;\n",
       "    }\n",
       "\n",
       "    .dataframe tbody tr th {\n",
       "        vertical-align: top;\n",
       "    }\n",
       "\n",
       "    .dataframe thead th {\n",
       "        text-align: right;\n",
       "    }\n",
       "</style>\n",
       "<table border=\"1\" class=\"dataframe\">\n",
       "  <thead>\n",
       "    <tr style=\"text-align: right;\">\n",
       "      <th></th>\n",
       "      <th>tripduration</th>\n",
       "      <th>start_time</th>\n",
       "      <th>end_time</th>\n",
       "      <th>start station id</th>\n",
       "      <th>start station name</th>\n",
       "      <th>start station latitude</th>\n",
       "      <th>start station longitude</th>\n",
       "      <th>end station id</th>\n",
       "      <th>end station name</th>\n",
       "      <th>end station latitude</th>\n",
       "      <th>end station longitude</th>\n",
       "      <th>bikeid</th>\n",
       "      <th>usertype</th>\n",
       "      <th>birth year</th>\n",
       "      <th>gender</th>\n",
       "      <th>bike type</th>\n",
       "    </tr>\n",
       "  </thead>\n",
       "  <tbody>\n",
       "    <tr>\n",
       "      <th>317265</th>\n",
       "      <td>138</td>\n",
       "      <td>2018-08-14 13:59:29.809</td>\n",
       "      <td>2018-08-14 14:01:47.907</td>\n",
       "      <td>NaN</td>\n",
       "      <td>NaN</td>\n",
       "      <td>44.95</td>\n",
       "      <td>-93.22</td>\n",
       "      <td>NaN</td>\n",
       "      <td>NaN</td>\n",
       "      <td>44.95</td>\n",
       "      <td>-93.22</td>\n",
       "      <td>2072</td>\n",
       "      <td>Subscriber</td>\n",
       "      <td>1982</td>\n",
       "      <td>1</td>\n",
       "      <td>Dockless</td>\n",
       "    </tr>\n",
       "    <tr>\n",
       "      <th>317266</th>\n",
       "      <td>603</td>\n",
       "      <td>2018-08-16 16:58:18.469</td>\n",
       "      <td>2018-08-16 17:08:22.371</td>\n",
       "      <td>NaN</td>\n",
       "      <td>NaN</td>\n",
       "      <td>44.95</td>\n",
       "      <td>-93.22</td>\n",
       "      <td>NaN</td>\n",
       "      <td>NaN</td>\n",
       "      <td>44.95</td>\n",
       "      <td>-93.22</td>\n",
       "      <td>2072</td>\n",
       "      <td>Subscriber</td>\n",
       "      <td>1982</td>\n",
       "      <td>1</td>\n",
       "      <td>Dockless</td>\n",
       "    </tr>\n",
       "    <tr>\n",
       "      <th>317267</th>\n",
       "      <td>320</td>\n",
       "      <td>2018-08-16 10:56:44.424</td>\n",
       "      <td>2018-08-16 11:02:04.508</td>\n",
       "      <td>NaN</td>\n",
       "      <td>NaN</td>\n",
       "      <td>44.95</td>\n",
       "      <td>-93.22</td>\n",
       "      <td>NaN</td>\n",
       "      <td>NaN</td>\n",
       "      <td>44.95</td>\n",
       "      <td>-93.22</td>\n",
       "      <td>2073</td>\n",
       "      <td>Subscriber</td>\n",
       "      <td>1982</td>\n",
       "      <td>1</td>\n",
       "      <td>Dockless</td>\n",
       "    </tr>\n",
       "    <tr>\n",
       "      <th>317268</th>\n",
       "      <td>514</td>\n",
       "      <td>2018-08-16 11:07:19.527</td>\n",
       "      <td>2018-08-16 11:15:54.508</td>\n",
       "      <td>NaN</td>\n",
       "      <td>NaN</td>\n",
       "      <td>44.95</td>\n",
       "      <td>-93.22</td>\n",
       "      <td>NaN</td>\n",
       "      <td>NaN</td>\n",
       "      <td>44.95</td>\n",
       "      <td>-93.22</td>\n",
       "      <td>2073</td>\n",
       "      <td>Subscriber</td>\n",
       "      <td>1982</td>\n",
       "      <td>1</td>\n",
       "      <td>Dockless</td>\n",
       "    </tr>\n",
       "    <tr>\n",
       "      <th>317269</th>\n",
       "      <td>530</td>\n",
       "      <td>2018-08-16 11:24:27.207</td>\n",
       "      <td>2018-08-16 11:33:18.088</td>\n",
       "      <td>NaN</td>\n",
       "      <td>NaN</td>\n",
       "      <td>44.95</td>\n",
       "      <td>-93.22</td>\n",
       "      <td>NaN</td>\n",
       "      <td>NaN</td>\n",
       "      <td>44.95</td>\n",
       "      <td>-93.22</td>\n",
       "      <td>2073</td>\n",
       "      <td>Subscriber</td>\n",
       "      <td>1982</td>\n",
       "      <td>1</td>\n",
       "      <td>Dockless</td>\n",
       "    </tr>\n",
       "    <tr>\n",
       "      <th>...</th>\n",
       "      <td>...</td>\n",
       "      <td>...</td>\n",
       "      <td>...</td>\n",
       "      <td>...</td>\n",
       "      <td>...</td>\n",
       "      <td>...</td>\n",
       "      <td>...</td>\n",
       "      <td>...</td>\n",
       "      <td>...</td>\n",
       "      <td>...</td>\n",
       "      <td>...</td>\n",
       "      <td>...</td>\n",
       "      <td>...</td>\n",
       "      <td>...</td>\n",
       "      <td>...</td>\n",
       "      <td>...</td>\n",
       "    </tr>\n",
       "    <tr>\n",
       "      <th>412418</th>\n",
       "      <td>249</td>\n",
       "      <td>2018-11-13 00:07:32.499</td>\n",
       "      <td>2018-11-13 00:11:41.571</td>\n",
       "      <td>NaN</td>\n",
       "      <td>NaN</td>\n",
       "      <td>44.98</td>\n",
       "      <td>-93.23</td>\n",
       "      <td>NaN</td>\n",
       "      <td>NaN</td>\n",
       "      <td>44.98</td>\n",
       "      <td>-93.23</td>\n",
       "      <td>3340</td>\n",
       "      <td>Customer</td>\n",
       "      <td>1999</td>\n",
       "      <td>2</td>\n",
       "      <td>Dockless</td>\n",
       "    </tr>\n",
       "    <tr>\n",
       "      <th>412419</th>\n",
       "      <td>735</td>\n",
       "      <td>2018-11-01 12:38:59.308</td>\n",
       "      <td>2018-11-01 12:51:15.113</td>\n",
       "      <td>NaN</td>\n",
       "      <td>NaN</td>\n",
       "      <td>44.97</td>\n",
       "      <td>-93.28</td>\n",
       "      <td>NaN</td>\n",
       "      <td>NaN</td>\n",
       "      <td>44.98</td>\n",
       "      <td>-93.26</td>\n",
       "      <td>3341</td>\n",
       "      <td>Customer</td>\n",
       "      <td>1954</td>\n",
       "      <td>1</td>\n",
       "      <td>Dockless</td>\n",
       "    </tr>\n",
       "    <tr>\n",
       "      <th>412420</th>\n",
       "      <td>319</td>\n",
       "      <td>2018-11-02 08:15:17.232</td>\n",
       "      <td>2018-11-02 08:20:36.323</td>\n",
       "      <td>NaN</td>\n",
       "      <td>NaN</td>\n",
       "      <td>44.98</td>\n",
       "      <td>-93.26</td>\n",
       "      <td>NaN</td>\n",
       "      <td>NaN</td>\n",
       "      <td>44.99</td>\n",
       "      <td>-93.26</td>\n",
       "      <td>3341</td>\n",
       "      <td>Customer</td>\n",
       "      <td>1988</td>\n",
       "      <td>1</td>\n",
       "      <td>Dockless</td>\n",
       "    </tr>\n",
       "    <tr>\n",
       "      <th>412421</th>\n",
       "      <td>915</td>\n",
       "      <td>2018-11-02 16:53:34.665</td>\n",
       "      <td>2018-11-02 17:08:50.213</td>\n",
       "      <td>NaN</td>\n",
       "      <td>NaN</td>\n",
       "      <td>44.99</td>\n",
       "      <td>-93.26</td>\n",
       "      <td>NaN</td>\n",
       "      <td>NaN</td>\n",
       "      <td>44.97</td>\n",
       "      <td>-93.27</td>\n",
       "      <td>3341</td>\n",
       "      <td>Customer</td>\n",
       "      <td>1988</td>\n",
       "      <td>1</td>\n",
       "      <td>Dockless</td>\n",
       "    </tr>\n",
       "    <tr>\n",
       "      <th>412422</th>\n",
       "      <td>1711</td>\n",
       "      <td>2018-11-03 13:11:26.249</td>\n",
       "      <td>2018-11-03 13:39:57.311</td>\n",
       "      <td>NaN</td>\n",
       "      <td>NaN</td>\n",
       "      <td>44.97</td>\n",
       "      <td>-93.28</td>\n",
       "      <td>NaN</td>\n",
       "      <td>NaN</td>\n",
       "      <td>44.98</td>\n",
       "      <td>-93.24</td>\n",
       "      <td>3341</td>\n",
       "      <td>Customer</td>\n",
       "      <td>1994</td>\n",
       "      <td>2</td>\n",
       "      <td>Dockless</td>\n",
       "    </tr>\n",
       "  </tbody>\n",
       "</table>\n",
       "<p>13443 rows × 16 columns</p>\n",
       "</div>"
      ],
      "text/plain": [
       "        tripduration              start_time                end_time  \\\n",
       "317265           138 2018-08-14 13:59:29.809 2018-08-14 14:01:47.907   \n",
       "317266           603 2018-08-16 16:58:18.469 2018-08-16 17:08:22.371   \n",
       "317267           320 2018-08-16 10:56:44.424 2018-08-16 11:02:04.508   \n",
       "317268           514 2018-08-16 11:07:19.527 2018-08-16 11:15:54.508   \n",
       "317269           530 2018-08-16 11:24:27.207 2018-08-16 11:33:18.088   \n",
       "...              ...                     ...                     ...   \n",
       "412418           249 2018-11-13 00:07:32.499 2018-11-13 00:11:41.571   \n",
       "412419           735 2018-11-01 12:38:59.308 2018-11-01 12:51:15.113   \n",
       "412420           319 2018-11-02 08:15:17.232 2018-11-02 08:20:36.323   \n",
       "412421           915 2018-11-02 16:53:34.665 2018-11-02 17:08:50.213   \n",
       "412422          1711 2018-11-03 13:11:26.249 2018-11-03 13:39:57.311   \n",
       "\n",
       "       start station id start station name  start station latitude  \\\n",
       "317265              NaN                NaN                   44.95   \n",
       "317266              NaN                NaN                   44.95   \n",
       "317267              NaN                NaN                   44.95   \n",
       "317268              NaN                NaN                   44.95   \n",
       "317269              NaN                NaN                   44.95   \n",
       "...                 ...                ...                     ...   \n",
       "412418              NaN                NaN                   44.98   \n",
       "412419              NaN                NaN                   44.97   \n",
       "412420              NaN                NaN                   44.98   \n",
       "412421              NaN                NaN                   44.99   \n",
       "412422              NaN                NaN                   44.97   \n",
       "\n",
       "        start station longitude end station id end station name  \\\n",
       "317265                   -93.22            NaN              NaN   \n",
       "317266                   -93.22            NaN              NaN   \n",
       "317267                   -93.22            NaN              NaN   \n",
       "317268                   -93.22            NaN              NaN   \n",
       "317269                   -93.22            NaN              NaN   \n",
       "...                         ...            ...              ...   \n",
       "412418                   -93.23            NaN              NaN   \n",
       "412419                   -93.28            NaN              NaN   \n",
       "412420                   -93.26            NaN              NaN   \n",
       "412421                   -93.26            NaN              NaN   \n",
       "412422                   -93.28            NaN              NaN   \n",
       "\n",
       "        end station latitude  end station longitude bikeid    usertype  \\\n",
       "317265                 44.95                 -93.22   2072  Subscriber   \n",
       "317266                 44.95                 -93.22   2072  Subscriber   \n",
       "317267                 44.95                 -93.22   2073  Subscriber   \n",
       "317268                 44.95                 -93.22   2073  Subscriber   \n",
       "317269                 44.95                 -93.22   2073  Subscriber   \n",
       "...                      ...                    ...    ...         ...   \n",
       "412418                 44.98                 -93.23   3340    Customer   \n",
       "412419                 44.98                 -93.26   3341    Customer   \n",
       "412420                 44.99                 -93.26   3341    Customer   \n",
       "412421                 44.97                 -93.27   3341    Customer   \n",
       "412422                 44.98                 -93.24   3341    Customer   \n",
       "\n",
       "       birth year gender bike type  \n",
       "317265       1982      1  Dockless  \n",
       "317266       1982      1  Dockless  \n",
       "317267       1982      1  Dockless  \n",
       "317268       1982      1  Dockless  \n",
       "317269       1982      1  Dockless  \n",
       "...           ...    ...       ...  \n",
       "412418       1999      2  Dockless  \n",
       "412419       1954      1  Dockless  \n",
       "412420       1988      1  Dockless  \n",
       "412421       1988      1  Dockless  \n",
       "412422       1994      2  Dockless  \n",
       "\n",
       "[13443 rows x 16 columns]"
      ]
     },
     "execution_count": 35,
     "metadata": {},
     "output_type": "execute_result"
    }
   ],
   "source": [
    "dockless_df"
   ]
  },
  {
   "cell_type": "code",
   "execution_count": null,
   "metadata": {},
   "outputs": [],
   "source": []
  }
 ],
 "metadata": {
  "kernelspec": {
   "display_name": "Python 3",
   "language": "python",
   "name": "python3"
  },
  "language_info": {
   "codemirror_mode": {
    "name": "ipython",
    "version": 3
   },
   "file_extension": ".py",
   "mimetype": "text/x-python",
   "name": "python",
   "nbconvert_exporter": "python",
   "pygments_lexer": "ipython3",
   "version": "3.6.10"
  }
 },
 "nbformat": 4,
 "nbformat_minor": 4
}
