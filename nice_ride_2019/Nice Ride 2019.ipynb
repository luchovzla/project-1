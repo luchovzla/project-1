{
 "cells": [
  {
   "cell_type": "code",
   "execution_count": 1,
   "metadata": {},
   "outputs": [],
   "source": [
    "#Dependencies\n",
    "import pandas as pd\n",
    "import numpy as np"
   ]
  },
  {
   "cell_type": "code",
   "execution_count": 2,
   "metadata": {},
   "outputs": [],
   "source": [
    "#Import CSV Files\n",
    "apr_19_path = \"201904-niceride-tripdata.csv\"\n",
    "may_19_path = \"201905-niceride-tripdata.csv\"\n",
    "jun_19_path = \"201906-niceride-tripdata.csv\"\n",
    "jul_19_path = \"201907-niceride-tripdata.csv\"\n",
    "aug_19_path = \"201908-niceride-tripdata.csv\"\n",
    "sep_19_path = \"201909-niceride-tripdata.csv\"\n",
    "oct_19_path = \"201910-niceride-tripdata.csv\"\n",
    "nov_19_path = \"201911-niceride-tripdata.csv\""
   ]
  },
  {
   "cell_type": "code",
   "execution_count": 3,
   "metadata": {},
   "outputs": [
    {
     "data": {
      "text/plain": [
       "8483"
      ]
     },
     "execution_count": 3,
     "metadata": {},
     "output_type": "execute_result"
    }
   ],
   "source": [
    "#Read data to df\n",
    "apr_2019 = pd.read_csv(apr_19_path, dtype=str)\n",
    "len(apr_2019)"
   ]
  },
  {
   "cell_type": "code",
   "execution_count": 4,
   "metadata": {},
   "outputs": [
    {
     "data": {
      "text/plain": [
       "45684"
      ]
     },
     "execution_count": 4,
     "metadata": {},
     "output_type": "execute_result"
    }
   ],
   "source": [
    "may_2019 = pd.read_csv(may_19_path, dtype=str)\n",
    "len(may_2019)"
   ]
  },
  {
   "cell_type": "code",
   "execution_count": 5,
   "metadata": {},
   "outputs": [
    {
     "data": {
      "text/plain": [
       "65038"
      ]
     },
     "execution_count": 5,
     "metadata": {},
     "output_type": "execute_result"
    }
   ],
   "source": [
    "jun_2019 = pd.read_csv(jun_19_path, dtype = str)\n",
    "len(jun_2019)"
   ]
  },
  {
   "cell_type": "code",
   "execution_count": 6,
   "metadata": {},
   "outputs": [
    {
     "data": {
      "text/plain": [
       "75289"
      ]
     },
     "execution_count": 6,
     "metadata": {},
     "output_type": "execute_result"
    }
   ],
   "source": [
    "jul_2019 = pd.read_csv(jul_19_path, dtype = str)\n",
    "len(jul_2019)"
   ]
  },
  {
   "cell_type": "code",
   "execution_count": 7,
   "metadata": {},
   "outputs": [
    {
     "data": {
      "text/plain": [
       "72641"
      ]
     },
     "execution_count": 7,
     "metadata": {},
     "output_type": "execute_result"
    }
   ],
   "source": [
    "aug_2019 = pd.read_csv(aug_19_path, dtype=str)\n",
    "len(aug_2019)"
   ]
  },
  {
   "cell_type": "code",
   "execution_count": 8,
   "metadata": {},
   "outputs": [
    {
     "data": {
      "text/plain": [
       "52800"
      ]
     },
     "execution_count": 8,
     "metadata": {},
     "output_type": "execute_result"
    }
   ],
   "source": [
    "sep_2019 = pd.read_csv(sep_19_path, dtype=str)\n",
    "len(sep_2019)"
   ]
  },
  {
   "cell_type": "code",
   "execution_count": 9,
   "metadata": {},
   "outputs": [
    {
     "data": {
      "text/plain": [
       "29581"
      ]
     },
     "execution_count": 9,
     "metadata": {},
     "output_type": "execute_result"
    }
   ],
   "source": [
    "oct_2019 = pd.read_csv(oct_19_path, dtype=str)\n",
    "len(oct_2019)"
   ]
  },
  {
   "cell_type": "code",
   "execution_count": 10,
   "metadata": {},
   "outputs": [
    {
     "data": {
      "text/plain": [
       "9191"
      ]
     },
     "execution_count": 10,
     "metadata": {},
     "output_type": "execute_result"
    }
   ],
   "source": [
    "nov_2019 = pd.read_csv(nov_19_path, dtype=str)\n",
    "len(nov_2019)"
   ]
  },
  {
   "cell_type": "code",
   "execution_count": 11,
   "metadata": {},
   "outputs": [
    {
     "data": {
      "text/plain": [
       "358707"
      ]
     },
     "execution_count": 11,
     "metadata": {},
     "output_type": "execute_result"
    }
   ],
   "source": [
    "# Append frames\n",
    "nr_2019 = apr_2019.append(may_2019, ignore_index=True)\n",
    "nr_2019 = nr_2019.append(jun_2019, ignore_index=True)\n",
    "nr_2019 = nr_2019.append(jul_2019, ignore_index=True)\n",
    "nr_2019 = nr_2019.append(aug_2019, ignore_index=True)\n",
    "nr_2019 = nr_2019.append(sep_2019, ignore_index=True)\n",
    "nr_2019 = nr_2019.append(oct_2019, ignore_index=True)\n",
    "nr_2019 = nr_2019.append(nov_2019, ignore_index=True)\n",
    "len(nr_2019)"
   ]
  },
  {
   "cell_type": "code",
   "execution_count": 12,
   "metadata": {},
   "outputs": [
    {
     "data": {
      "text/html": [
       "<div>\n",
       "<style scoped>\n",
       "    .dataframe tbody tr th:only-of-type {\n",
       "        vertical-align: middle;\n",
       "    }\n",
       "\n",
       "    .dataframe tbody tr th {\n",
       "        vertical-align: top;\n",
       "    }\n",
       "\n",
       "    .dataframe thead th {\n",
       "        text-align: right;\n",
       "    }\n",
       "</style>\n",
       "<table border=\"1\" class=\"dataframe\">\n",
       "  <thead>\n",
       "    <tr style=\"text-align: right;\">\n",
       "      <th></th>\n",
       "      <th>tripduration</th>\n",
       "      <th>start_time</th>\n",
       "      <th>end_time</th>\n",
       "      <th>start station id</th>\n",
       "      <th>start station name</th>\n",
       "      <th>start station latitude</th>\n",
       "      <th>start station longitude</th>\n",
       "      <th>end station id</th>\n",
       "      <th>end station name</th>\n",
       "      <th>end station latitude</th>\n",
       "      <th>end station longitude</th>\n",
       "      <th>bikeid</th>\n",
       "      <th>usertype</th>\n",
       "      <th>birth year</th>\n",
       "      <th>gender</th>\n",
       "      <th>bike type</th>\n",
       "    </tr>\n",
       "  </thead>\n",
       "  <tbody>\n",
       "    <tr>\n",
       "      <th>0</th>\n",
       "      <td>3568</td>\n",
       "      <td>2019-04-22 09:03:33.7210</td>\n",
       "      <td>2019-04-22 10:03:02.6670</td>\n",
       "      <td>188</td>\n",
       "      <td>Sanford Hall</td>\n",
       "      <td>44.980831</td>\n",
       "      <td>-93.240282</td>\n",
       "      <td>190</td>\n",
       "      <td>Weisman Art Museum</td>\n",
       "      <td>44.973428353028844</td>\n",
       "      <td>-93.23731899261473</td>\n",
       "      <td>988</td>\n",
       "      <td>Subscriber</td>\n",
       "      <td>1998</td>\n",
       "      <td>2</td>\n",
       "      <td>Classic</td>\n",
       "    </tr>\n",
       "    <tr>\n",
       "      <th>1</th>\n",
       "      <td>223</td>\n",
       "      <td>2019-04-22 09:35:15.0170</td>\n",
       "      <td>2019-04-22 09:38:58.4050</td>\n",
       "      <td>188</td>\n",
       "      <td>Sanford Hall</td>\n",
       "      <td>44.980831</td>\n",
       "      <td>-93.240282</td>\n",
       "      <td>190</td>\n",
       "      <td>Weisman Art Museum</td>\n",
       "      <td>44.973428353028844</td>\n",
       "      <td>-93.23731899261473</td>\n",
       "      <td>1215</td>\n",
       "      <td>Subscriber</td>\n",
       "      <td>1997</td>\n",
       "      <td>1</td>\n",
       "      <td>Classic</td>\n",
       "    </tr>\n",
       "    <tr>\n",
       "      <th>2</th>\n",
       "      <td>563</td>\n",
       "      <td>2019-04-22 09:37:10.0810</td>\n",
       "      <td>2019-04-22 09:46:33.8910</td>\n",
       "      <td>94</td>\n",
       "      <td>Portland Ave &amp; Washington Ave</td>\n",
       "      <td>44.978209822323755</td>\n",
       "      <td>-93.26023042201996</td>\n",
       "      <td>62</td>\n",
       "      <td>Elliot Hall</td>\n",
       "      <td>44.97685</td>\n",
       "      <td>-93.23818</td>\n",
       "      <td>973</td>\n",
       "      <td>Customer</td>\n",
       "      <td>1989</td>\n",
       "      <td>1</td>\n",
       "      <td>Classic</td>\n",
       "    </tr>\n",
       "    <tr>\n",
       "      <th>3</th>\n",
       "      <td>10159</td>\n",
       "      <td>2019-04-22 09:50:10.6870</td>\n",
       "      <td>2019-04-22 12:39:29.8790</td>\n",
       "      <td>188</td>\n",
       "      <td>Sanford Hall</td>\n",
       "      <td>44.980831</td>\n",
       "      <td>-93.240282</td>\n",
       "      <td>188</td>\n",
       "      <td>Sanford Hall</td>\n",
       "      <td>44.980831</td>\n",
       "      <td>-93.240282</td>\n",
       "      <td>432</td>\n",
       "      <td>Subscriber</td>\n",
       "      <td>1998</td>\n",
       "      <td>2</td>\n",
       "      <td>Classic</td>\n",
       "    </tr>\n",
       "    <tr>\n",
       "      <th>4</th>\n",
       "      <td>407</td>\n",
       "      <td>2019-04-22 09:53:28.1690</td>\n",
       "      <td>2019-04-22 10:00:16.0340</td>\n",
       "      <td>94</td>\n",
       "      <td>Portland Ave &amp; Washington Ave</td>\n",
       "      <td>44.978209822323755</td>\n",
       "      <td>-93.26023042201996</td>\n",
       "      <td>95</td>\n",
       "      <td>Gateway Park</td>\n",
       "      <td>44.9825943</td>\n",
       "      <td>-93.2675139</td>\n",
       "      <td>1048</td>\n",
       "      <td>Customer</td>\n",
       "      <td>1983</td>\n",
       "      <td>2</td>\n",
       "      <td>Classic</td>\n",
       "    </tr>\n",
       "  </tbody>\n",
       "</table>\n",
       "</div>"
      ],
      "text/plain": [
       "  tripduration                start_time                  end_time  \\\n",
       "0         3568  2019-04-22 09:03:33.7210  2019-04-22 10:03:02.6670   \n",
       "1          223  2019-04-22 09:35:15.0170  2019-04-22 09:38:58.4050   \n",
       "2          563  2019-04-22 09:37:10.0810  2019-04-22 09:46:33.8910   \n",
       "3        10159  2019-04-22 09:50:10.6870  2019-04-22 12:39:29.8790   \n",
       "4          407  2019-04-22 09:53:28.1690  2019-04-22 10:00:16.0340   \n",
       "\n",
       "  start station id             start station name start station latitude  \\\n",
       "0              188                   Sanford Hall              44.980831   \n",
       "1              188                   Sanford Hall              44.980831   \n",
       "2               94  Portland Ave & Washington Ave     44.978209822323755   \n",
       "3              188                   Sanford Hall              44.980831   \n",
       "4               94  Portland Ave & Washington Ave     44.978209822323755   \n",
       "\n",
       "  start station longitude end station id    end station name  \\\n",
       "0              -93.240282            190  Weisman Art Museum   \n",
       "1              -93.240282            190  Weisman Art Museum   \n",
       "2      -93.26023042201996             62         Elliot Hall   \n",
       "3              -93.240282            188        Sanford Hall   \n",
       "4      -93.26023042201996             95        Gateway Park   \n",
       "\n",
       "  end station latitude end station longitude bikeid    usertype birth year  \\\n",
       "0   44.973428353028844    -93.23731899261473    988  Subscriber       1998   \n",
       "1   44.973428353028844    -93.23731899261473   1215  Subscriber       1997   \n",
       "2             44.97685             -93.23818    973    Customer       1989   \n",
       "3            44.980831            -93.240282    432  Subscriber       1998   \n",
       "4           44.9825943           -93.2675139   1048    Customer       1983   \n",
       "\n",
       "  gender bike type  \n",
       "0      2   Classic  \n",
       "1      1   Classic  \n",
       "2      1   Classic  \n",
       "3      2   Classic  \n",
       "4      2   Classic  "
      ]
     },
     "execution_count": 12,
     "metadata": {},
     "output_type": "execute_result"
    }
   ],
   "source": [
    "nr_2019.head()"
   ]
  },
  {
   "cell_type": "code",
   "execution_count": 13,
   "metadata": {},
   "outputs": [],
   "source": [
    "# Fix dtypes - datetime\n",
    "nr_2019[\"start_time\"] = pd.to_datetime(nr_2019[\"start_time\"])\n",
    "nr_2019[\"end_time\"] = pd.to_datetime(nr_2019[\"end_time\"])"
   ]
  },
  {
   "cell_type": "code",
   "execution_count": 14,
   "metadata": {},
   "outputs": [],
   "source": [
    "# Fix dtypes - coordinates\n",
    "nr_2019[\"start station latitude\"] = nr_2019[\"start station latitude\"].astype(float)\n",
    "nr_2019[\"start station longitude\"] = nr_2019[\"start station longitude\"].astype(float)\n",
    "nr_2019[\"end station latitude\"] = nr_2019[\"end station latitude\"].astype(float)\n",
    "nr_2019[\"end station longitude\"] = nr_2019[\"end station longitude\"].astype(float)"
   ]
  },
  {
   "cell_type": "code",
   "execution_count": 15,
   "metadata": {},
   "outputs": [],
   "source": [
    "# Fix dtypes - numbers\n",
    "nr_2019[\"tripduration\"] = nr_2019[\"tripduration\"].astype(int)"
   ]
  },
  {
   "cell_type": "code",
   "execution_count": 16,
   "metadata": {},
   "outputs": [],
   "source": [
    "# Export combined .csv\n",
    "nr_2019.to_csv(path_or_buf=\"../Input_data/Nice_ride_trip_history_2019_season.csv\", index=False)"
   ]
  },
  {
   "cell_type": "code",
   "execution_count": 18,
   "metadata": {},
   "outputs": [
    {
     "data": {
      "text/plain": [
       "array(['188', '94', '35', '210', '190', '191', '92', '192', '184', '27',\n",
       "       '26', '2', '120', '21', '68', '207', '209', '38', '177', '117',\n",
       "       '206', '54', '214', '211', '44', '31', '62', '113', '51', '56',\n",
       "       '9', '8', '198', '52', '193', '222', '195', '43', '91', '6', '30',\n",
       "       '36', '29', '95', '53', '61', '148', '45', '34', '10', '19', '196',\n",
       "       '23', '180', '13', '167', '15', '17', '102', '86', '12', '225',\n",
       "       '147', '208', '79', '67', '48', '18', '41', '170', '3', '65', '16',\n",
       "       '4', '37', '149', '189', '204', '159', '85', '183', '108', '20',\n",
       "       '150', nan, '59', '153', '50', '28', '98', '49', '212', '112',\n",
       "       '160', '202', '39', '63', '201', '157', '200', '154', '162', '22',\n",
       "       '174', '93', '7', '205', '156', '96', '216', '101', '164', '25',\n",
       "       '69', '197', '24', '55', '158', '199', '111', '163', '42', '14',\n",
       "       '161', '66', '99', '97', '100', '64', '60', '47', '71', '119',\n",
       "       '72', '169', '70', '73', '77', '165', '219', '118', '152', '74',\n",
       "       '5', '75', '194', '213', '223', '634', '635', '151', '648', '803',\n",
       "       '805', '804', '808', '809', '810', '806', '807', '822', '823',\n",
       "       '840', '841', '842', '847', '821', '860', '851', '859', '861',\n",
       "       '824', '862', '848', '226', '921', '922', '173', '930'],\n",
       "      dtype=object)"
      ]
     },
     "execution_count": 18,
     "metadata": {},
     "output_type": "execute_result"
    }
   ],
   "source": [
    "station_list = nr_2019[\"start station id\"].unique()\n",
    "station_list"
   ]
  },
  {
   "cell_type": "code",
   "execution_count": 19,
   "metadata": {},
   "outputs": [
    {
     "data": {
      "text/plain": [
       "179"
      ]
     },
     "execution_count": 19,
     "metadata": {},
     "output_type": "execute_result"
    }
   ],
   "source": [
    "len(station_list)"
   ]
  },
  {
   "cell_type": "code",
   "execution_count": 20,
   "metadata": {},
   "outputs": [
    {
     "data": {
      "text/html": [
       "<div>\n",
       "<style scoped>\n",
       "    .dataframe tbody tr th:only-of-type {\n",
       "        vertical-align: middle;\n",
       "    }\n",
       "\n",
       "    .dataframe tbody tr th {\n",
       "        vertical-align: top;\n",
       "    }\n",
       "\n",
       "    .dataframe thead th {\n",
       "        text-align: right;\n",
       "    }\n",
       "</style>\n",
       "<table border=\"1\" class=\"dataframe\">\n",
       "  <thead>\n",
       "    <tr style=\"text-align: right;\">\n",
       "      <th></th>\n",
       "      <th>tripduration</th>\n",
       "      <th>start_time</th>\n",
       "      <th>end_time</th>\n",
       "      <th>start station id</th>\n",
       "      <th>start station name</th>\n",
       "      <th>start station latitude</th>\n",
       "      <th>start station longitude</th>\n",
       "      <th>end station id</th>\n",
       "      <th>end station name</th>\n",
       "      <th>end station latitude</th>\n",
       "      <th>end station longitude</th>\n",
       "      <th>bikeid</th>\n",
       "      <th>usertype</th>\n",
       "      <th>birth year</th>\n",
       "      <th>gender</th>\n",
       "      <th>bike type</th>\n",
       "    </tr>\n",
       "  </thead>\n",
       "  <tbody>\n",
       "    <tr>\n",
       "      <th>352</th>\n",
       "      <td>1573</td>\n",
       "      <td>2019-04-23 11:30:08.969</td>\n",
       "      <td>2019-04-23 11:56:22.875</td>\n",
       "      <td>NaN</td>\n",
       "      <td>NaN</td>\n",
       "      <td>45.01</td>\n",
       "      <td>-93.29</td>\n",
       "      <td>NaN</td>\n",
       "      <td>NaN</td>\n",
       "      <td>44.98</td>\n",
       "      <td>-93.27</td>\n",
       "      <td>3247</td>\n",
       "      <td>Customer</td>\n",
       "      <td>1984</td>\n",
       "      <td>2</td>\n",
       "      <td>Dockless</td>\n",
       "    </tr>\n",
       "    <tr>\n",
       "      <th>359</th>\n",
       "      <td>195</td>\n",
       "      <td>2019-04-23 11:40:10.886</td>\n",
       "      <td>2019-04-23 11:43:26.277</td>\n",
       "      <td>NaN</td>\n",
       "      <td>NaN</td>\n",
       "      <td>44.98</td>\n",
       "      <td>-93.27</td>\n",
       "      <td>NaN</td>\n",
       "      <td>NaN</td>\n",
       "      <td>44.98</td>\n",
       "      <td>-93.26</td>\n",
       "      <td>2481</td>\n",
       "      <td>Customer</td>\n",
       "      <td>1964</td>\n",
       "      <td>1</td>\n",
       "      <td>Dockless</td>\n",
       "    </tr>\n",
       "    <tr>\n",
       "      <th>375</th>\n",
       "      <td>2886</td>\n",
       "      <td>2019-04-23 11:57:34.980</td>\n",
       "      <td>2019-04-23 12:45:41.487</td>\n",
       "      <td>NaN</td>\n",
       "      <td>NaN</td>\n",
       "      <td>44.98</td>\n",
       "      <td>-93.27</td>\n",
       "      <td>NaN</td>\n",
       "      <td>NaN</td>\n",
       "      <td>44.96</td>\n",
       "      <td>-93.24</td>\n",
       "      <td>3247</td>\n",
       "      <td>Customer</td>\n",
       "      <td>1984</td>\n",
       "      <td>2</td>\n",
       "      <td>Dockless</td>\n",
       "    </tr>\n",
       "    <tr>\n",
       "      <th>390</th>\n",
       "      <td>221</td>\n",
       "      <td>2019-04-23 12:15:23.720</td>\n",
       "      <td>2019-04-23 12:19:05.185</td>\n",
       "      <td>NaN</td>\n",
       "      <td>NaN</td>\n",
       "      <td>44.98</td>\n",
       "      <td>-93.26</td>\n",
       "      <td>NaN</td>\n",
       "      <td>NaN</td>\n",
       "      <td>44.98</td>\n",
       "      <td>-93.27</td>\n",
       "      <td>2481</td>\n",
       "      <td>Customer</td>\n",
       "      <td>1964</td>\n",
       "      <td>1</td>\n",
       "      <td>Dockless</td>\n",
       "    </tr>\n",
       "    <tr>\n",
       "      <th>408</th>\n",
       "      <td>3326</td>\n",
       "      <td>2019-04-23 12:29:08.389</td>\n",
       "      <td>2019-04-23 13:24:34.680</td>\n",
       "      <td>NaN</td>\n",
       "      <td>NaN</td>\n",
       "      <td>44.98</td>\n",
       "      <td>-93.27</td>\n",
       "      <td>NaN</td>\n",
       "      <td>NaN</td>\n",
       "      <td>44.98</td>\n",
       "      <td>-93.27</td>\n",
       "      <td>2442</td>\n",
       "      <td>Subscriber</td>\n",
       "      <td>1976</td>\n",
       "      <td>1</td>\n",
       "      <td>Dockless</td>\n",
       "    </tr>\n",
       "    <tr>\n",
       "      <th>...</th>\n",
       "      <td>...</td>\n",
       "      <td>...</td>\n",
       "      <td>...</td>\n",
       "      <td>...</td>\n",
       "      <td>...</td>\n",
       "      <td>...</td>\n",
       "      <td>...</td>\n",
       "      <td>...</td>\n",
       "      <td>...</td>\n",
       "      <td>...</td>\n",
       "      <td>...</td>\n",
       "      <td>...</td>\n",
       "      <td>...</td>\n",
       "      <td>...</td>\n",
       "      <td>...</td>\n",
       "      <td>...</td>\n",
       "    </tr>\n",
       "    <tr>\n",
       "      <th>358702</th>\n",
       "      <td>708</td>\n",
       "      <td>2019-11-30 21:03:17.466</td>\n",
       "      <td>2019-11-30 21:15:06.273</td>\n",
       "      <td>NaN</td>\n",
       "      <td>NaN</td>\n",
       "      <td>44.98</td>\n",
       "      <td>-93.26</td>\n",
       "      <td>NaN</td>\n",
       "      <td>NaN</td>\n",
       "      <td>44.98</td>\n",
       "      <td>-93.26</td>\n",
       "      <td>2428</td>\n",
       "      <td>Subscriber</td>\n",
       "      <td>1983</td>\n",
       "      <td>1</td>\n",
       "      <td>Dockless</td>\n",
       "    </tr>\n",
       "    <tr>\n",
       "      <th>358703</th>\n",
       "      <td>662</td>\n",
       "      <td>2019-11-30 22:00:37.126</td>\n",
       "      <td>2019-11-30 22:11:39.207</td>\n",
       "      <td>NaN</td>\n",
       "      <td>NaN</td>\n",
       "      <td>44.95</td>\n",
       "      <td>-93.32</td>\n",
       "      <td>NaN</td>\n",
       "      <td>NaN</td>\n",
       "      <td>44.95</td>\n",
       "      <td>-93.30</td>\n",
       "      <td>2734</td>\n",
       "      <td>Subscriber</td>\n",
       "      <td>1983</td>\n",
       "      <td>1</td>\n",
       "      <td>Dockless</td>\n",
       "    </tr>\n",
       "    <tr>\n",
       "      <th>358704</th>\n",
       "      <td>658</td>\n",
       "      <td>2019-11-30 22:08:13.295</td>\n",
       "      <td>2019-11-30 22:19:12.128</td>\n",
       "      <td>NaN</td>\n",
       "      <td>NaN</td>\n",
       "      <td>44.98</td>\n",
       "      <td>-93.26</td>\n",
       "      <td>NaN</td>\n",
       "      <td>NaN</td>\n",
       "      <td>44.97</td>\n",
       "      <td>-93.26</td>\n",
       "      <td>2626</td>\n",
       "      <td>Subscriber</td>\n",
       "      <td>1980</td>\n",
       "      <td>1</td>\n",
       "      <td>Dockless</td>\n",
       "    </tr>\n",
       "    <tr>\n",
       "      <th>358705</th>\n",
       "      <td>549</td>\n",
       "      <td>2019-11-30 23:15:00.528</td>\n",
       "      <td>2019-11-30 23:24:10.294</td>\n",
       "      <td>NaN</td>\n",
       "      <td>NaN</td>\n",
       "      <td>44.98</td>\n",
       "      <td>-93.23</td>\n",
       "      <td>NaN</td>\n",
       "      <td>NaN</td>\n",
       "      <td>44.98</td>\n",
       "      <td>-93.23</td>\n",
       "      <td>2224</td>\n",
       "      <td>Subscriber</td>\n",
       "      <td>1983</td>\n",
       "      <td>1</td>\n",
       "      <td>Dockless</td>\n",
       "    </tr>\n",
       "    <tr>\n",
       "      <th>358706</th>\n",
       "      <td>276</td>\n",
       "      <td>2019-11-30 23:39:39.693</td>\n",
       "      <td>2019-11-30 23:44:16.229</td>\n",
       "      <td>NaN</td>\n",
       "      <td>NaN</td>\n",
       "      <td>44.98</td>\n",
       "      <td>-93.23</td>\n",
       "      <td>NaN</td>\n",
       "      <td>NaN</td>\n",
       "      <td>44.98</td>\n",
       "      <td>-93.23</td>\n",
       "      <td>2982</td>\n",
       "      <td>Subscriber</td>\n",
       "      <td>1986</td>\n",
       "      <td>1</td>\n",
       "      <td>Dockless</td>\n",
       "    </tr>\n",
       "  </tbody>\n",
       "</table>\n",
       "<p>95538 rows × 16 columns</p>\n",
       "</div>"
      ],
      "text/plain": [
       "        tripduration              start_time                end_time  \\\n",
       "352             1573 2019-04-23 11:30:08.969 2019-04-23 11:56:22.875   \n",
       "359              195 2019-04-23 11:40:10.886 2019-04-23 11:43:26.277   \n",
       "375             2886 2019-04-23 11:57:34.980 2019-04-23 12:45:41.487   \n",
       "390              221 2019-04-23 12:15:23.720 2019-04-23 12:19:05.185   \n",
       "408             3326 2019-04-23 12:29:08.389 2019-04-23 13:24:34.680   \n",
       "...              ...                     ...                     ...   \n",
       "358702           708 2019-11-30 21:03:17.466 2019-11-30 21:15:06.273   \n",
       "358703           662 2019-11-30 22:00:37.126 2019-11-30 22:11:39.207   \n",
       "358704           658 2019-11-30 22:08:13.295 2019-11-30 22:19:12.128   \n",
       "358705           549 2019-11-30 23:15:00.528 2019-11-30 23:24:10.294   \n",
       "358706           276 2019-11-30 23:39:39.693 2019-11-30 23:44:16.229   \n",
       "\n",
       "       start station id start station name  start station latitude  \\\n",
       "352                 NaN                NaN                   45.01   \n",
       "359                 NaN                NaN                   44.98   \n",
       "375                 NaN                NaN                   44.98   \n",
       "390                 NaN                NaN                   44.98   \n",
       "408                 NaN                NaN                   44.98   \n",
       "...                 ...                ...                     ...   \n",
       "358702              NaN                NaN                   44.98   \n",
       "358703              NaN                NaN                   44.95   \n",
       "358704              NaN                NaN                   44.98   \n",
       "358705              NaN                NaN                   44.98   \n",
       "358706              NaN                NaN                   44.98   \n",
       "\n",
       "        start station longitude end station id end station name  \\\n",
       "352                      -93.29            NaN              NaN   \n",
       "359                      -93.27            NaN              NaN   \n",
       "375                      -93.27            NaN              NaN   \n",
       "390                      -93.26            NaN              NaN   \n",
       "408                      -93.27            NaN              NaN   \n",
       "...                         ...            ...              ...   \n",
       "358702                   -93.26            NaN              NaN   \n",
       "358703                   -93.32            NaN              NaN   \n",
       "358704                   -93.26            NaN              NaN   \n",
       "358705                   -93.23            NaN              NaN   \n",
       "358706                   -93.23            NaN              NaN   \n",
       "\n",
       "        end station latitude  end station longitude bikeid    usertype  \\\n",
       "352                    44.98                 -93.27   3247    Customer   \n",
       "359                    44.98                 -93.26   2481    Customer   \n",
       "375                    44.96                 -93.24   3247    Customer   \n",
       "390                    44.98                 -93.27   2481    Customer   \n",
       "408                    44.98                 -93.27   2442  Subscriber   \n",
       "...                      ...                    ...    ...         ...   \n",
       "358702                 44.98                 -93.26   2428  Subscriber   \n",
       "358703                 44.95                 -93.30   2734  Subscriber   \n",
       "358704                 44.97                 -93.26   2626  Subscriber   \n",
       "358705                 44.98                 -93.23   2224  Subscriber   \n",
       "358706                 44.98                 -93.23   2982  Subscriber   \n",
       "\n",
       "       birth year gender bike type  \n",
       "352          1984      2  Dockless  \n",
       "359          1964      1  Dockless  \n",
       "375          1984      2  Dockless  \n",
       "390          1964      1  Dockless  \n",
       "408          1976      1  Dockless  \n",
       "...           ...    ...       ...  \n",
       "358702       1983      1  Dockless  \n",
       "358703       1983      1  Dockless  \n",
       "358704       1980      1  Dockless  \n",
       "358705       1983      1  Dockless  \n",
       "358706       1986      1  Dockless  \n",
       "\n",
       "[95538 rows x 16 columns]"
      ]
     },
     "execution_count": 20,
     "metadata": {},
     "output_type": "execute_result"
    }
   ],
   "source": [
    "dockless_df = nr_2019.loc[nr_2019[\"bike type\"] != \"Classic\"]\n",
    "dockless_df"
   ]
  },
  {
   "cell_type": "code",
   "execution_count": null,
   "metadata": {},
   "outputs": [],
   "source": []
  }
 ],
 "metadata": {
  "kernelspec": {
   "display_name": "Python 3",
   "language": "python",
   "name": "python3"
  },
  "language_info": {
   "codemirror_mode": {
    "name": "ipython",
    "version": 3
   },
   "file_extension": ".py",
   "mimetype": "text/x-python",
   "name": "python",
   "nbconvert_exporter": "python",
   "pygments_lexer": "ipython3",
   "version": "3.6.10"
  }
 },
 "nbformat": 4,
 "nbformat_minor": 4
}
