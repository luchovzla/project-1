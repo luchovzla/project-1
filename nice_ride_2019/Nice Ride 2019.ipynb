{
 "cells": [
  {
   "cell_type": "code",
   "execution_count": 1,
   "metadata": {},
   "outputs": [],
   "source": [
    "#Dependencies\n",
    "import pandas as pd\n",
    "import numpy as np"
   ]
  },
  {
   "cell_type": "code",
   "execution_count": 2,
   "metadata": {},
   "outputs": [],
   "source": [
    "#Import CSV Files\n",
    "apr_19_path = \"201904-niceride-tripdata.csv\"\n",
    "may_19_path = \"201905-niceride-tripdata.csv\"\n",
    "jun_19_path = \"201906-niceride-tripdata.csv\"\n",
    "jul_19_path = \"201907-niceride-tripdata.csv\"\n",
    "aug_19_path = \"201908-niceride-tripdata.csv\"\n",
    "sep_19_path = \"201909-niceride-tripdata.csv\"\n",
    "oct_19_path = \"201910-niceride-tripdata.csv\"\n",
    "nov_19_path = \"201911-niceride-tripdata.csv\""
   ]
  },
  {
   "cell_type": "code",
   "execution_count": 3,
   "metadata": {},
   "outputs": [
    {
     "data": {
      "text/plain": [
       "8483"
      ]
     },
     "execution_count": 3,
     "metadata": {},
     "output_type": "execute_result"
    }
   ],
   "source": [
    "#Read data to df\n",
    "apr_2019 = pd.read_csv(apr_19_path, dtype=str)\n",
    "len(apr_2019)"
   ]
  },
  {
   "cell_type": "code",
   "execution_count": 4,
   "metadata": {},
   "outputs": [
    {
     "data": {
      "text/plain": [
       "45684"
      ]
     },
     "execution_count": 4,
     "metadata": {},
     "output_type": "execute_result"
    }
   ],
   "source": [
    "may_2019 = pd.read_csv(may_19_path, dtype=str)\n",
    "len(may_2019)"
   ]
  },
  {
   "cell_type": "code",
   "execution_count": 5,
   "metadata": {},
   "outputs": [
    {
     "data": {
      "text/plain": [
       "65038"
      ]
     },
     "execution_count": 5,
     "metadata": {},
     "output_type": "execute_result"
    }
   ],
   "source": [
    "jun_2019 = pd.read_csv(jun_19_path, dtype = str)\n",
    "len(jun_2019)"
   ]
  },
  {
   "cell_type": "code",
   "execution_count": 6,
   "metadata": {},
   "outputs": [
    {
     "data": {
      "text/plain": [
       "75289"
      ]
     },
     "execution_count": 6,
     "metadata": {},
     "output_type": "execute_result"
    }
   ],
   "source": [
    "jul_2019 = pd.read_csv(jul_19_path, dtype = str)\n",
    "len(jul_2019)"
   ]
  },
  {
   "cell_type": "code",
   "execution_count": 7,
   "metadata": {},
   "outputs": [
    {
     "data": {
      "text/plain": [
       "72641"
      ]
     },
     "execution_count": 7,
     "metadata": {},
     "output_type": "execute_result"
    }
   ],
   "source": [
    "aug_2019 = pd.read_csv(aug_19_path, dtype=str)\n",
    "len(aug_2019)"
   ]
  },
  {
   "cell_type": "code",
   "execution_count": 8,
   "metadata": {},
   "outputs": [
    {
     "data": {
      "text/plain": [
       "52800"
      ]
     },
     "execution_count": 8,
     "metadata": {},
     "output_type": "execute_result"
    }
   ],
   "source": [
    "sep_2019 = pd.read_csv(sep_19_path, dtype=str)\n",
    "len(sep_2019)"
   ]
  },
  {
   "cell_type": "code",
   "execution_count": 9,
   "metadata": {},
   "outputs": [
    {
     "data": {
      "text/plain": [
       "29581"
      ]
     },
     "execution_count": 9,
     "metadata": {},
     "output_type": "execute_result"
    }
   ],
   "source": [
    "oct_2019 = pd.read_csv(oct_19_path, dtype=str)\n",
    "len(oct_2019)"
   ]
  },
  {
   "cell_type": "code",
   "execution_count": 10,
   "metadata": {},
   "outputs": [
    {
     "data": {
      "text/plain": [
       "9191"
      ]
     },
     "execution_count": 10,
     "metadata": {},
     "output_type": "execute_result"
    }
   ],
   "source": [
    "nov_2019 = pd.read_csv(nov_19_path, dtype=str)\n",
    "len(nov_2019)"
   ]
  },
  {
   "cell_type": "code",
   "execution_count": 11,
   "metadata": {},
   "outputs": [
    {
     "data": {
      "text/plain": [
       "358707"
      ]
     },
     "execution_count": 11,
     "metadata": {},
     "output_type": "execute_result"
    }
   ],
   "source": [
    "# Append frames\n",
    "nr_2019 = apr_2019.append(may_2019, ignore_index=True)\n",
    "nr_2019 = nr_2019.append(jun_2019, ignore_index=True)\n",
    "nr_2019 = nr_2019.append(jul_2019, ignore_index=True)\n",
    "nr_2019 = nr_2019.append(aug_2019, ignore_index=True)\n",
    "nr_2019 = nr_2019.append(sep_2019, ignore_index=True)\n",
    "nr_2019 = nr_2019.append(oct_2019, ignore_index=True)\n",
    "nr_2019 = nr_2019.append(nov_2019, ignore_index=True)\n",
    "len(nr_2019)"
   ]
  },
  {
   "cell_type": "code",
   "execution_count": 12,
   "metadata": {},
   "outputs": [],
   "source": [
    "# Export combined .csv\n",
    "nr_2019.to_csv(path_or_buf=\"../Input_data/Nice_ride_trip_history_2019_season.csv\", index=False)"
   ]
  },
  {
   "cell_type": "code",
   "execution_count": null,
   "metadata": {},
   "outputs": [],
   "source": []
  }
 ],
 "metadata": {
  "kernelspec": {
   "display_name": "Python 3",
   "language": "python",
   "name": "python3"
  },
  "language_info": {
   "codemirror_mode": {
    "name": "ipython",
    "version": 3
   },
   "file_extension": ".py",
   "mimetype": "text/x-python",
   "name": "python",
   "nbconvert_exporter": "python",
   "pygments_lexer": "ipython3",
   "version": "3.6.10"
  }
 },
 "nbformat": 4,
 "nbformat_minor": 4
}
