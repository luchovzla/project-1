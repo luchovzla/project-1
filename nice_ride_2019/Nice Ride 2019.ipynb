{
 "cells": [
  {
   "cell_type": "code",
   "execution_count": null,
   "metadata": {},
   "outputs": [],
   "source": [
    "#Dependencies\n",
    "import pandas as pd\n",
    "import numpy as np"
   ]
  },
  {
   "cell_type": "code",
   "execution_count": null,
   "metadata": {},
   "outputs": [],
   "source": [
    "#Import CSV Files\n",
    "apr_19_path = \"201904-niceride-tripdata.csv\"\n",
    "may_19_path = \"201905-niceride-tripdata.csv\"\n",
    "jun_19_path = \"201906-niceride-tripdata.csv\"\n",
    "jul_19_path = \"201907-niceride-tripdata.csv\"\n",
    "aug_19_path = \"201908-niceride-tripdata.csv\"\n",
    "sep_19_path = \"201909-niceride-tripdata.csv\"\n",
    "oct_19_path = \"201910-niceride-tripdata.csv\"\n",
    "nov_19_path = \"201911-niceride-tripdata.csv\""
   ]
  },
  {
   "cell_type": "code",
   "execution_count": null,
   "metadata": {},
   "outputs": [],
   "source": [
    "#Read data to df\n",
    "apr_2019 = pd.read_csv(apr_19_path, dtype=str)\n",
    "len(apr_2019)"
   ]
  },
  {
   "cell_type": "code",
   "execution_count": null,
   "metadata": {},
   "outputs": [],
   "source": [
    "may_2019 = pd.read_csv(may_19_path, dtype=str)\n",
    "len(may_2019)"
   ]
  },
  {
   "cell_type": "code",
   "execution_count": null,
   "metadata": {},
   "outputs": [],
   "source": [
    "jun_2019 = pd.read_csv(jun_19_path, dtype = str)\n",
    "len(jun_2019)"
   ]
  },
  {
   "cell_type": "code",
   "execution_count": null,
   "metadata": {},
   "outputs": [],
   "source": [
    "jul_2019 = pd.read_csv(jul_19_path, dtype = str)\n",
    "len(jul_2019)"
   ]
  },
  {
   "cell_type": "code",
   "execution_count": null,
   "metadata": {},
   "outputs": [],
   "source": [
    "aug_2019 = pd.read_csv(aug_19_path, dtype=str)\n",
    "len(aug_2019)"
   ]
  },
  {
   "cell_type": "code",
   "execution_count": null,
   "metadata": {},
   "outputs": [],
   "source": [
    "sep_2019 = pd.read_csv(sep_19_path, dtype=str)\n",
    "len(sep_2019)"
   ]
  },
  {
   "cell_type": "code",
   "execution_count": null,
   "metadata": {},
   "outputs": [],
   "source": [
    "oct_2019 = pd.read_csv(oct_19_path, dtype=str)\n",
    "len(oct_2019)"
   ]
  },
  {
   "cell_type": "code",
   "execution_count": null,
   "metadata": {},
   "outputs": [],
   "source": [
    "nov_2019 = pd.read_csv(nov_19_path, dtype=str)\n",
    "len(nov_2019)"
   ]
  },
  {
   "cell_type": "code",
   "execution_count": null,
   "metadata": {},
   "outputs": [],
   "source": [
    "# Append frames\n",
    "nr_2019 = apr_2019.append(may_2019, ignore_index=True)\n",
    "nr_2019 = nr_2019.append(jun_2019, ignore_index=True)\n",
    "nr_2019 = nr_2019.append(jul_2019, ignore_index=True)\n",
    "nr_2019 = nr_2019.append(aug_2019, ignore_index=True)\n",
    "nr_2019 = nr_2019.append(sep_2019, ignore_index=True)\n",
    "nr_2019 = nr_2019.append(oct_2019, ignore_index=True)\n",
    "nr_2019 = nr_2019.append(nov_2019, ignore_index=True)\n",
    "len(nr_2019)"
   ]
  },
  {
   "cell_type": "code",
   "execution_count": null,
   "metadata": {},
   "outputs": [],
   "source": [
    "nr_2019.head()"
   ]
  },
  {
   "cell_type": "code",
   "execution_count": null,
   "metadata": {},
   "outputs": [],
   "source": [
    "# Fix dtypes - datetime\n",
    "nr_2019[\"start_time\"] = pd.to_datetime(nr_2019[\"start_time\"])\n",
    "nr_2019[\"end_time\"] = pd.to_datetime(nr_2019[\"end_time\"])"
   ]
  },
  {
   "cell_type": "code",
   "execution_count": null,
   "metadata": {},
   "outputs": [],
   "source": [
    "# Fix dtypes - coordinates\n",
    "nr_2019[\"start station latitude\"] = nr_2019[\"start station latitude\"].astype(float)\n",
    "nr_2019[\"start station longitude\"] = nr_2019[\"start station longitude\"].astype(float)\n",
    "nr_2019[\"end station latitude\"] = nr_2019[\"end station latitude\"].astype(float)\n",
    "nr_2019[\"end station longitude\"] = nr_2019[\"end station longitude\"].astype(float)"
   ]
  },
  {
   "cell_type": "code",
   "execution_count": null,
   "metadata": {},
   "outputs": [],
   "source": [
    "# Fix dtypes - numbers\n",
    "nr_2019[\"tripduration\"] = nr_2019[\"tripduration\"].astype(int)"
   ]
  },
  {
   "cell_type": "code",
   "execution_count": null,
   "metadata": {},
   "outputs": [],
   "source": [
    "# Fix dtypes - strings\n",
    "nr_2019[\"start station id\"] = nr_2019[\"start station id\"].convert_dtypes()\n",
    "nr_2019[\"start station name\"] = nr_2019[\"start station name\"].convert_dtypes()\n",
    "nr_2019[\"end station id\"] = nr_2019[\"end station id\"].convert_dtypes()\n",
    "nr_2019[\"end station name\"] = nr_2019[\"end station name\"].convert_dtypes()\n",
    "nr_2019[\"usertype\"] = nr_2019[\"usertype\"].convert_dtypes()\n",
    "nr_2019[\"bike type\"] = nr_2019[\"bike type\"].convert_dtypes()"
   ]
  },
  {
   "cell_type": "code",
   "execution_count": null,
   "metadata": {},
   "outputs": [],
   "source": [
    "nr_2019.rename(columns={\"start_time\" : \"start_datetime\", \n",
    "                        \"start station name\" : \"start_station_name\", \n",
    "                        \"start station id\" : \"start_station_id\",\n",
    "                        \"end_time\" : \"end_datetime\",\n",
    "                        \"end station name\" : \"end_station_name\",\n",
    "                        \"end station id\" : \"end_station_id\",\n",
    "                        \"tripduration\" : \"total_duration_sec\",\n",
    "                        \"usertype\" : \"account_type\",\n",
    "                        \"start station latitude\" : \"start_station_lat\",\n",
    "                        \"start station longitude\" : \"start_station_lng\",\n",
    "                        \"end station latitude\" : \"end_station_lat\",\n",
    "                        \"end station longitude\" : \"end_station_lng\",\n",
    "                        \"bike type\" : \"bike_type\"}, \n",
    "              inplace=True)"
   ]
  },
  {
   "cell_type": "code",
   "execution_count": null,
   "metadata": {},
   "outputs": [],
   "source": [
    "# Drop unneeded columns\n",
    "nr_2019 = nr_2019.drop(columns=[\"bikeid\", \"birth year\", \"gender\"])\n",
    "nr_2019.head()"
   ]
  },
  {
   "cell_type": "code",
   "execution_count": null,
   "metadata": {},
   "outputs": [],
   "source": [
    "nr_2019[\"account_type\"]=nr_2019[\"account_type\"].str.replace(\"Customer\", \"Casual\")\n",
    "nr_2019[\"account_type\"]=nr_2019['account_type'].str.replace(\"Subscriber\", \"Member\")"
   ]
  },
  {
   "cell_type": "code",
   "execution_count": null,
   "metadata": {},
   "outputs": [],
   "source": [
    "nr_2019.head()"
   ]
  },
  {
   "cell_type": "code",
   "execution_count": null,
   "metadata": {},
   "outputs": [],
   "source": [
    "# Re-sort by datetime\n",
    "nr_2019= nr_2019.sort_values([\"start_datetime\"], ignore_index=True)\n",
    "nr_2019"
   ]
  },
  {
   "cell_type": "code",
   "execution_count": null,
   "metadata": {},
   "outputs": [],
   "source": [
    "# Export combined .csv\n",
    "nr_2019.to_csv(path_or_buf=\"../Resources/Nice_ride_trip_history_2019_season.csv\", index=False)"
   ]
  },
  {
   "cell_type": "code",
   "execution_count": null,
   "metadata": {},
   "outputs": [],
   "source": [
    "nr_2019.isnull().sum()"
   ]
  },
  {
   "cell_type": "code",
   "execution_count": null,
   "metadata": {},
   "outputs": [],
   "source": [
    "# Create dataframe with all dockless bike info\n",
    "dockless2019_df = nr_2019.loc[nr_2019[\"bike_type\"] == \"Dockless\"]\n",
    "dockless2019_df"
   ]
  },
  {
   "cell_type": "code",
   "execution_count": null,
   "metadata": {},
   "outputs": [],
   "source": [
    "# Create dataframe with all stationed bike info\n",
    "docked2019_df = nr_2019.loc[nr_2019[\"bike_type\"] != \"Dockless\"]\n",
    "len(docked2019_df)"
   ]
  },
  {
   "cell_type": "code",
   "execution_count": null,
   "metadata": {},
   "outputs": [],
   "source": [
    "docked2019_df.head()"
   ]
  },
  {
   "cell_type": "code",
   "execution_count": null,
   "metadata": {},
   "outputs": [],
   "source": []
  }
 ],
 "metadata": {
  "kernelspec": {
   "display_name": "Python 3",
   "language": "python",
   "name": "python3"
  },
  "language_info": {
   "codemirror_mode": {
    "name": "ipython",
    "version": 3
   },
   "file_extension": ".py",
   "mimetype": "text/x-python",
   "name": "python",
   "nbconvert_exporter": "python",
   "pygments_lexer": "ipython3",
   "version": "3.6.10"
  }
 },
 "nbformat": 4,
 "nbformat_minor": 4
}
