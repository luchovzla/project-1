{
 "cells": [
  {
   "cell_type": "code",
   "execution_count": null,
   "metadata": {},
   "outputs": [],
   "source": [
    "#Dependencies\n",
    "import pandas as pd\n",
    "import numpy as np\n",
    "import matplotlib.pyplot as plt"
   ]
  },
  {
   "cell_type": "code",
   "execution_count": null,
   "metadata": {},
   "outputs": [],
   "source": [
    "#Import CSV File\n",
    "nr_2017_sta_path = \"Input_Data/Nice_Ride_2017_station_locations.csv\"\n",
    "nr_2017_trip_path = \"Input_Data/Nice_ride_trip_history_2017_season.csv\""
   ]
  },
  {
   "cell_type": "code",
   "execution_count": null,
   "metadata": {},
   "outputs": [],
   "source": [
    "#Read data to df\n",
    "station_17 = pd.read_csv(nr_2017_sta_path, dtype={\"Terminal\":int, \"Station\":str, \"Latitude\":float, \"Longitude\":float, \"NbDocks\":int, \"Notes\":str})\n",
    "station_17.head()"
   ]
  },
  {
   "cell_type": "code",
   "execution_count": null,
   "metadata": {},
   "outputs": [],
   "source": [
    "len(station_17)"
   ]
  },
  {
   "cell_type": "code",
   "execution_count": null,
   "metadata": {},
   "outputs": [],
   "source": [
    "station_17 = station_17.drop(columns=[\"Total docks\"])\n",
    "station_17"
   ]
  },
  {
   "cell_type": "code",
   "execution_count": null,
   "metadata": {},
   "outputs": [],
   "source": [
    "# Export .csv\n",
    "station_17.to_csv(path_or_buf=\"Resources/Nice_ride_2017_station_locations.csv\", index=False)"
   ]
  },
  {
   "cell_type": "code",
   "execution_count": null,
   "metadata": {},
   "outputs": [],
   "source": [
    "station_17.rename(columns={\"Number\" : \"station_id\", \n",
    "                           \"Name\" : \"station_name\", \n",
    "                           \"Latitude\" : \"station_lat\", \n",
    "                           \"Longitude\" : \"station_lng\"}, \n",
    "                  inplace=True)\n",
    "station_17"
   ]
  },
  {
   "cell_type": "code",
   "execution_count": null,
   "metadata": {},
   "outputs": [],
   "source": [
    "trip_17 = pd.read_csv(nr_2017_trip_path, dtype={\"Start date\":str, \"Start station\":str, \"Start station number\":str, \"End date\":str, \"End station\":str, \"End station number\":str, \"Total duration (Seconds)\":int, \"Account type\":str})\n",
    "trip_17.head()"
   ]
  },
  {
   "cell_type": "code",
   "execution_count": null,
   "metadata": {},
   "outputs": [],
   "source": [
    "total_2017_trips = len(trip_17)\n",
    "total_2017_trips"
   ]
  },
  {
   "cell_type": "code",
   "execution_count": null,
   "metadata": {},
   "outputs": [],
   "source": [
    "trip_17[\"Start date\"] = pd.to_datetime(trip_17[\"Start date\"])\n",
    "trip_17[\"End date\"] = pd.to_datetime(trip_17[\"End date\"])"
   ]
  },
  {
   "cell_type": "code",
   "execution_count": null,
   "metadata": {},
   "outputs": [],
   "source": [
    "trip_17.rename(columns={\"Start date\" : \"start_datetime\", \n",
    "                        \"Start station\" : \"start_station_name\", \n",
    "                        \"Start station number\" : \"start_station_id\",\n",
    "                        \"End date\" : \"end_datetime\",\n",
    "                        \"End station\" : \"end_station_name\",\n",
    "                        \"End station number\" : \"end_station_id\",\n",
    "                        \"Total duration (Seconds)\" : \"total_duration_sec\",\n",
    "                        \"Account type\" : \"account_type\"}, \n",
    "              inplace=True)"
   ]
  },
  {
   "cell_type": "code",
   "execution_count": null,
   "metadata": {},
   "outputs": [],
   "source": [
    "trip_17.head()"
   ]
  },
  {
   "cell_type": "code",
   "execution_count": null,
   "metadata": {},
   "outputs": [],
   "source": [
    "# Export .csv\n",
    "#trip_17.to_csv(path_or_buf=\"Resources/Nice_ride_trip_history_2017_season.csv\", index=False)"
   ]
  },
  {
   "cell_type": "code",
   "execution_count": null,
   "metadata": {},
   "outputs": [],
   "source": [
    "member_trips = trip_17.loc[(trip_17[\"account_type\"] == \"Member\"), :]\n",
    "total_2017_member_trips = len(member_trips)\n",
    "total_2017_member_trips"
   ]
  },
  {
   "cell_type": "code",
   "execution_count": null,
   "metadata": {},
   "outputs": [],
   "source": [
    "casual_trips = trip_17.loc[(trip_17[\"account_type\"] == \"Casual\"), :]\n",
    "total_2017_casual_trips = len(casual_trips)\n",
    "total_2017_casual_trips"
   ]
  },
  {
   "cell_type": "code",
   "execution_count": null,
   "metadata": {},
   "outputs": [],
   "source": [
    "odd_trips = trip_17.loc[(trip_17[\"account_type\"] != \"Member\") & (trip_17[\"account_type\"] != \"Casual\"), :]\n",
    "odd_trips"
   ]
  },
  {
   "cell_type": "code",
   "execution_count": null,
   "metadata": {},
   "outputs": [],
   "source": [
    "pct_2017_member_trips = round((total_2017_member_trips / total_2017_trips) * 100, 2)\n",
    "pct_2017_member_trips"
   ]
  },
  {
   "cell_type": "code",
   "execution_count": null,
   "metadata": {},
   "outputs": [],
   "source": [
    "pct_2017_casual_trips = round((total_2017_casual_trips / total_2017_trips) * 100, 2)\n",
    "pct_2017_casual_trips"
   ]
  },
  {
   "cell_type": "code",
   "execution_count": null,
   "metadata": {},
   "outputs": [],
   "source": [
    "index = ['ridership breakdown']"
   ]
  },
  {
   "cell_type": "code",
   "execution_count": null,
   "metadata": {},
   "outputs": [],
   "source": [
    "acct_type_pct_trip_dict = [{\"pct_2017_member_trips\": pct_2017_member_trips,\n",
    "                            \"pct_2017_casual_trips\": pct_2017_casual_trips}]\n",
    "acct_type_pct_trip_df = pd.DataFrame(acct_type_pct_trip_dict, index)\n",
    "acct_type_pct_trip_df"
   ]
  },
  {
   "cell_type": "code",
   "execution_count": null,
   "metadata": {},
   "outputs": [],
   "source": [
    "# Set x axis and tick locations\n",
    "x_axis = [\"pct_2017_member_trips\", \"pct_2017_casual_trips\"]\n",
    "#tick_locations = [value+0.4 for value in x_axis]\n",
    "x_axis"
   ]
  },
  {
   "cell_type": "code",
   "execution_count": null,
   "metadata": {},
   "outputs": [],
   "source": [
    "y_axis = [pct_2017_member_trips, pct_2017_casual_trips]\n",
    "y_axis"
   ]
  },
  {
   "cell_type": "code",
   "execution_count": null,
   "metadata": {},
   "outputs": [],
   "source": [
    "plt.plot(x_axis, y_axis)\n",
    "plt.ylim(0, 100)\n",
    "plt.show"
   ]
  },
  {
   "cell_type": "code",
   "execution_count": null,
   "metadata": {},
   "outputs": [],
   "source": [
    "ax = acct_type_pct_trip_df.plot.bar(rot=0, stacked=True)\n",
    "plt.ylim(0, 100)\n",
    "plt.show"
   ]
  },
  {
   "cell_type": "code",
   "execution_count": null,
   "metadata": {},
   "outputs": [],
   "source": []
  }
 ],
 "metadata": {
  "kernelspec": {
   "display_name": "Python 3",
   "language": "python",
   "name": "python3"
  },
  "language_info": {
   "codemirror_mode": {
    "name": "ipython",
    "version": 3
   },
   "file_extension": ".py",
   "mimetype": "text/x-python",
   "name": "python",
   "nbconvert_exporter": "python",
   "pygments_lexer": "ipython3",
   "version": "3.6.10"
  }
 },
 "nbformat": 4,
 "nbformat_minor": 4
}
