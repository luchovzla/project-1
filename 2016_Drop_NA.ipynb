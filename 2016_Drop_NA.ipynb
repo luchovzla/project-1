{
 "cells": [
  {
   "cell_type": "code",
   "execution_count": null,
   "metadata": {},
   "outputs": [],
   "source": [
    "# Dependencies\n",
    "import pandas as pd\n",
    "import numpy as np"
   ]
  },
  {
   "cell_type": "code",
   "execution_count": null,
   "metadata": {},
   "outputs": [],
   "source": [
    "# csv path\n",
    "data_file = \"Input_Data/Nice_ride_trip_history_2016_season.csv\""
   ]
  },
  {
   "cell_type": "code",
   "execution_count": null,
   "metadata": {},
   "outputs": [],
   "source": [
    "# Read csv, drop NA's and display head...\n",
    "trips_2016 = pd.read_csv(data_file, low_memory = False)\n",
    "trips_2016.dropna(inplace = True)\n",
    "trips_2016.head(20)"
   ]
  },
  {
   "cell_type": "code",
   "execution_count": null,
   "metadata": {},
   "outputs": [],
   "source": [
    "# ...and tail\n",
    "trips_2016.tail(20)"
   ]
  },
  {
   "cell_type": "code",
   "execution_count": null,
   "metadata": {},
   "outputs": [],
   "source": [
    "# verify data types\n",
    "trips_2016.dtypes"
   ]
  },
  {
   "cell_type": "code",
   "execution_count": null,
   "metadata": {},
   "outputs": [],
   "source": [
    "# Convert dates to datetime format\n",
    "trips_2016[\"Start date\"] = pd.to_datetime(trips_2016[\"Start date\"])\n",
    "trips_2016[\"End date\"] = pd.to_datetime(trips_2016[\"End date\"])"
   ]
  },
  {
   "cell_type": "code",
   "execution_count": null,
   "metadata": {},
   "outputs": [],
   "source": [
    "# Display head to verify datetime is in a correct format\n",
    "trips_2016.head()"
   ]
  },
  {
   "cell_type": "code",
   "execution_count": null,
   "metadata": {},
   "outputs": [],
   "source": [
    "# Subset data \n",
    "\n",
    "april_2016 = trips_2016.loc[trips_2016[\"Start date\"].dt.month == 4]\n",
    "april_2016 = april_2016.sort_values(by = \"Start date\")\n",
    "april_2016"
   ]
  },
  {
   "cell_type": "code",
   "execution_count": null,
   "metadata": {},
   "outputs": [],
   "source": [
    "# Count rides per month\n",
    "\n",
    "april_2016_total_rides = april_2016[\"Start date\"].count()\n",
    "april_2016_total_rides\n",
    "\n",
    "april_2016_total_minutes = april_2016[\"Total duration (seconds)\"].sum() / 60\n",
    "april_2016_total_minutes"
   ]
  },
  {
   "cell_type": "code",
   "execution_count": null,
   "metadata": {},
   "outputs": [],
   "source": []
  }
 ],
 "metadata": {
  "kernelspec": {
   "display_name": "Python 3",
   "language": "python",
   "name": "python3"
  },
  "language_info": {
   "codemirror_mode": {
    "name": "ipython",
    "version": 3
   },
   "file_extension": ".py",
   "mimetype": "text/x-python",
   "name": "python",
   "nbconvert_exporter": "python",
   "pygments_lexer": "ipython3",
   "version": "3.6.10"
  }
 },
 "nbformat": 4,
 "nbformat_minor": 4
}
