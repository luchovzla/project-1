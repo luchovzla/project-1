{
 "cells": [
  {
   "cell_type": "code",
   "execution_count": 1,
   "metadata": {},
   "outputs": [],
   "source": [
    "#Dependencies\n",
    "import pandas as pd\n",
    "import numpy as np"
   ]
  },
  {
   "cell_type": "code",
   "execution_count": 2,
   "metadata": {},
   "outputs": [],
   "source": [
    "#Import CSV File\n",
    "nr_2016_sta_path = \"Input_Data/Nice_Ride_2016_station_locations.csv\"\n",
    "nr_2016_trip_path = \"Input_Data/Nice_ride_trip_history_2016_season.csv\""
   ]
  },
  {
   "cell_type": "code",
   "execution_count": 3,
   "metadata": {},
   "outputs": [
    {
     "data": {
      "text/html": [
       "<div>\n",
       "<style scoped>\n",
       "    .dataframe tbody tr th:only-of-type {\n",
       "        vertical-align: middle;\n",
       "    }\n",
       "\n",
       "    .dataframe tbody tr th {\n",
       "        vertical-align: top;\n",
       "    }\n",
       "\n",
       "    .dataframe thead th {\n",
       "        text-align: right;\n",
       "    }\n",
       "</style>\n",
       "<table border=\"1\" class=\"dataframe\">\n",
       "  <thead>\n",
       "    <tr style=\"text-align: right;\">\n",
       "      <th></th>\n",
       "      <th>Terminal</th>\n",
       "      <th>Station</th>\n",
       "      <th>Latitude</th>\n",
       "      <th>Longitude</th>\n",
       "      <th>Nb Docks</th>\n",
       "      <th>Unnamed: 5</th>\n",
       "    </tr>\n",
       "  </thead>\n",
       "  <tbody>\n",
       "    <tr>\n",
       "      <th>0</th>\n",
       "      <td>30000</td>\n",
       "      <td>100 Main Street SE</td>\n",
       "      <td>44.984892</td>\n",
       "      <td>-93.256551</td>\n",
       "      <td>27</td>\n",
       "      <td>NaN</td>\n",
       "    </tr>\n",
       "    <tr>\n",
       "      <th>1</th>\n",
       "      <td>30039</td>\n",
       "      <td>10th Street &amp; Nicollet Mall</td>\n",
       "      <td>44.973839</td>\n",
       "      <td>-93.274544</td>\n",
       "      <td>11</td>\n",
       "      <td>NaN</td>\n",
       "    </tr>\n",
       "    <tr>\n",
       "      <th>2</th>\n",
       "      <td>30117</td>\n",
       "      <td>10th Street E &amp; Cedar Street</td>\n",
       "      <td>44.950189</td>\n",
       "      <td>-93.097590</td>\n",
       "      <td>15</td>\n",
       "      <td>NaN</td>\n",
       "    </tr>\n",
       "    <tr>\n",
       "      <th>3</th>\n",
       "      <td>30154</td>\n",
       "      <td>11th Ave S &amp; S 2nd Street</td>\n",
       "      <td>44.976730</td>\n",
       "      <td>-93.252189</td>\n",
       "      <td>23</td>\n",
       "      <td>NaN</td>\n",
       "    </tr>\n",
       "    <tr>\n",
       "      <th>4</th>\n",
       "      <td>30004</td>\n",
       "      <td>11th Street &amp; Hennepin</td>\n",
       "      <td>44.975340</td>\n",
       "      <td>-93.278690</td>\n",
       "      <td>23</td>\n",
       "      <td>NaN</td>\n",
       "    </tr>\n",
       "  </tbody>\n",
       "</table>\n",
       "</div>"
      ],
      "text/plain": [
       "  Terminal                       Station   Latitude  Longitude  Nb Docks  \\\n",
       "0    30000            100 Main Street SE  44.984892 -93.256551        27   \n",
       "1    30039   10th Street & Nicollet Mall  44.973839 -93.274544        11   \n",
       "2    30117  10th Street E & Cedar Street  44.950189 -93.097590        15   \n",
       "3    30154     11th Ave S & S 2nd Street  44.976730 -93.252189        23   \n",
       "4    30004        11th Street & Hennepin  44.975340 -93.278690        23   \n",
       "\n",
       "  Unnamed: 5  \n",
       "0        NaN  \n",
       "1        NaN  \n",
       "2        NaN  \n",
       "3        NaN  \n",
       "4        NaN  "
      ]
     },
     "execution_count": 3,
     "metadata": {},
     "output_type": "execute_result"
    }
   ],
   "source": [
    "#Read data to df\n",
    "station_16 = pd.read_csv(nr_2016_sta_path, dtype={\"Terminal\":str, \"Station\":str, \"Latitude\":float, \"Longitude\":float, \"NbDocks\":int, \"Notes\":str})\n",
    "station_16.head()"
   ]
  },
  {
   "cell_type": "code",
   "execution_count": 4,
   "metadata": {},
   "outputs": [
    {
     "data": {
      "text/plain": [
       "202"
      ]
     },
     "execution_count": 4,
     "metadata": {},
     "output_type": "execute_result"
    }
   ],
   "source": [
    "len(station_16)"
   ]
  },
  {
   "cell_type": "code",
   "execution_count": 5,
   "metadata": {},
   "outputs": [
    {
     "data": {
      "text/html": [
       "<div>\n",
       "<style scoped>\n",
       "    .dataframe tbody tr th:only-of-type {\n",
       "        vertical-align: middle;\n",
       "    }\n",
       "\n",
       "    .dataframe tbody tr th {\n",
       "        vertical-align: top;\n",
       "    }\n",
       "\n",
       "    .dataframe thead th {\n",
       "        text-align: right;\n",
       "    }\n",
       "</style>\n",
       "<table border=\"1\" class=\"dataframe\">\n",
       "  <thead>\n",
       "    <tr style=\"text-align: right;\">\n",
       "      <th></th>\n",
       "      <th>Start date</th>\n",
       "      <th>Start station</th>\n",
       "      <th>Start station number</th>\n",
       "      <th>End date</th>\n",
       "      <th>End station</th>\n",
       "      <th>End station number</th>\n",
       "      <th>Total duration (seconds)</th>\n",
       "      <th>Account type</th>\n",
       "    </tr>\n",
       "  </thead>\n",
       "  <tbody>\n",
       "    <tr>\n",
       "      <th>0</th>\n",
       "      <td>11/6/2016 22:09</td>\n",
       "      <td>Willey Hall</td>\n",
       "      <td>30195</td>\n",
       "      <td>11/6/2016 22:14</td>\n",
       "      <td>McNamara Center</td>\n",
       "      <td>30057</td>\n",
       "      <td>325</td>\n",
       "      <td>Casual</td>\n",
       "    </tr>\n",
       "    <tr>\n",
       "      <th>1</th>\n",
       "      <td>11/6/2016 21:53</td>\n",
       "      <td>Sanford Hall</td>\n",
       "      <td>30182</td>\n",
       "      <td>11/6/2016 21:59</td>\n",
       "      <td>McNamara Center</td>\n",
       "      <td>30057</td>\n",
       "      <td>315</td>\n",
       "      <td>Member</td>\n",
       "    </tr>\n",
       "    <tr>\n",
       "      <th>2</th>\n",
       "      <td>11/6/2016 21:52</td>\n",
       "      <td>11th Ave S &amp; S 2nd Street</td>\n",
       "      <td>30154</td>\n",
       "      <td>11/6/2016 22:17</td>\n",
       "      <td>Malcolm Ave SE &amp; 5th Street SE</td>\n",
       "      <td>30055</td>\n",
       "      <td>1504</td>\n",
       "      <td>Casual</td>\n",
       "    </tr>\n",
       "    <tr>\n",
       "      <th>3</th>\n",
       "      <td>11/6/2016 21:52</td>\n",
       "      <td>11th Ave S &amp; S 2nd Street</td>\n",
       "      <td>30154</td>\n",
       "      <td>11/6/2016 22:17</td>\n",
       "      <td>Malcolm Ave SE &amp; 5th Street SE</td>\n",
       "      <td>30055</td>\n",
       "      <td>1496</td>\n",
       "      <td>Casual</td>\n",
       "    </tr>\n",
       "    <tr>\n",
       "      <th>4</th>\n",
       "      <td>11/6/2016 21:52</td>\n",
       "      <td>11th Ave S &amp; S 2nd Street</td>\n",
       "      <td>30154</td>\n",
       "      <td>11/6/2016 22:17</td>\n",
       "      <td>Malcolm Ave SE &amp; 5th Street SE</td>\n",
       "      <td>30055</td>\n",
       "      <td>1506</td>\n",
       "      <td>Casual</td>\n",
       "    </tr>\n",
       "  </tbody>\n",
       "</table>\n",
       "</div>"
      ],
      "text/plain": [
       "        Start date              Start station Start station number  \\\n",
       "0  11/6/2016 22:09                Willey Hall                30195   \n",
       "1  11/6/2016 21:53               Sanford Hall                30182   \n",
       "2  11/6/2016 21:52  11th Ave S & S 2nd Street                30154   \n",
       "3  11/6/2016 21:52  11th Ave S & S 2nd Street                30154   \n",
       "4  11/6/2016 21:52  11th Ave S & S 2nd Street                30154   \n",
       "\n",
       "          End date                     End station End station number  \\\n",
       "0  11/6/2016 22:14                 McNamara Center              30057   \n",
       "1  11/6/2016 21:59                 McNamara Center              30057   \n",
       "2  11/6/2016 22:17  Malcolm Ave SE & 5th Street SE              30055   \n",
       "3  11/6/2016 22:17  Malcolm Ave SE & 5th Street SE              30055   \n",
       "4  11/6/2016 22:17  Malcolm Ave SE & 5th Street SE              30055   \n",
       "\n",
       "   Total duration (seconds) Account type  \n",
       "0                       325       Casual  \n",
       "1                       315       Member  \n",
       "2                      1504       Casual  \n",
       "3                      1496       Casual  \n",
       "4                      1506       Casual  "
      ]
     },
     "execution_count": 5,
     "metadata": {},
     "output_type": "execute_result"
    }
   ],
   "source": [
    "trip_16 = pd.read_csv(nr_2016_trip_path, dtype={\"Start date\":str, \"Start station\":str, \"Start station number\":str, \"End date\":str, \"End station\":str, \"End station number\":str, \"Total duration (Seconds)\":int, \"Account type\":str})\n",
    "trip_16.head()"
   ]
  },
  {
   "cell_type": "code",
   "execution_count": 6,
   "metadata": {},
   "outputs": [
    {
     "data": {
      "text/plain": [
       "1048575"
      ]
     },
     "execution_count": 6,
     "metadata": {},
     "output_type": "execute_result"
    }
   ],
   "source": [
    "len(trip_16)"
   ]
  },
  {
   "cell_type": "code",
   "execution_count": null,
   "metadata": {},
   "outputs": [],
   "source": []
  }
 ],
 "metadata": {
  "kernelspec": {
   "display_name": "Python 3",
   "language": "python",
   "name": "python3"
  },
  "language_info": {
   "codemirror_mode": {
    "name": "ipython",
    "version": 3
   },
   "file_extension": ".py",
   "mimetype": "text/x-python",
   "name": "python",
   "nbconvert_exporter": "python",
   "pygments_lexer": "ipython3",
   "version": "3.6.10"
  }
 },
 "nbformat": 4,
 "nbformat_minor": 4
}
