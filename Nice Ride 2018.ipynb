{
 "cells": [
  {
   "cell_type": "code",
   "execution_count": null,
   "metadata": {},
   "outputs": [],
   "source": [
    "#Dependencies\n",
    "import pandas as pd\n",
    "import numpy as np"
   ]
  },
  {
   "cell_type": "code",
   "execution_count": null,
   "metadata": {},
   "outputs": [],
   "source": [
    "#Import CSV Files\n",
    "apr_18_path = \"Input_Data/201804-niceride-tripdata.csv\"\n",
    "may_18_path = \"Input_Data/201805-niceride-tripdata.csv\"\n",
    "jun_18_path = \"Input_Data/201806-niceride-tripdata.csv\"\n",
    "jul_18_path = \"Input_Data/201807-niceride-tripdata.csv\"\n",
    "aug_18_path = \"Input_Data/201808-niceride-tripdata.csv\"\n",
    "sep_18_path = \"Input_Data/201809-niceride-tripdata.csv\"\n",
    "oct_18_path = \"Input_Data/201810-niceride-tripdata.csv\"\n",
    "nov_18_path = \"Input_Data/201811-niceride-tripdata.csv\""
   ]
  },
  {
   "cell_type": "code",
   "execution_count": null,
   "metadata": {},
   "outputs": [],
   "source": [
    "#Read data to df\n",
    "apr_2018 = pd.read_csv(apr_18_path, dtype=str)\n",
    "len(apr_2018)"
   ]
  },
  {
   "cell_type": "code",
   "execution_count": null,
   "metadata": {},
   "outputs": [],
   "source": [
    "may_2018 = pd.read_csv(may_18_path, dtype=str)\n",
    "len(may_2018)"
   ]
  },
  {
   "cell_type": "code",
   "execution_count": null,
   "metadata": {},
   "outputs": [],
   "source": [
    "jun_2018 = pd.read_csv(jun_18_path, dtype = str)\n",
    "len(jun_2018)"
   ]
  },
  {
   "cell_type": "code",
   "execution_count": null,
   "metadata": {},
   "outputs": [],
   "source": [
    "jul_2018 = pd.read_csv(jul_18_path, dtype = str)\n",
    "len(jul_2018)"
   ]
  },
  {
   "cell_type": "code",
   "execution_count": null,
   "metadata": {},
   "outputs": [],
   "source": [
    "aug_2018 = pd.read_csv(aug_18_path, dtype=str)\n",
    "len(aug_2018)"
   ]
  },
  {
   "cell_type": "code",
   "execution_count": null,
   "metadata": {},
   "outputs": [],
   "source": [
    "sep_2018 = pd.read_csv(sep_18_path, dtype=str)\n",
    "len(sep_2018)"
   ]
  },
  {
   "cell_type": "code",
   "execution_count": null,
   "metadata": {},
   "outputs": [],
   "source": [
    "oct_2018 = pd.read_csv(oct_18_path, dtype=str)\n",
    "len(oct_2018)"
   ]
  },
  {
   "cell_type": "code",
   "execution_count": null,
   "metadata": {},
   "outputs": [],
   "source": [
    "nov_2018 = pd.read_csv(nov_18_path, dtype=str)\n",
    "len(nov_2018)"
   ]
  },
  {
   "cell_type": "code",
   "execution_count": null,
   "metadata": {},
   "outputs": [],
   "source": [
    "# Append frames\n",
    "nr_2018 = apr_2018.append(may_2018, ignore_index=True)\n",
    "nr_2018 = nr_2018.append(jun_2018, ignore_index=True)\n",
    "nr_2018 = nr_2018.append(jul_2018, ignore_index=True)\n",
    "nr_2018 = nr_2018.append(aug_2018, ignore_index=True)\n",
    "nr_2018 = nr_2018.append(sep_2018, ignore_index=True)\n",
    "nr_2018 = nr_2018.append(oct_2018, ignore_index=True)\n",
    "nr_2018 = nr_2018.append(nov_2018, ignore_index=True)\n",
    "len(nr_2018)"
   ]
  },
  {
   "cell_type": "code",
   "execution_count": null,
   "metadata": {
    "scrolled": true
   },
   "outputs": [],
   "source": [
    "nr_2018.head()"
   ]
  },
  {
   "cell_type": "code",
   "execution_count": null,
   "metadata": {},
   "outputs": [],
   "source": [
    "# Fix dtypes - datetime\n",
    "nr_2018[\"start_time\"] = pd.to_datetime(nr_2018[\"start_time\"])\n",
    "nr_2018[\"end_time\"] = pd.to_datetime(nr_2018[\"end_time\"])"
   ]
  },
  {
   "cell_type": "code",
   "execution_count": null,
   "metadata": {},
   "outputs": [],
   "source": [
    "# Fix dtypes - coordinates\n",
    "nr_2018[\"start station latitude\"] = nr_2018[\"start station latitude\"].astype(float)\n",
    "nr_2018[\"start station longitude\"] = nr_2018[\"start station longitude\"].astype(float)\n",
    "nr_2018[\"end station latitude\"] = nr_2018[\"end station latitude\"].astype(float)\n",
    "nr_2018[\"end station longitude\"] = nr_2018[\"end station longitude\"].astype(float)"
   ]
  },
  {
   "cell_type": "code",
   "execution_count": null,
   "metadata": {},
   "outputs": [],
   "source": [
    "# Fix dtypes - numbers\n",
    "nr_2018[\"tripduration\"] = nr_2018[\"tripduration\"].astype(int)"
   ]
  },
  {
   "cell_type": "code",
   "execution_count": null,
   "metadata": {},
   "outputs": [],
   "source": [
    "# Fix dtypes - strings\n",
    "nr_2018[\"start station id\"] = nr_2018[\"start station id\"].convert_dtypes()\n",
    "nr_2018[\"start station name\"] = nr_2018[\"start station name\"].convert_dtypes()\n",
    "nr_2018[\"end station id\"] = nr_2018[\"end station id\"].convert_dtypes()\n",
    "nr_2018[\"end station name\"] = nr_2018[\"end station name\"].convert_dtypes()\n",
    "nr_2018[\"usertype\"] = nr_2018[\"usertype\"].convert_dtypes()\n",
    "nr_2018[\"bike type\"] = nr_2018[\"bike type\"].convert_dtypes()"
   ]
  },
  {
   "cell_type": "code",
   "execution_count": null,
   "metadata": {},
   "outputs": [],
   "source": [
    "nr_2018.dtypes"
   ]
  },
  {
   "cell_type": "code",
   "execution_count": null,
   "metadata": {},
   "outputs": [],
   "source": [
    "# Rename columns for universal format\n",
    "nr_2018.rename(columns={\"start_time\" : \"start_datetime\", \n",
    "                        \"start station name\" : \"start_station_name\", \n",
    "                        \"start station id\" : \"start_station_id\",\n",
    "                        \"end_time\" : \"end_datetime\",\n",
    "                        \"end station name\" : \"end_station_name\",\n",
    "                        \"end station id\" : \"end_station_id\",\n",
    "                        \"tripduration\" : \"total_duration_sec\",\n",
    "                        \"usertype\" : \"account_type\",\n",
    "                        \"start station latitude\" : \"start_station_lat\",\n",
    "                        \"start station longitude\" : \"start_station_lng\",\n",
    "                        \"end station latitude\" : \"end_station_lat\",\n",
    "                        \"end station longitude\" : \"end_station_lng\",\n",
    "                        \"bike type\" : \"bike_type\"}, \n",
    "              inplace=True)"
   ]
  },
  {
   "cell_type": "code",
   "execution_count": null,
   "metadata": {},
   "outputs": [],
   "source": [
    "# Drop unnecessary info\n",
    "nr_2018 = nr_2018.drop(columns=[\"bikeid\", \"birth year\", \"gender\"])\n",
    "nr_2018.head()"
   ]
  },
  {
   "cell_type": "code",
   "execution_count": null,
   "metadata": {},
   "outputs": [],
   "source": [
    "nr_2018[\"account_type\"]=nr_2018[\"account_type\"].str.replace(\"Customer\", \"Casual\")\n",
    "nr_2018[\"account_type\"]=nr_2018['account_type'].str.replace(\"Subscriber\", \"Member\")"
   ]
  },
  {
   "cell_type": "code",
   "execution_count": null,
   "metadata": {},
   "outputs": [],
   "source": [
    "# Re-sort by datetime\n",
    "nr_2018= nr_2018.sort_values([\"start_datetime\"], ignore_index=True)\n",
    "nr_2018"
   ]
  },
  {
   "cell_type": "code",
   "execution_count": null,
   "metadata": {},
   "outputs": [],
   "source": [
    "## Export Combined .csv\n",
    "nr_2018.to_csv(path_or_buf=\"../Resources/Nice_ride_trip_history_2018_season.csv\", index=False)"
   ]
  },
  {
   "cell_type": "code",
   "execution_count": null,
   "metadata": {},
   "outputs": [],
   "source": [
    "# Create dataframe with all dockless bike info\n",
    "dockless2018_df = nr_2018.loc[pd.isna(nr_2018[\"start_station_id\"])]\n",
    "dockless2018_df"
   ]
  },
  {
   "cell_type": "code",
   "execution_count": null,
   "metadata": {},
   "outputs": [],
   "source": [
    "# Create dataframe with all stationed bike info\n",
    "docked2018_df = nr_2018.dropna(axis=0)\n",
    "docked2018_df"
   ]
  },
  {
   "cell_type": "code",
   "execution_count": null,
   "metadata": {},
   "outputs": [],
   "source": [
    "# Build a station location dataframe\n",
    "# Collect unique info\n",
    "\n",
    "station_id = docked2018_df.start_station_id.unique()\n",
    "station_name = docked2018_df.start_station_name.unique()\n",
    "station_lat = docked2018_df.start_station_lat.unique()\n",
    "station_lng = docked2018_df.start_station_lng.unique()\n",
    "\n",
    "station_id = list(station_id)\n",
    "station_name = list(station_name)\n",
    "station_lat = list(station_lat)\n",
    "station_lng = list(station_lng)\n",
    "\n",
    "print(len(station_id))\n",
    "print(len(station_name))\n",
    "print(len(station_lat))\n",
    "print(len(station_lng))"
   ]
  },
  {
   "cell_type": "code",
   "execution_count": null,
   "metadata": {},
   "outputs": [],
   "source": [
    "# Create df\n",
    "station_18 = pd.DataFrame({\"station_id\" : station_id,\n",
    "                           \"station_name\" : station_name,\n",
    "                           \"station_lat\" : station_lat,\n",
    "                           \"station_lng\" : station_lng})\n",
    "station_18"
   ]
  },
  {
   "cell_type": "code",
   "execution_count": null,
   "metadata": {},
   "outputs": [],
   "source": [
    "# Format station locations into sortable form\n",
    "station_18['station_id'] = station_18['station_id'].apply('{0:0>5}'.format)"
   ]
  },
  {
   "cell_type": "code",
   "execution_count": null,
   "metadata": {},
   "outputs": [],
   "source": [
    "# Sort by station id\n",
    "station_18.sort_values(by=\"station_id\", ignore_index=True, inplace=True)"
   ]
  },
  {
   "cell_type": "code",
   "execution_count": null,
   "metadata": {},
   "outputs": [],
   "source": [
    "station_18"
   ]
  },
  {
   "cell_type": "code",
   "execution_count": null,
   "metadata": {},
   "outputs": [],
   "source": [
    "# Export station list to .csv\n",
    "station_18.to_csv(path_or_buf=\"../Resources/Nice_ride_2018_station_locations.csv\", index=False)"
   ]
  }
 ],
 "metadata": {
  "kernelspec": {
   "display_name": "Python 3",
   "language": "python",
   "name": "python3"
  },
  "language_info": {
   "codemirror_mode": {
    "name": "ipython",
    "version": 3
   },
   "file_extension": ".py",
   "mimetype": "text/x-python",
   "name": "python",
   "nbconvert_exporter": "python",
   "pygments_lexer": "ipython3",
   "version": "3.6.10"
  }
 },
 "nbformat": 4,
 "nbformat_minor": 4
}
