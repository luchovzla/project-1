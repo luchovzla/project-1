{
 "cells": [
  {
   "cell_type": "code",
   "execution_count": null,
   "metadata": {},
   "outputs": [],
   "source": [
    "# Dependencies\n",
    "import pandas as pd\n",
    "import numpy as np"
   ]
  },
  {
   "cell_type": "code",
   "execution_count": null,
   "metadata": {},
   "outputs": [],
   "source": [
    "#Import CSV Files\n",
    "apr_20_path = \"202004-niceride-tripdata.csv\"\n",
    "may_20_path = \"202005-niceride-tripdata.csv\"\n",
    "jun_20_path = \"202006-niceride-tripdata.csv\"\n",
    "jul_20_path = \"202007-niceride-tripdata.csv\"\n",
    "aug_20_path = \"202008-niceride-tripdata.csv\"\n",
    "sep_20_path = \"202009-niceride-tripdata.csv\"\n",
    "oct_20_path = \"202010-niceride-tripdata.csv\"\n",
    "nov_20_path = \"202011-niceride-tripdata.csv\""
   ]
  },
  {
   "cell_type": "code",
   "execution_count": null,
   "metadata": {},
   "outputs": [],
   "source": [
    "#Read data to df\n",
    "apr_2020 = pd.read_csv(apr_20_path, dtype=str)\n",
    "len(apr_2020)"
   ]
  },
  {
   "cell_type": "code",
   "execution_count": null,
   "metadata": {},
   "outputs": [],
   "source": [
    "may_2020 = pd.read_csv(may_20_path, dtype=str)\n",
    "len(may_2020)"
   ]
  },
  {
   "cell_type": "code",
   "execution_count": null,
   "metadata": {},
   "outputs": [],
   "source": [
    "jun_2020 = pd.read_csv(jun_20_path, dtype = str)\n",
    "len(jun_2020)"
   ]
  },
  {
   "cell_type": "code",
   "execution_count": null,
   "metadata": {},
   "outputs": [],
   "source": [
    "jul_2020 = pd.read_csv(jul_20_path, dtype = str)\n",
    "len(jul_2020)"
   ]
  },
  {
   "cell_type": "code",
   "execution_count": null,
   "metadata": {},
   "outputs": [],
   "source": [
    "aug_2020 = pd.read_csv(aug_20_path, dtype=str)\n",
    "len(aug_2020)"
   ]
  },
  {
   "cell_type": "code",
   "execution_count": null,
   "metadata": {},
   "outputs": [],
   "source": [
    "sep_2020 = pd.read_csv(sep_20_path, dtype=str)\n",
    "len(sep_2020)"
   ]
  },
  {
   "cell_type": "code",
   "execution_count": null,
   "metadata": {},
   "outputs": [],
   "source": [
    "oct_2020 = pd.read_csv(oct_20_path, dtype=str)\n",
    "len(oct_2020)"
   ]
  },
  {
   "cell_type": "code",
   "execution_count": null,
   "metadata": {},
   "outputs": [],
   "source": [
    "nov_2020 = pd.read_csv(nov_20_path, dtype=str)\n",
    "len(nov_2020)"
   ]
  },
  {
   "cell_type": "code",
   "execution_count": null,
   "metadata": {},
   "outputs": [],
   "source": [
    "# Append frames\n",
    "nr_2020 = apr_2020.append(may_2020, ignore_index=True)\n",
    "nr_2020 = nr_2020.append(jun_2020, ignore_index=True)\n",
    "nr_2020 = nr_2020.append(jul_2020, ignore_index=True)\n",
    "nr_2020 = nr_2020.append(aug_2020, ignore_index=True)\n",
    "nr_2020 = nr_2020.append(sep_2020, ignore_index=True)\n",
    "nr_2020 = nr_2020.append(oct_2020, ignore_index=True)\n",
    "nr_2020 = nr_2020.append(nov_2020, ignore_index=True)\n",
    "len(nr_2020)"
   ]
  },
  {
   "cell_type": "code",
   "execution_count": null,
   "metadata": {},
   "outputs": [],
   "source": [
    "nr_2020.head()"
   ]
  },
  {
   "cell_type": "code",
   "execution_count": null,
   "metadata": {},
   "outputs": [],
   "source": [
    "# Fix dtypes - datetime\n",
    "nr_2020[\"started_at\"] = pd.to_datetime(nr_2020[\"started_at\"])\n",
    "nr_2020[\"ended_at\"] = pd.to_datetime(nr_2020[\"ended_at\"])"
   ]
  },
  {
   "cell_type": "code",
   "execution_count": null,
   "metadata": {},
   "outputs": [],
   "source": [
    "# Fix dtypes - coordinates\n",
    "nr_2020[\"start_lat\"] = nr_2020[\"start_lat\"].astype(float)\n",
    "nr_2020[\"start_lng\"] = nr_2020[\"start_lng\"].astype(float)\n",
    "nr_2020[\"end_lat\"] = nr_2020[\"end_lat\"].astype(float)\n",
    "nr_2020[\"end_lng\"] = nr_2020[\"end_lng\"].astype(float)"
   ]
  },
  {
   "cell_type": "code",
   "execution_count": null,
   "metadata": {},
   "outputs": [],
   "source": [
    "nr_2020[\"rideable_type\"] = nr_2020[\"rideable_type\"].convert_dtypes()\n",
    "nr_2020[\"start_station_name\"] = nr_2020[\"start_station_name\"].convert_dtypes()\n",
    "nr_2020[\"start_station_id\"] = nr_2020[\"start_station_id\"].convert_dtypes()\n",
    "nr_2020[\"end_station_name\"] = nr_2020[\"end_station_name\"].convert_dtypes()\n",
    "nr_2020[\"end_station_id\"] = nr_2020[\"end_station_id\"].convert_dtypes()\n",
    "nr_2020[\"member_casual\"] = nr_2020[\"member_casual\"].convert_dtypes()"
   ]
  },
  {
   "cell_type": "code",
   "execution_count": null,
   "metadata": {},
   "outputs": [],
   "source": [
    "nr_2020 = nr_2020.drop(columns=[\"ride_id\"])"
   ]
  },
  {
   "cell_type": "code",
   "execution_count": null,
   "metadata": {},
   "outputs": [],
   "source": [
    "nr_2020[\"account_type\"]=nr_2020[\"account_type\"].str.replace(\"casual\", \"Casual\")\n",
    "nr_2020[\"account_type\"]=nr_2020['account_type'].str.replace(\"member\", \"Member\")\n",
    "nr_2020.head()"
   ]
  },
  {
   "cell_type": "code",
   "execution_count": null,
   "metadata": {},
   "outputs": [],
   "source": [
    "nr_2020.rename(columns={\"started_at\" : \"start_datetime\", \n",
    "                        \"start_station_name\" : \"start_station_name\", \n",
    "                        \"start_station_id\" : \"start_station_id\",\n",
    "                        \"ended_at\" : \"end_datetime\",\n",
    "                        \"end_station_name\" : \"end_station_name\",\n",
    "                        \"end_station_id\" : \"end_station_id\",\n",
    "                        \"member_casual\" : \"account_type\",\n",
    "                        \"start_lat\" : \"start_station_lat\",\n",
    "                        \"start_lng\" : \"start_station_lng\",\n",
    "                        \"end_lat\" : \"end_station_lat\",\n",
    "                        \"end_lng\" : \"end_station_lng\",\n",
    "                        \"rideable_type\" : \"bike_type\"}, \n",
    "              inplace=True)"
   ]
  },
  {
   "cell_type": "code",
   "execution_count": null,
   "metadata": {},
   "outputs": [],
   "source": [
    "# Export combined .csv\n",
    "nr_2020.to_csv(path_or_buf=\"../Resources/Nice_ride_trip_history_2020_season.csv\", index=False)"
   ]
  },
  {
   "cell_type": "code",
   "execution_count": null,
   "metadata": {},
   "outputs": [],
   "source": [
    "# Create dataframe with all dockless bike info\n",
    "docked2020_df = nr_2020.loc[pd.notna(nr_2020[\"start_station_name\"])]\n",
    "docked2020_df = docked2020_df.loc[pd.notna(docked2020_df[\"end_station_name\"])]\n",
    "docked2020_df"
   ]
  },
  {
   "cell_type": "code",
   "execution_count": null,
   "metadata": {},
   "outputs": [],
   "source": [
    "# Create dataframe with all stationed bike info\n",
    "docked2020_df = nr_2020.dropna(axis=0)\n",
    "docked2020_df"
   ]
  },
  {
   "cell_type": "code",
   "execution_count": null,
   "metadata": {},
   "outputs": [],
   "source": [
    "electric_df = nr_2020.loc[nr_2020[\"bike_type\"] != \"docked_bike\"]\n",
    "electric_df"
   ]
  },
  {
   "cell_type": "code",
   "execution_count": null,
   "metadata": {},
   "outputs": [],
   "source": [
    "electric_df[\"bike_type\"].value_counts()"
   ]
  },
  {
   "cell_type": "code",
   "execution_count": null,
   "metadata": {},
   "outputs": [],
   "source": []
  }
 ],
 "metadata": {
  "kernelspec": {
   "display_name": "Python 3",
   "language": "python",
   "name": "python3"
  },
  "language_info": {
   "codemirror_mode": {
    "name": "ipython",
    "version": 3
   },
   "file_extension": ".py",
   "mimetype": "text/x-python",
   "name": "python",
   "nbconvert_exporter": "python",
   "pygments_lexer": "ipython3",
   "version": "3.6.10"
  }
 },
 "nbformat": 4,
 "nbformat_minor": 4
}
