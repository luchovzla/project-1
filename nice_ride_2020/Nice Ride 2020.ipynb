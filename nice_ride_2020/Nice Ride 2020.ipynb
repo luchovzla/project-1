{
 "cells": [
  {
   "cell_type": "code",
   "execution_count": 1,
   "metadata": {},
   "outputs": [],
   "source": [
    "# Dependencies\n",
    "import pandas as pd\n",
    "import numpy as np"
   ]
  },
  {
   "cell_type": "code",
   "execution_count": 2,
   "metadata": {},
   "outputs": [],
   "source": [
    "#Import CSV Files\n",
    "apr_20_path = \"202004-niceride-tripdata.csv\"\n",
    "may_20_path = \"202005-niceride-tripdata.csv\"\n",
    "jun_20_path = \"202006-niceride-tripdata.csv\"\n",
    "jul_20_path = \"202007-niceride-tripdata.csv\"\n",
    "aug_20_path = \"202008-niceride-tripdata.csv\"\n",
    "sep_20_path = \"202009-niceride-tripdata.csv\"\n",
    "oct_20_path = \"202010-niceride-tripdata.csv\"\n",
    "nov_20_path = \"202011-niceride-tripdata.csv\""
   ]
  },
  {
   "cell_type": "code",
   "execution_count": 3,
   "metadata": {},
   "outputs": [
    {
     "data": {
      "text/plain": [
       "13296"
      ]
     },
     "execution_count": 3,
     "metadata": {},
     "output_type": "execute_result"
    }
   ],
   "source": [
    "#Read data to df\n",
    "apr_2020 = pd.read_csv(apr_20_path, dtype=str)\n",
    "len(apr_2020)"
   ]
  },
  {
   "cell_type": "code",
   "execution_count": 4,
   "metadata": {},
   "outputs": [
    {
     "data": {
      "text/plain": [
       "25646"
      ]
     },
     "execution_count": 4,
     "metadata": {},
     "output_type": "execute_result"
    }
   ],
   "source": [
    "may_2020 = pd.read_csv(may_20_path, dtype=str)\n",
    "len(may_2020)"
   ]
  },
  {
   "cell_type": "code",
   "execution_count": 5,
   "metadata": {},
   "outputs": [
    {
     "data": {
      "text/plain": [
       "36115"
      ]
     },
     "execution_count": 5,
     "metadata": {},
     "output_type": "execute_result"
    }
   ],
   "source": [
    "jun_2020 = pd.read_csv(jun_20_path, dtype = str)\n",
    "len(jun_2020)"
   ]
  },
  {
   "cell_type": "code",
   "execution_count": 6,
   "metadata": {},
   "outputs": [
    {
     "data": {
      "text/plain": [
       "45929"
      ]
     },
     "execution_count": 6,
     "metadata": {},
     "output_type": "execute_result"
    }
   ],
   "source": [
    "jul_2020 = pd.read_csv(jul_20_path, dtype = str)\n",
    "len(jul_2020)"
   ]
  },
  {
   "cell_type": "code",
   "execution_count": 7,
   "metadata": {},
   "outputs": [
    {
     "data": {
      "text/plain": [
       "49371"
      ]
     },
     "execution_count": 7,
     "metadata": {},
     "output_type": "execute_result"
    }
   ],
   "source": [
    "aug_2020 = pd.read_csv(aug_20_path, dtype=str)\n",
    "len(aug_2020)"
   ]
  },
  {
   "cell_type": "code",
   "execution_count": 8,
   "metadata": {},
   "outputs": [
    {
     "data": {
      "text/plain": [
       "37243"
      ]
     },
     "execution_count": 8,
     "metadata": {},
     "output_type": "execute_result"
    }
   ],
   "source": [
    "sep_2020 = pd.read_csv(sep_20_path, dtype=str)\n",
    "len(sep_2020)"
   ]
  },
  {
   "cell_type": "code",
   "execution_count": 9,
   "metadata": {},
   "outputs": [
    {
     "data": {
      "text/plain": [
       "19377"
      ]
     },
     "execution_count": 9,
     "metadata": {},
     "output_type": "execute_result"
    }
   ],
   "source": [
    "oct_2020 = pd.read_csv(oct_20_path, dtype=str)\n",
    "len(oct_2020)"
   ]
  },
  {
   "cell_type": "code",
   "execution_count": 10,
   "metadata": {},
   "outputs": [
    {
     "data": {
      "text/plain": [
       "2100"
      ]
     },
     "execution_count": 10,
     "metadata": {},
     "output_type": "execute_result"
    }
   ],
   "source": [
    "nov_2020 = pd.read_csv(nov_20_path, dtype=str)\n",
    "len(nov_2020)"
   ]
  },
  {
   "cell_type": "code",
   "execution_count": 11,
   "metadata": {},
   "outputs": [
    {
     "data": {
      "text/plain": [
       "229077"
      ]
     },
     "execution_count": 11,
     "metadata": {},
     "output_type": "execute_result"
    }
   ],
   "source": [
    "# Append frames\n",
    "nr_2020 = apr_2020.append(may_2020, ignore_index=True)\n",
    "nr_2020 = nr_2020.append(jun_2020, ignore_index=True)\n",
    "nr_2020 = nr_2020.append(jul_2020, ignore_index=True)\n",
    "nr_2020 = nr_2020.append(aug_2020, ignore_index=True)\n",
    "nr_2020 = nr_2020.append(sep_2020, ignore_index=True)\n",
    "nr_2020 = nr_2020.append(oct_2020, ignore_index=True)\n",
    "nr_2020 = nr_2020.append(nov_2020, ignore_index=True)\n",
    "len(nr_2020)"
   ]
  },
  {
   "cell_type": "code",
   "execution_count": 12,
   "metadata": {},
   "outputs": [
    {
     "data": {
      "text/html": [
       "<div>\n",
       "<style scoped>\n",
       "    .dataframe tbody tr th:only-of-type {\n",
       "        vertical-align: middle;\n",
       "    }\n",
       "\n",
       "    .dataframe tbody tr th {\n",
       "        vertical-align: top;\n",
       "    }\n",
       "\n",
       "    .dataframe thead th {\n",
       "        text-align: right;\n",
       "    }\n",
       "</style>\n",
       "<table border=\"1\" class=\"dataframe\">\n",
       "  <thead>\n",
       "    <tr style=\"text-align: right;\">\n",
       "      <th></th>\n",
       "      <th>ride_id</th>\n",
       "      <th>rideable_type</th>\n",
       "      <th>started_at</th>\n",
       "      <th>ended_at</th>\n",
       "      <th>start_station_name</th>\n",
       "      <th>start_station_id</th>\n",
       "      <th>end_station_name</th>\n",
       "      <th>end_station_id</th>\n",
       "      <th>start_lat</th>\n",
       "      <th>start_lng</th>\n",
       "      <th>end_lat</th>\n",
       "      <th>end_lng</th>\n",
       "      <th>member_casual</th>\n",
       "    </tr>\n",
       "  </thead>\n",
       "  <tbody>\n",
       "    <tr>\n",
       "      <th>0</th>\n",
       "      <td>37276F98FD2F1372</td>\n",
       "      <td>docked_bike</td>\n",
       "      <td>2020-04-29 17:41:02</td>\n",
       "      <td>2020-04-29 18:20:55</td>\n",
       "      <td>Lake Street &amp; West River Parkway</td>\n",
       "      <td>149</td>\n",
       "      <td>Coldwater Spring</td>\n",
       "      <td>155</td>\n",
       "      <td>44.9485</td>\n",
       "      <td>-93.2062</td>\n",
       "      <td>44.905</td>\n",
       "      <td>-93.1983</td>\n",
       "      <td>member</td>\n",
       "    </tr>\n",
       "    <tr>\n",
       "      <th>1</th>\n",
       "      <td>52B4BA53A4AF9262</td>\n",
       "      <td>docked_bike</td>\n",
       "      <td>2020-04-11 19:28:44</td>\n",
       "      <td>2020-04-11 19:47:35</td>\n",
       "      <td>Portland Ave &amp; Washington Ave</td>\n",
       "      <td>91</td>\n",
       "      <td>Franklin &amp; 28th Ave</td>\n",
       "      <td>47</td>\n",
       "      <td>44.9782</td>\n",
       "      <td>-93.2602</td>\n",
       "      <td>44.9627</td>\n",
       "      <td>-93.2309</td>\n",
       "      <td>casual</td>\n",
       "    </tr>\n",
       "    <tr>\n",
       "      <th>2</th>\n",
       "      <td>C836B5042CA2400C</td>\n",
       "      <td>docked_bike</td>\n",
       "      <td>2020-04-18 18:04:00</td>\n",
       "      <td>2020-04-18 18:46:34</td>\n",
       "      <td>30th Ave SE &amp; SE 4th Street</td>\n",
       "      <td>220</td>\n",
       "      <td>30th Ave SE &amp; SE 4th Street</td>\n",
       "      <td>220</td>\n",
       "      <td>44.9714</td>\n",
       "      <td>-93.2134</td>\n",
       "      <td>44.9714</td>\n",
       "      <td>-93.2134</td>\n",
       "      <td>casual</td>\n",
       "    </tr>\n",
       "    <tr>\n",
       "      <th>3</th>\n",
       "      <td>84A14A4D0DCB3D58</td>\n",
       "      <td>docked_bike</td>\n",
       "      <td>2020-04-28 22:20:20</td>\n",
       "      <td>2020-04-28 23:06:16</td>\n",
       "      <td>22nd Ave S &amp; Franklin Ave</td>\n",
       "      <td>16</td>\n",
       "      <td>22nd Ave S &amp; Franklin Ave</td>\n",
       "      <td>16</td>\n",
       "      <td>44.9629</td>\n",
       "      <td>-93.241</td>\n",
       "      <td>44.9629</td>\n",
       "      <td>-93.241</td>\n",
       "      <td>casual</td>\n",
       "    </tr>\n",
       "    <tr>\n",
       "      <th>4</th>\n",
       "      <td>DD8171CB206BD356</td>\n",
       "      <td>docked_bike</td>\n",
       "      <td>2020-04-26 14:47:36</td>\n",
       "      <td>2020-04-26 15:54:38</td>\n",
       "      <td>Washington &amp; Marquette</td>\n",
       "      <td>30</td>\n",
       "      <td>Washington Ave S &amp; 10th Ave S</td>\n",
       "      <td>48</td>\n",
       "      <td>44.981</td>\n",
       "      <td>-93.2669</td>\n",
       "      <td>44.9765</td>\n",
       "      <td>-93.2552</td>\n",
       "      <td>casual</td>\n",
       "    </tr>\n",
       "  </tbody>\n",
       "</table>\n",
       "</div>"
      ],
      "text/plain": [
       "            ride_id rideable_type           started_at             ended_at  \\\n",
       "0  37276F98FD2F1372   docked_bike  2020-04-29 17:41:02  2020-04-29 18:20:55   \n",
       "1  52B4BA53A4AF9262   docked_bike  2020-04-11 19:28:44  2020-04-11 19:47:35   \n",
       "2  C836B5042CA2400C   docked_bike  2020-04-18 18:04:00  2020-04-18 18:46:34   \n",
       "3  84A14A4D0DCB3D58   docked_bike  2020-04-28 22:20:20  2020-04-28 23:06:16   \n",
       "4  DD8171CB206BD356   docked_bike  2020-04-26 14:47:36  2020-04-26 15:54:38   \n",
       "\n",
       "                 start_station_name start_station_id  \\\n",
       "0  Lake Street & West River Parkway              149   \n",
       "1     Portland Ave & Washington Ave               91   \n",
       "2       30th Ave SE & SE 4th Street              220   \n",
       "3         22nd Ave S & Franklin Ave               16   \n",
       "4            Washington & Marquette               30   \n",
       "\n",
       "                end_station_name end_station_id start_lat start_lng  end_lat  \\\n",
       "0               Coldwater Spring            155   44.9485  -93.2062   44.905   \n",
       "1            Franklin & 28th Ave             47   44.9782  -93.2602  44.9627   \n",
       "2    30th Ave SE & SE 4th Street            220   44.9714  -93.2134  44.9714   \n",
       "3      22nd Ave S & Franklin Ave             16   44.9629   -93.241  44.9629   \n",
       "4  Washington Ave S & 10th Ave S             48    44.981  -93.2669  44.9765   \n",
       "\n",
       "    end_lng member_casual  \n",
       "0  -93.1983        member  \n",
       "1  -93.2309        casual  \n",
       "2  -93.2134        casual  \n",
       "3   -93.241        casual  \n",
       "4  -93.2552        casual  "
      ]
     },
     "execution_count": 12,
     "metadata": {},
     "output_type": "execute_result"
    }
   ],
   "source": [
    "nr_2020.head()"
   ]
  },
  {
   "cell_type": "code",
   "execution_count": 13,
   "metadata": {},
   "outputs": [],
   "source": [
    "# Fix dtypes - datetime\n",
    "nr_2020[\"started_at\"] = pd.to_datetime(nr_2020[\"started_at\"])\n",
    "nr_2020[\"ended_at\"] = pd.to_datetime(nr_2020[\"ended_at\"])"
   ]
  },
  {
   "cell_type": "code",
   "execution_count": 14,
   "metadata": {},
   "outputs": [],
   "source": [
    "# Fix dtypes - coordinates\n",
    "nr_2020[\"start_lat\"] = nr_2020[\"start_lat\"].astype(float)\n",
    "nr_2020[\"start_lng\"] = nr_2020[\"start_lng\"].astype(float)\n",
    "nr_2020[\"end_lat\"] = nr_2020[\"end_lat\"].astype(float)\n",
    "nr_2020[\"end_lng\"] = nr_2020[\"end_lng\"].astype(float)"
   ]
  },
  {
   "cell_type": "code",
   "execution_count": 15,
   "metadata": {},
   "outputs": [
    {
     "data": {
      "text/html": [
       "<div>\n",
       "<style scoped>\n",
       "    .dataframe tbody tr th:only-of-type {\n",
       "        vertical-align: middle;\n",
       "    }\n",
       "\n",
       "    .dataframe tbody tr th {\n",
       "        vertical-align: top;\n",
       "    }\n",
       "\n",
       "    .dataframe thead th {\n",
       "        text-align: right;\n",
       "    }\n",
       "</style>\n",
       "<table border=\"1\" class=\"dataframe\">\n",
       "  <thead>\n",
       "    <tr style=\"text-align: right;\">\n",
       "      <th></th>\n",
       "      <th>rideable_type</th>\n",
       "      <th>started_at</th>\n",
       "      <th>ended_at</th>\n",
       "      <th>start_station_name</th>\n",
       "      <th>start_station_id</th>\n",
       "      <th>end_station_name</th>\n",
       "      <th>end_station_id</th>\n",
       "      <th>start_lat</th>\n",
       "      <th>start_lng</th>\n",
       "      <th>end_lat</th>\n",
       "      <th>end_lng</th>\n",
       "      <th>member_casual</th>\n",
       "    </tr>\n",
       "  </thead>\n",
       "  <tbody>\n",
       "    <tr>\n",
       "      <th>0</th>\n",
       "      <td>docked_bike</td>\n",
       "      <td>2020-04-29 17:41:02</td>\n",
       "      <td>2020-04-29 18:20:55</td>\n",
       "      <td>Lake Street &amp; West River Parkway</td>\n",
       "      <td>149</td>\n",
       "      <td>Coldwater Spring</td>\n",
       "      <td>155</td>\n",
       "      <td>44.9485</td>\n",
       "      <td>-93.2062</td>\n",
       "      <td>44.9050</td>\n",
       "      <td>-93.1983</td>\n",
       "      <td>member</td>\n",
       "    </tr>\n",
       "    <tr>\n",
       "      <th>1</th>\n",
       "      <td>docked_bike</td>\n",
       "      <td>2020-04-11 19:28:44</td>\n",
       "      <td>2020-04-11 19:47:35</td>\n",
       "      <td>Portland Ave &amp; Washington Ave</td>\n",
       "      <td>91</td>\n",
       "      <td>Franklin &amp; 28th Ave</td>\n",
       "      <td>47</td>\n",
       "      <td>44.9782</td>\n",
       "      <td>-93.2602</td>\n",
       "      <td>44.9627</td>\n",
       "      <td>-93.2309</td>\n",
       "      <td>casual</td>\n",
       "    </tr>\n",
       "    <tr>\n",
       "      <th>2</th>\n",
       "      <td>docked_bike</td>\n",
       "      <td>2020-04-18 18:04:00</td>\n",
       "      <td>2020-04-18 18:46:34</td>\n",
       "      <td>30th Ave SE &amp; SE 4th Street</td>\n",
       "      <td>220</td>\n",
       "      <td>30th Ave SE &amp; SE 4th Street</td>\n",
       "      <td>220</td>\n",
       "      <td>44.9714</td>\n",
       "      <td>-93.2134</td>\n",
       "      <td>44.9714</td>\n",
       "      <td>-93.2134</td>\n",
       "      <td>casual</td>\n",
       "    </tr>\n",
       "    <tr>\n",
       "      <th>3</th>\n",
       "      <td>docked_bike</td>\n",
       "      <td>2020-04-28 22:20:20</td>\n",
       "      <td>2020-04-28 23:06:16</td>\n",
       "      <td>22nd Ave S &amp; Franklin Ave</td>\n",
       "      <td>16</td>\n",
       "      <td>22nd Ave S &amp; Franklin Ave</td>\n",
       "      <td>16</td>\n",
       "      <td>44.9629</td>\n",
       "      <td>-93.2410</td>\n",
       "      <td>44.9629</td>\n",
       "      <td>-93.2410</td>\n",
       "      <td>casual</td>\n",
       "    </tr>\n",
       "    <tr>\n",
       "      <th>4</th>\n",
       "      <td>docked_bike</td>\n",
       "      <td>2020-04-26 14:47:36</td>\n",
       "      <td>2020-04-26 15:54:38</td>\n",
       "      <td>Washington &amp; Marquette</td>\n",
       "      <td>30</td>\n",
       "      <td>Washington Ave S &amp; 10th Ave S</td>\n",
       "      <td>48</td>\n",
       "      <td>44.9810</td>\n",
       "      <td>-93.2669</td>\n",
       "      <td>44.9765</td>\n",
       "      <td>-93.2552</td>\n",
       "      <td>casual</td>\n",
       "    </tr>\n",
       "  </tbody>\n",
       "</table>\n",
       "</div>"
      ],
      "text/plain": [
       "  rideable_type          started_at            ended_at  \\\n",
       "0   docked_bike 2020-04-29 17:41:02 2020-04-29 18:20:55   \n",
       "1   docked_bike 2020-04-11 19:28:44 2020-04-11 19:47:35   \n",
       "2   docked_bike 2020-04-18 18:04:00 2020-04-18 18:46:34   \n",
       "3   docked_bike 2020-04-28 22:20:20 2020-04-28 23:06:16   \n",
       "4   docked_bike 2020-04-26 14:47:36 2020-04-26 15:54:38   \n",
       "\n",
       "                 start_station_name start_station_id  \\\n",
       "0  Lake Street & West River Parkway              149   \n",
       "1     Portland Ave & Washington Ave               91   \n",
       "2       30th Ave SE & SE 4th Street              220   \n",
       "3         22nd Ave S & Franklin Ave               16   \n",
       "4            Washington & Marquette               30   \n",
       "\n",
       "                end_station_name end_station_id  start_lat  start_lng  \\\n",
       "0               Coldwater Spring            155    44.9485   -93.2062   \n",
       "1            Franklin & 28th Ave             47    44.9782   -93.2602   \n",
       "2    30th Ave SE & SE 4th Street            220    44.9714   -93.2134   \n",
       "3      22nd Ave S & Franklin Ave             16    44.9629   -93.2410   \n",
       "4  Washington Ave S & 10th Ave S             48    44.9810   -93.2669   \n",
       "\n",
       "   end_lat  end_lng member_casual  \n",
       "0  44.9050 -93.1983        member  \n",
       "1  44.9627 -93.2309        casual  \n",
       "2  44.9714 -93.2134        casual  \n",
       "3  44.9629 -93.2410        casual  \n",
       "4  44.9765 -93.2552        casual  "
      ]
     },
     "execution_count": 15,
     "metadata": {},
     "output_type": "execute_result"
    }
   ],
   "source": [
    "nr_2020 = nr_2020.drop(columns=[\"ride_id\"])\n",
    "nr_2020.head()"
   ]
  },
  {
   "cell_type": "code",
   "execution_count": 21,
   "metadata": {},
   "outputs": [],
   "source": [
    "nr_2020.rename(columns={\"started_at\" : \"start_datetime\", \n",
    "                        \"start_station_name\" : \"start_station_name\", \n",
    "                        \"start_station_id\" : \"start_station_id\",\n",
    "                        \"ended_at\" : \"end_datetime\",\n",
    "                        \"end_station_name\" : \"end_station_name\",\n",
    "                        \"end_station_id\" : \"end_station_id\",\n",
    "                        \"member_casual\" : \"account_type\",\n",
    "                        \"start_lat\" : \"start_station_lat\",\n",
    "                        \"start_lng\" : \"start_station_lng\",\n",
    "                        \"end_lat\" : \"end_station_lat\",\n",
    "                        \"end_lng\" : \"end_station_lng\",\n",
    "                        \"rideable_type\" : \"bike_type\"}, \n",
    "              inplace=True)"
   ]
  },
  {
   "cell_type": "code",
   "execution_count": 22,
   "metadata": {},
   "outputs": [],
   "source": [
    "# Export combined .csv\n",
    "nr_2020.to_csv(path_or_buf=\"../Input_Data/Nice_ride_trip_history_2020_season.csv\", index=False)"
   ]
  },
  {
   "cell_type": "code",
   "execution_count": 23,
   "metadata": {},
   "outputs": [
    {
     "data": {
      "text/plain": [
       "array(['149', '91', '220', '16', '30', '90', '159', '46', '188', '49',\n",
       "       '32', '41', '198', '51', '39', '169', '146', '199', '221', '168',\n",
       "       '63', '801', '806', '112', '62', '805', '209', '92', '45', '93',\n",
       "       '153', '158', '117', '23', '97', '114', '31', '19', '210', '202',\n",
       "       '148', '8', '2', '105', '68', '919', '205', '186', '111', '115',\n",
       "       '195', '156', '52', '838', '94', '89', '187', '145', '116', '60',\n",
       "       '214', '192', '82', '839', '67', '170', '4', '206', '194', '22',\n",
       "       '75', '182', '15', '144', '56', '99', '196', '181', '155', '804',\n",
       "       '12', '803', '53', '200', '95', '163', '212', '167', '40', '807',\n",
       "       '7', '646', '18', '197', '632', '162', '27', '50', '845', '10',\n",
       "       '165', '223', '24', '47', '21', '36', '37', '33', '207', '110',\n",
       "       '820', '17', '96', '88', '20', '175', '73', '858', '860', '846',\n",
       "       '28', '76', '66', '189', '42', '83', '147', '9', '57', '71', '65',\n",
       "       '821', '64', '70', '26', '920', '29', '802', '59', '849', '48',\n",
       "       '61', '72', '150', '808', '928', '43', '35', '203', '13', '55',\n",
       "       '859', '34', '217', '208', '3', '5', '840', '171', '98', '25',\n",
       "       '822', '69', '819', '211', '609', '224', '204', '857', nan, '929',\n",
       "       '930'], dtype=object)"
      ]
     },
     "execution_count": 23,
     "metadata": {},
     "output_type": "execute_result"
    }
   ],
   "source": [
    "station_list = nr_2020[\"start_station_id\"].unique()\n",
    "station_list"
   ]
  },
  {
   "cell_type": "code",
   "execution_count": 24,
   "metadata": {},
   "outputs": [
    {
     "data": {
      "text/plain": [
       "172"
      ]
     },
     "execution_count": 24,
     "metadata": {},
     "output_type": "execute_result"
    }
   ],
   "source": [
    "len(station_list)"
   ]
  },
  {
   "cell_type": "code",
   "execution_count": 26,
   "metadata": {},
   "outputs": [
    {
     "data": {
      "text/html": [
       "<div>\n",
       "<style scoped>\n",
       "    .dataframe tbody tr th:only-of-type {\n",
       "        vertical-align: middle;\n",
       "    }\n",
       "\n",
       "    .dataframe tbody tr th {\n",
       "        vertical-align: top;\n",
       "    }\n",
       "\n",
       "    .dataframe thead th {\n",
       "        text-align: right;\n",
       "    }\n",
       "</style>\n",
       "<table border=\"1\" class=\"dataframe\">\n",
       "  <thead>\n",
       "    <tr style=\"text-align: right;\">\n",
       "      <th></th>\n",
       "      <th>bike_type</th>\n",
       "      <th>start_datetime</th>\n",
       "      <th>end_datetime</th>\n",
       "      <th>start_station_name</th>\n",
       "      <th>start_station_id</th>\n",
       "      <th>end_station_name</th>\n",
       "      <th>end_station_id</th>\n",
       "      <th>start_station_lat</th>\n",
       "      <th>start_station_lng</th>\n",
       "      <th>end_station_lat</th>\n",
       "      <th>end_station_lng</th>\n",
       "      <th>account_type</th>\n",
       "    </tr>\n",
       "  </thead>\n",
       "  <tbody>\n",
       "    <tr>\n",
       "      <th>14399</th>\n",
       "      <td>electric_bike</td>\n",
       "      <td>2020-05-28 06:51:49</td>\n",
       "      <td>2020-05-28 07:04:10</td>\n",
       "      <td>100 Main Street SE</td>\n",
       "      <td>2</td>\n",
       "      <td>S 5th St &amp; S Marquette Ave</td>\n",
       "      <td>NaN</td>\n",
       "      <td>44.9848</td>\n",
       "      <td>-93.2561</td>\n",
       "      <td>44.979000</td>\n",
       "      <td>-93.270300</td>\n",
       "      <td>member</td>\n",
       "    </tr>\n",
       "    <tr>\n",
       "      <th>14400</th>\n",
       "      <td>electric_bike</td>\n",
       "      <td>2020-05-28 11:35:30</td>\n",
       "      <td>2020-05-28 11:42:41</td>\n",
       "      <td>S 5th Street &amp; Nicollet Mall</td>\n",
       "      <td>182</td>\n",
       "      <td>6th Ave SE &amp; University Ave</td>\n",
       "      <td>89</td>\n",
       "      <td>44.9790</td>\n",
       "      <td>-93.2701</td>\n",
       "      <td>44.983300</td>\n",
       "      <td>-93.248100</td>\n",
       "      <td>member</td>\n",
       "    </tr>\n",
       "    <tr>\n",
       "      <th>14899</th>\n",
       "      <td>electric_bike</td>\n",
       "      <td>2020-05-27 15:42:02</td>\n",
       "      <td>2020-05-27 15:55:58</td>\n",
       "      <td>Riverside Ave &amp; 23rd Ave S</td>\n",
       "      <td>4</td>\n",
       "      <td>S 5th St &amp; S Marquette Ave</td>\n",
       "      <td>NaN</td>\n",
       "      <td>44.9671</td>\n",
       "      <td>-93.2402</td>\n",
       "      <td>44.978900</td>\n",
       "      <td>-93.269900</td>\n",
       "      <td>member</td>\n",
       "    </tr>\n",
       "    <tr>\n",
       "      <th>15626</th>\n",
       "      <td>electric_bike</td>\n",
       "      <td>2020-05-27 20:51:16</td>\n",
       "      <td>2020-05-27 21:35:56</td>\n",
       "      <td>26th Street &amp; Hennepin</td>\n",
       "      <td>46</td>\n",
       "      <td>26th Street &amp; Hennepin</td>\n",
       "      <td>46</td>\n",
       "      <td>44.9555</td>\n",
       "      <td>-93.2972</td>\n",
       "      <td>44.955400</td>\n",
       "      <td>-93.297300</td>\n",
       "      <td>member</td>\n",
       "    </tr>\n",
       "    <tr>\n",
       "      <th>18972</th>\n",
       "      <td>electric_bike</td>\n",
       "      <td>2020-05-27 19:17:23</td>\n",
       "      <td>2020-05-27 19:52:12</td>\n",
       "      <td>NaN</td>\n",
       "      <td>NaN</td>\n",
       "      <td>NaN</td>\n",
       "      <td>NaN</td>\n",
       "      <td>44.9871</td>\n",
       "      <td>-93.2559</td>\n",
       "      <td>44.986500</td>\n",
       "      <td>-93.250600</td>\n",
       "      <td>casual</td>\n",
       "    </tr>\n",
       "    <tr>\n",
       "      <th>...</th>\n",
       "      <td>...</td>\n",
       "      <td>...</td>\n",
       "      <td>...</td>\n",
       "      <td>...</td>\n",
       "      <td>...</td>\n",
       "      <td>...</td>\n",
       "      <td>...</td>\n",
       "      <td>...</td>\n",
       "      <td>...</td>\n",
       "      <td>...</td>\n",
       "      <td>...</td>\n",
       "      <td>...</td>\n",
       "    </tr>\n",
       "    <tr>\n",
       "      <th>229072</th>\n",
       "      <td>electric_bike</td>\n",
       "      <td>2020-11-03 13:28:26</td>\n",
       "      <td>2020-11-03 13:55:17</td>\n",
       "      <td>E 25th St &amp; 30th Ave S</td>\n",
       "      <td>NaN</td>\n",
       "      <td>Lake of the Isles Park</td>\n",
       "      <td>806</td>\n",
       "      <td>44.9600</td>\n",
       "      <td>-93.2300</td>\n",
       "      <td>44.951438</td>\n",
       "      <td>-93.308441</td>\n",
       "      <td>casual</td>\n",
       "    </tr>\n",
       "    <tr>\n",
       "      <th>229073</th>\n",
       "      <td>electric_bike</td>\n",
       "      <td>2020-11-03 07:39:52</td>\n",
       "      <td>2020-11-03 07:47:39</td>\n",
       "      <td>Oak Grove St &amp; Spruce Pl</td>\n",
       "      <td>NaN</td>\n",
       "      <td>Elliot Park</td>\n",
       "      <td>65</td>\n",
       "      <td>44.9700</td>\n",
       "      <td>-93.2800</td>\n",
       "      <td>44.970109</td>\n",
       "      <td>-93.261515</td>\n",
       "      <td>casual</td>\n",
       "    </tr>\n",
       "    <tr>\n",
       "      <th>229074</th>\n",
       "      <td>electric_bike</td>\n",
       "      <td>2020-11-01 09:29:55</td>\n",
       "      <td>2020-11-01 09:33:04</td>\n",
       "      <td>S 10th Ave &amp; Midtown Greenway</td>\n",
       "      <td>NaN</td>\n",
       "      <td>NaN</td>\n",
       "      <td>NaN</td>\n",
       "      <td>44.9500</td>\n",
       "      <td>-93.2600</td>\n",
       "      <td>44.960000</td>\n",
       "      <td>-93.260000</td>\n",
       "      <td>casual</td>\n",
       "    </tr>\n",
       "    <tr>\n",
       "      <th>229075</th>\n",
       "      <td>electric_bike</td>\n",
       "      <td>2020-11-01 00:50:46</td>\n",
       "      <td>2020-11-01 00:59:05</td>\n",
       "      <td>NaN</td>\n",
       "      <td>NaN</td>\n",
       "      <td>NaN</td>\n",
       "      <td>NaN</td>\n",
       "      <td>44.9400</td>\n",
       "      <td>-93.2800</td>\n",
       "      <td>44.940000</td>\n",
       "      <td>-93.260000</td>\n",
       "      <td>casual</td>\n",
       "    </tr>\n",
       "    <tr>\n",
       "      <th>229076</th>\n",
       "      <td>electric_bike</td>\n",
       "      <td>2020-11-03 18:46:53</td>\n",
       "      <td>2020-11-03 18:53:51</td>\n",
       "      <td>Chicago Ave &amp; S 9th St</td>\n",
       "      <td>NaN</td>\n",
       "      <td>Oak Grove St &amp; Clifton Pl</td>\n",
       "      <td>NaN</td>\n",
       "      <td>44.9700</td>\n",
       "      <td>-93.2600</td>\n",
       "      <td>44.970000</td>\n",
       "      <td>-93.290000</td>\n",
       "      <td>casual</td>\n",
       "    </tr>\n",
       "  </tbody>\n",
       "</table>\n",
       "<p>93069 rows × 12 columns</p>\n",
       "</div>"
      ],
      "text/plain": [
       "            bike_type      start_datetime        end_datetime  \\\n",
       "14399   electric_bike 2020-05-28 06:51:49 2020-05-28 07:04:10   \n",
       "14400   electric_bike 2020-05-28 11:35:30 2020-05-28 11:42:41   \n",
       "14899   electric_bike 2020-05-27 15:42:02 2020-05-27 15:55:58   \n",
       "15626   electric_bike 2020-05-27 20:51:16 2020-05-27 21:35:56   \n",
       "18972   electric_bike 2020-05-27 19:17:23 2020-05-27 19:52:12   \n",
       "...               ...                 ...                 ...   \n",
       "229072  electric_bike 2020-11-03 13:28:26 2020-11-03 13:55:17   \n",
       "229073  electric_bike 2020-11-03 07:39:52 2020-11-03 07:47:39   \n",
       "229074  electric_bike 2020-11-01 09:29:55 2020-11-01 09:33:04   \n",
       "229075  electric_bike 2020-11-01 00:50:46 2020-11-01 00:59:05   \n",
       "229076  electric_bike 2020-11-03 18:46:53 2020-11-03 18:53:51   \n",
       "\n",
       "                   start_station_name start_station_id  \\\n",
       "14399              100 Main Street SE                2   \n",
       "14400    S 5th Street & Nicollet Mall              182   \n",
       "14899      Riverside Ave & 23rd Ave S                4   \n",
       "15626          26th Street & Hennepin               46   \n",
       "18972                             NaN              NaN   \n",
       "...                               ...              ...   \n",
       "229072         E 25th St & 30th Ave S              NaN   \n",
       "229073       Oak Grove St & Spruce Pl              NaN   \n",
       "229074  S 10th Ave & Midtown Greenway              NaN   \n",
       "229075                            NaN              NaN   \n",
       "229076         Chicago Ave & S 9th St              NaN   \n",
       "\n",
       "                   end_station_name end_station_id  start_station_lat  \\\n",
       "14399   S 5th St & S Marquette Ave             NaN            44.9848   \n",
       "14400   6th Ave SE & University Ave             89            44.9790   \n",
       "14899   S 5th St & S Marquette Ave             NaN            44.9671   \n",
       "15626        26th Street & Hennepin             46            44.9555   \n",
       "18972                           NaN            NaN            44.9871   \n",
       "...                             ...            ...                ...   \n",
       "229072       Lake of the Isles Park            806            44.9600   \n",
       "229073                  Elliot Park             65            44.9700   \n",
       "229074                          NaN            NaN            44.9500   \n",
       "229075                          NaN            NaN            44.9400   \n",
       "229076    Oak Grove St & Clifton Pl            NaN            44.9700   \n",
       "\n",
       "        start_station_lng  end_station_lat  end_station_lng account_type  \n",
       "14399            -93.2561        44.979000       -93.270300       member  \n",
       "14400            -93.2701        44.983300       -93.248100       member  \n",
       "14899            -93.2402        44.978900       -93.269900       member  \n",
       "15626            -93.2972        44.955400       -93.297300       member  \n",
       "18972            -93.2559        44.986500       -93.250600       casual  \n",
       "...                   ...              ...              ...          ...  \n",
       "229072           -93.2300        44.951438       -93.308441       casual  \n",
       "229073           -93.2800        44.970109       -93.261515       casual  \n",
       "229074           -93.2600        44.960000       -93.260000       casual  \n",
       "229075           -93.2800        44.940000       -93.260000       casual  \n",
       "229076           -93.2600        44.970000       -93.290000       casual  \n",
       "\n",
       "[93069 rows x 12 columns]"
      ]
     },
     "execution_count": 26,
     "metadata": {},
     "output_type": "execute_result"
    }
   ],
   "source": [
    "electric_df = nr_2020.loc[nr_2020[\"bike_type\"] != \"docked_bike\"]\n",
    "electric_df"
   ]
  },
  {
   "cell_type": "code",
   "execution_count": 28,
   "metadata": {},
   "outputs": [
    {
     "data": {
      "text/plain": [
       "electric_bike    91463\n",
       "classic_bike      1606\n",
       "Name: bike_type, dtype: int64"
      ]
     },
     "execution_count": 28,
     "metadata": {},
     "output_type": "execute_result"
    }
   ],
   "source": [
    "electric_df[\"bike_type\"].value_counts()"
   ]
  },
  {
   "cell_type": "code",
   "execution_count": null,
   "metadata": {},
   "outputs": [],
   "source": []
  }
 ],
 "metadata": {
  "kernelspec": {
   "display_name": "Python 3",
   "language": "python",
   "name": "python3"
  },
  "language_info": {
   "codemirror_mode": {
    "name": "ipython",
    "version": 3
   },
   "file_extension": ".py",
   "mimetype": "text/x-python",
   "name": "python",
   "nbconvert_exporter": "python",
   "pygments_lexer": "ipython3",
   "version": "3.6.10"
  }
 },
 "nbformat": 4,
 "nbformat_minor": 4
}
