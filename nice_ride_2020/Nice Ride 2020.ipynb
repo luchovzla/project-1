{
 "cells": [
  {
   "cell_type": "code",
   "execution_count": null,
   "metadata": {},
   "outputs": [],
   "source": [
    "# Dependencies\n",
    "import pandas as pd\n",
    "import numpy as np\n",
    "import matplotlib.pyplot as plt\n",
    "import datetime"
   ]
  },
  {
   "cell_type": "code",
   "execution_count": null,
   "metadata": {},
   "outputs": [],
   "source": [
    "#Import CSV Files\n",
    "apr_20_path = \"202004-niceride-tripdata.csv\"\n",
    "may_20_path = \"202005-niceride-tripdata.csv\"\n",
    "jun_20_path = \"202006-niceride-tripdata.csv\"\n",
    "jul_20_path = \"202007-niceride-tripdata.csv\"\n",
    "aug_20_path = \"202008-niceride-tripdata.csv\"\n",
    "sep_20_path = \"202009-niceride-tripdata.csv\"\n",
    "oct_20_path = \"202010-niceride-tripdata.csv\"\n",
    "nov_20_path = \"202011-niceride-tripdata.csv\""
   ]
  },
  {
   "cell_type": "code",
   "execution_count": null,
   "metadata": {},
   "outputs": [],
   "source": [
    "#Read data to df\n",
    "apr_2020 = pd.read_csv(apr_20_path, dtype=str)\n",
    "len(apr_2020)"
   ]
  },
  {
   "cell_type": "code",
   "execution_count": null,
   "metadata": {},
   "outputs": [],
   "source": [
    "may_2020 = pd.read_csv(may_20_path, dtype=str)\n",
    "len(may_2020)"
   ]
  },
  {
   "cell_type": "code",
   "execution_count": null,
   "metadata": {},
   "outputs": [],
   "source": [
    "jun_2020 = pd.read_csv(jun_20_path, dtype = str)\n",
    "len(jun_2020)"
   ]
  },
  {
   "cell_type": "code",
   "execution_count": null,
   "metadata": {},
   "outputs": [],
   "source": [
    "jul_2020 = pd.read_csv(jul_20_path, dtype = str)\n",
    "len(jul_2020)"
   ]
  },
  {
   "cell_type": "code",
   "execution_count": null,
   "metadata": {},
   "outputs": [],
   "source": [
    "aug_2020 = pd.read_csv(aug_20_path, dtype=str)\n",
    "len(aug_2020)"
   ]
  },
  {
   "cell_type": "code",
   "execution_count": null,
   "metadata": {},
   "outputs": [],
   "source": [
    "sep_2020 = pd.read_csv(sep_20_path, dtype=str)\n",
    "len(sep_2020)"
   ]
  },
  {
   "cell_type": "code",
   "execution_count": null,
   "metadata": {},
   "outputs": [],
   "source": [
    "oct_2020 = pd.read_csv(oct_20_path, dtype=str)\n",
    "len(oct_2020)"
   ]
  },
  {
   "cell_type": "code",
   "execution_count": null,
   "metadata": {},
   "outputs": [],
   "source": [
    "nov_2020 = pd.read_csv(nov_20_path, dtype=str)\n",
    "len(nov_2020)"
   ]
  },
  {
   "cell_type": "code",
   "execution_count": null,
   "metadata": {},
   "outputs": [],
   "source": [
    "# Append frames\n",
    "nr_2020 = apr_2020.append(may_2020, ignore_index=True)\n",
    "nr_2020 = nr_2020.append(jun_2020, ignore_index=True)\n",
    "nr_2020 = nr_2020.append(jul_2020, ignore_index=True)\n",
    "nr_2020 = nr_2020.append(aug_2020, ignore_index=True)\n",
    "nr_2020 = nr_2020.append(sep_2020, ignore_index=True)\n",
    "nr_2020 = nr_2020.append(oct_2020, ignore_index=True)\n",
    "nr_2020 = nr_2020.append(nov_2020, ignore_index=True)\n",
    "len(nr_2020)"
   ]
  },
  {
   "cell_type": "code",
   "execution_count": null,
   "metadata": {},
   "outputs": [],
   "source": [
    "nr_2020.head()"
   ]
  },
  {
   "cell_type": "code",
   "execution_count": null,
   "metadata": {},
   "outputs": [],
   "source": [
    "# Fix dtypes - datetime\n",
    "nr_2020[\"started_at\"] = pd.to_datetime(nr_2020[\"started_at\"])\n",
    "nr_2020[\"ended_at\"] = pd.to_datetime(nr_2020[\"ended_at\"])"
   ]
  },
  {
   "cell_type": "code",
   "execution_count": null,
   "metadata": {},
   "outputs": [],
   "source": [
    "# Fix dtypes - coordinates\n",
    "nr_2020[\"start_lat\"] = nr_2020[\"start_lat\"].astype(float)\n",
    "nr_2020[\"start_lng\"] = nr_2020[\"start_lng\"].astype(float)\n",
    "nr_2020[\"end_lat\"] = nr_2020[\"end_lat\"].astype(float)\n",
    "nr_2020[\"end_lng\"] = nr_2020[\"end_lng\"].astype(float)"
   ]
  },
  {
   "cell_type": "code",
   "execution_count": null,
   "metadata": {},
   "outputs": [],
   "source": [
    "nr_2020[\"rideable_type\"] = nr_2020[\"rideable_type\"].convert_dtypes()\n",
    "nr_2020[\"start_station_name\"] = nr_2020[\"start_station_name\"].convert_dtypes()\n",
    "nr_2020[\"start_station_id\"] = nr_2020[\"start_station_id\"].convert_dtypes()\n",
    "nr_2020[\"end_station_name\"] = nr_2020[\"end_station_name\"].convert_dtypes()\n",
    "nr_2020[\"end_station_id\"] = nr_2020[\"end_station_id\"].convert_dtypes()\n",
    "nr_2020[\"member_casual\"] = nr_2020[\"member_casual\"].convert_dtypes()"
   ]
  },
  {
   "cell_type": "code",
   "execution_count": null,
   "metadata": {},
   "outputs": [],
   "source": [
    "nr_2020 = nr_2020.drop(columns=[\"ride_id\"])"
   ]
  },
  {
   "cell_type": "code",
   "execution_count": null,
   "metadata": {},
   "outputs": [],
   "source": [
    "nr_2020[\"member_casual\"]=nr_2020[\"member_casual\"].str.replace(\"casual\", \"Casual\")\n",
    "nr_2020[\"member_casual\"]=nr_2020['member_casual'].str.replace(\"member\", \"Member\")\n",
    "nr_2020.head()"
   ]
  },
  {
   "cell_type": "code",
   "execution_count": null,
   "metadata": {},
   "outputs": [],
   "source": [
    "nr_2020.rename(columns={\"started_at\" : \"start_datetime\", \n",
    "                        \"start_station_name\" : \"start_station_name\", \n",
    "                        \"start_station_id\" : \"start_station_id\",\n",
    "                        \"ended_at\" : \"end_datetime\",\n",
    "                        \"end_station_name\" : \"end_station_name\",\n",
    "                        \"end_station_id\" : \"end_station_id\",\n",
    "                        \"member_casual\" : \"account_type\",\n",
    "                        \"start_lat\" : \"start_station_lat\",\n",
    "                        \"start_lng\" : \"start_station_lng\",\n",
    "                        \"end_lat\" : \"end_station_lat\",\n",
    "                        \"end_lng\" : \"end_station_lng\",\n",
    "                        \"rideable_type\" : \"bike_type\"}, \n",
    "              inplace=True)"
   ]
  },
  {
   "cell_type": "code",
   "execution_count": null,
   "metadata": {},
   "outputs": [],
   "source": [
    "# Export combined .csv\n",
    "nr_2020.to_csv(path_or_buf=\"../Resources/Nice_ride_trip_history_2020_season.csv\", index=False)"
   ]
  },
  {
   "cell_type": "code",
   "execution_count": null,
   "metadata": {},
   "outputs": [],
   "source": [
    "# # Create dataframe with all dockless bike info\n",
    "# docked2020_df = nr_2020.loc[pd.notna(nr_2020[\"start_station_name\"])]\n",
    "# docked2020_df = docked2020_df.loc[pd.notna(docked2020_df[\"end_station_name\"])]\n",
    "# docked2020_df"
   ]
  },
  {
   "cell_type": "code",
   "execution_count": null,
   "metadata": {},
   "outputs": [],
   "source": [
    "# # Create dataframe with all stationed bike info\n",
    "# docked2020_df = nr_2020.dropna(axis=0)\n",
    "# docked2020_df"
   ]
  },
  {
   "cell_type": "code",
   "execution_count": null,
   "metadata": {},
   "outputs": [],
   "source": [
    "# electric_df = nr_2020.loc[nr_2020[\"bike_type\"] != \"docked_bike\"]\n",
    "# electric_df"
   ]
  },
  {
   "cell_type": "code",
   "execution_count": null,
   "metadata": {},
   "outputs": [],
   "source": [
    "# electric_df[\"bike_type\"].value_counts()"
   ]
  },
  {
   "cell_type": "code",
   "execution_count": null,
   "metadata": {},
   "outputs": [],
   "source": [
    "# START STEPH SECTION - LINE CHART"
   ]
  },
  {
   "cell_type": "code",
   "execution_count": null,
   "metadata": {},
   "outputs": [],
   "source": [
    "nr_2020.head()"
   ]
  },
  {
   "cell_type": "code",
   "execution_count": null,
   "metadata": {
    "scrolled": false
   },
   "outputs": [],
   "source": [
    "# re-sort by datetime\n",
    "nr_2020.sort_values(by=[\"start_datetime\"], inplace=True, ignore_index=True)\n",
    "nr_2020"
   ]
  },
  {
   "cell_type": "code",
   "execution_count": null,
   "metadata": {},
   "outputs": [],
   "source": [
    "# Split datetime column into two values\n",
    "nr_2020[\"month\"] = nr_2020.start_datetime.dt.month\n",
    "nr_2020[\"day\"] = nr_2020.start_datetime.dt.day\n",
    "nr_2020.head()"
   ]
  },
  {
   "cell_type": "code",
   "execution_count": null,
   "metadata": {},
   "outputs": [],
   "source": [
    "#Add weather observations\n",
    "high_temps = [88, 89, 90, 90, 92, 86, 88, 93, 82, 85, 84, 85, 85, 79, 80, 84, 90, 91, 83, 83, 82, 69, 80, 92, 88, 86, 84, 85, 84, 82, 84]\n",
    "len(high_temps)\n",
    "rain = [0.00, 0.00, 0.00, 0.00, 0.00, 0.35, 0.08, 0.00, 0.33, 0.00, 0.46, 0.00, 0.00, 0.24, 0.00, 0.00, 0.00, 0.51, 0.00, 0.00, 0.36, 0.00, 0.00, 0.00, 0.24, 0.45, 0.00, 0.17, 0.00, 0.00, 0.00]\n",
    "len(rain)\n"
   ]
  },
  {
   "cell_type": "code",
   "execution_count": null,
   "metadata": {
    "scrolled": true
   },
   "outputs": [],
   "source": [
    "# Calculate total number of rides per day\n",
    "per_day_rides = nr_2020.groupby([nr_2020.month, nr_2020.day]).count()\n",
    "per_day_rides = pd.DataFrame(per_day_rides)\n",
    "per_day_rides"
   ]
  },
  {
   "cell_type": "code",
   "execution_count": null,
   "metadata": {},
   "outputs": [],
   "source": [
    "daily_rides = list(per_day_rides.account_type)\n",
    "len(daily_rides)"
   ]
  },
  {
   "cell_type": "code",
   "execution_count": null,
   "metadata": {},
   "outputs": [],
   "source": [
    "#Define parameters for plot by day\n",
    "\n",
    "months=np.arange(4,12,1)\n",
    "x_month = [month for month in months]\n",
    "rides = per_day_rides.loc[x_month]\n",
    "x= len(rides) +1\n",
    "x_axis = np.arange(1,x,1)\n",
    "len(x_axis)"
   ]
  },
  {
   "cell_type": "code",
   "execution_count": null,
   "metadata": {},
   "outputs": [],
   "source": [
    "# Draw plot\n",
    "plt.figure(figsize=(30,5))\n",
    "plt.plot(x_axis, daily_rides)\n",
    "plt.show()"
   ]
  },
  {
   "cell_type": "code",
   "execution_count": null,
   "metadata": {},
   "outputs": [],
   "source": [
    "# Define a function to get ride values\n",
    "\n",
    "def get_rides(month):\n",
    "    monthly_rides = per_day_rides.month[month].sum()\n",
    "    return monthly_rides\n",
    "\n",
    "month = 4\n",
    "result = get_rides(month)\n",
    "\n",
    "result"
   ]
  },
  {
   "cell_type": "code",
   "execution_count": null,
   "metadata": {
    "scrolled": false
   },
   "outputs": [],
   "source": [
    "# Write the loop to get the data\n",
    "\n",
    "results = []\n",
    "months = [4, 5, 6, 7, 8, 9, 10, 11]\n",
    "for month in months:\n",
    "    results.append(get_rides(month))\n",
    "\n",
    "#results[0][0]    "
   ]
  },
  {
   "cell_type": "code",
   "execution_count": null,
   "metadata": {},
   "outputs": [],
   "source": [
    "results_df = pd.DataFrame(results, columns = [\"monthly\"])\n",
    "results_df"
   ]
  },
  {
   "cell_type": "code",
   "execution_count": null,
   "metadata": {},
   "outputs": [],
   "source": [
    "# Define paramaters for plot by month\n",
    "x_axis = months\n",
    "y_values = results_df[\"monthly\"]\n",
    "print(x_axis)\n",
    "print(y_values)"
   ]
  },
  {
   "cell_type": "code",
   "execution_count": null,
   "metadata": {},
   "outputs": [],
   "source": [
    "# Draw plot\n",
    "plt.figure(figsize = (10,5))\n",
    "plt.plot(x_axis, y_values)\n",
    "plt.show()"
   ]
  },
  {
   "cell_type": "code",
   "execution_count": null,
   "metadata": {},
   "outputs": [],
   "source": [
    "# Track daily data for one month, look for patterns\n",
    "\n",
    "jul_rides = per_day_rides.loc[7]\n",
    "jul_rides = jul_rides.account_type\n",
    "jul_rides = pd.DataFrame(jul_rides)\n",
    "jul_rides.head()"
   ]
  },
  {
   "cell_type": "code",
   "execution_count": null,
   "metadata": {},
   "outputs": [],
   "source": [
    "#Add weather observations\n",
    "high_temps = [88, 89, 90, 90, 92, 86, 88, 93, 82, 85, 84, 85, 85, 79, 80, 84, 90, 91, 83, 83, 82, 69, 80, 92, 88, 86, 84, 85, 84, 82, 84]\n",
    "len(high_temps)\n",
    "rain = [0.00, 0.00, 0.00, 0.00, 0.00, 0.35, 0.08, 0.00, 0.33, 0.00, 0.46, 0.00, 0.00, 0.24, 0.00, 0.00, 0.00, 0.51, 0.00, 0.00, 0.36, 0.00, 0.00, 0.00, 0.24, 0.45, 0.00, 0.17, 0.00, 0.00, 0.00]\n",
    "len(rain)\n",
    "\n",
    "jul_rides[\"high_temps\"] = high_temps\n",
    "jul_rides[\"rain\"] = rain\n",
    "\n",
    "jul_rides.head()"
   ]
  },
  {
   "cell_type": "code",
   "execution_count": null,
   "metadata": {},
   "outputs": [],
   "source": [
    "x_axis = np.arange(1,32,1)\n",
    "\n",
    "plt.figure(figsize=(6,4))\n",
    "plt.plot(x_axis, jul_rides.account_type)\n",
    "tick_locations = (5, 12, 19, 26)\n",
    "labels = (\"Sun\", \"Sun\", \"Sun\", \"Sun\")\n",
    "plt.grid(which=\"major\", axis=\"x\")\n",
    "plt.xticks(tick_locations, labels)\n",
    "plt.show()"
   ]
  },
  {
   "cell_type": "code",
   "execution_count": null,
   "metadata": {},
   "outputs": [],
   "source": [
    "x_axis = np.arange(1,32,1)\n",
    "\n",
    "plt.figure(figsize=(6,4))\n",
    "plt.plot(x_axis, jul_rides.high_temps)\n",
    "tick_locations = (5, 12, 19, 26)\n",
    "labels = (\"Sun\", \"Sun\", \"Sun\", \"Sun\")\n",
    "plt.xticks(tick_locations, labels)\n",
    "plt.grid(which=\"major\", axis=\"x\")\n",
    "plt.show()"
   ]
  },
  {
   "cell_type": "code",
   "execution_count": null,
   "metadata": {},
   "outputs": [],
   "source": [
    "x_axis = np.arange(1,32,1)\n",
    "\n",
    "plt.figure(figsize=(6,4))\n",
    "plt.plot(x_axis, jul_rides.rain)\n",
    "tick_locations = (5, 12, 19, 26)\n",
    "labels = (\"Sun\", \"Sun\", \"Sun\", \"Sun\")\n",
    "plt.xticks(tick_locations, labels)\n",
    "plt.grid(which=\"major\", axis=\"x\")\n",
    "plt.show()"
   ]
  },
  {
   "cell_type": "code",
   "execution_count": null,
   "metadata": {},
   "outputs": [],
   "source": [
    "x_axis = np.arange(1,32,1)\n",
    "fig,ax = plt.subplots()\n",
    "ax.plot(x_axis, jul_rides.account_type, color=\"blue\")\n",
    "ax.set_xlabel(\"date\",fontsize=14)\n",
    "ax.set_ylabel(\"num_rides\",color=\"blue\",fontsize=14)\n",
    "ax2=ax.twinx()\n",
    "ax2.plot(x_axis, jul_rides.high_temps, color=\"red\")\n",
    "ax2.set_ylabel(\"high_temp\", color=\"red\", fontsize=14)\n",
    "plt.show()"
   ]
  },
  {
   "cell_type": "code",
   "execution_count": null,
   "metadata": {},
   "outputs": [],
   "source": [
    "x_axis = np.arange(1,32,1)\n",
    "fig,ax = plt.subplots()\n",
    "ax.plot(x_axis, jul_rides.account_type, color=\"blue\")\n",
    "ax.set_xlabel(\"date\",fontsize=14)\n",
    "ax.set_ylabel(\"num_rides\",color=\"blue\",fontsize=14)\n",
    "ax2=ax.twinx()\n",
    "ax2.plot(x_axis, jul_rides.rain, color=\"orange\")\n",
    "ax2.set_ylabel(\"rainfall\", color=\"orange\", fontsize=14)\n",
    "plt.show()"
   ]
  },
  {
   "cell_type": "code",
   "execution_count": null,
   "metadata": {},
   "outputs": [],
   "source": [
    "# Import weather data\n",
    "\n",
    "weather_path = \"../Resources/NOAA_2020_data.csv\"\n",
    "weather = pd.read_csv(weather_path)\n",
    "weather_df = pd.DataFrame(weather)\n",
    "weather_df.head()\n",
    "# MSP = USW00014922"
   ]
  },
  {
   "cell_type": "code",
   "execution_count": null,
   "metadata": {},
   "outputs": [],
   "source": [
    "weather_df = weather_df.loc[weather_df[\"STATION\"] == \"USW00014922\"]\n",
    "weather_df.head()"
   ]
  },
  {
   "cell_type": "code",
   "execution_count": null,
   "metadata": {},
   "outputs": [],
   "source": [
    "keep_cols = [\"STATION\", \"NAME\", \"DATE\", \"PRCP\", \"SNOW\", \"TAVG\", \"TMAX\", \"TMIN\"]\n",
    "weather_df = weather_df[keep_cols]\n",
    "weather_df.head()"
   ]
  },
  {
   "cell_type": "code",
   "execution_count": null,
   "metadata": {},
   "outputs": [],
   "source": [
    "# Add zeros to daily rides\n",
    "daily_rides_edit = daily_rides\n",
    "\n",
    "daily_rides_edit.insert(4,0)\n",
    "daily_rides_edit.insert(60,0)\n",
    "len(daily_rides_edit)"
   ]
  },
  {
   "cell_type": "code",
   "execution_count": null,
   "metadata": {},
   "outputs": [],
   "source": [
    "# New Plot\n",
    "#Define parameters for plot by day\n",
    "\n",
    "months=np.arange(4,12,1)\n",
    "x_month = [month for month in months]\n",
    "rides = per_day_rides.loc[x_month]\n",
    "x= len(rides) +3\n",
    "x_axis = np.arange(1,x,1)\n",
    "\n",
    "\n",
    "# Draw plot\n",
    "fig, ax = plt.subplots(figsize=(20,6))\n",
    "ax.plot(x_axis, daily_rides_edit, color=\"blue\")\n",
    "ax.set_xlabel(\"date\",fontsize=14)\n",
    "ax.set_ylabel(\"num_rides\",color=\"blue\",fontsize=14)\n",
    "start, end = ax.get_xlim()\n",
    "ax.xaxis.set_ticks(np.arange(-2, end, 7))\n",
    "plt.grid(which=\"major\", axis=\"x\")\n",
    "ax2=ax.twinx()\n",
    "ax2.plot(x_axis, weather_df[\"TMAX\"], color=\"red\")\n",
    "ax2.set_ylabel(\"high_temp\", color=\"red\", fontsize=14)\n",
    "plt.tight_layout()\n",
    "plt.show()"
   ]
  },
  {
   "cell_type": "code",
   "execution_count": null,
   "metadata": {},
   "outputs": [],
   "source": [
    "# New Plot\n",
    "#Define parameters for plot by day\n",
    "\n",
    "months=np.arange(4,12,1)\n",
    "x_month = [month for month in months]\n",
    "rides = per_day_rides.loc[x_month]\n",
    "x= len(rides) +3\n",
    "x_axis = np.arange(1,x,1)\n",
    "\n",
    "\n",
    "# Draw plot\n",
    "fig, ax = plt.subplots(figsize=(20,6))\n",
    "ax.plot(x_axis, daily_rides_edit, color=\"blue\")\n",
    "ax.set_xlabel(\"date\",fontsize=14)\n",
    "ax.set_ylabel(\"num_rides\",color=\"blue\",fontsize=14)\n",
    "start, end = ax.get_xlim()\n",
    "ax.xaxis.set_ticks(np.arange(-2, end, 7))\n",
    "plt.grid(which=\"major\", axis=\"x\")\n",
    "ax2=ax.twinx()\n",
    "ax2.plot(x_axis, weather_df[\"PRCP\"], color=\"orange\")\n",
    "ax2.set_ylabel(\"rainfall\", color=\"orange\", fontsize=14)\n",
    "plt.tight_layout()\n",
    "plt.show()"
   ]
  },
  {
   "cell_type": "code",
   "execution_count": null,
   "metadata": {},
   "outputs": [],
   "source": [
    "# Make scatter plot looking at temperature v number of rides\n",
    "x = weather_df[\"TMAX\"]\n",
    "y = daily_rides_edit\n",
    "ymax = max(y)\n",
    "ymin = min(y)\n",
    "\n",
    "plt.figure(figsize=(9,6))\n",
    "plt.scatter(x, y, marker=\"o\", s=50, facecolor=\"blue\", edgecolors=\"black\", alpha=0.75, linewidths=1)\n",
    "plt.xlim(20,100)\n",
    "plt.ylim(1.05*ymin, 1.05*ymax)\n",
    "plt.xlabel(\"Max Temperature (F)\")\n",
    "plt.ylabel(\"Number of Rides\")\n",
    "plt.grid()\n",
    "plt.tight_layout()\n",
    "plt.show()"
   ]
  },
  {
   "cell_type": "code",
   "execution_count": null,
   "metadata": {},
   "outputs": [],
   "source": [
    "from scipy.stats import linregress\n",
    "\n",
    "x = weather_df[\"TMAX\"]\n",
    "y = daily_rides_edit\n",
    "\n",
    "#calculate regression\n",
    "(slope, intercept, rvalue, pvalue, stderr) = linregress(x, y)\n",
    "regress = x * slope + intercept\n",
    "line_eq = \"y=\" + str(round(slope,2)) + \"x + \" + str(round(intercept,2))\n",
    "print(line_eq)"
   ]
  },
  {
   "cell_type": "code",
   "execution_count": null,
   "metadata": {},
   "outputs": [],
   "source": [
    "# Make scatter plot looking at temperature v number of rides\n",
    "x = weather_df[\"TMAX\"]\n",
    "y = daily_rides_edit\n",
    "ymax = max(y)\n",
    "ymin = min(y)\n",
    "\n",
    "plt.figure(figsize=(9,6))\n",
    "plt.scatter(x, y, marker=\"o\", s=50, facecolor=\"cyan\", edgecolors=\"black\", alpha=0.75, linewidths=1)\n",
    "plt.xlim(20,100)\n",
    "plt.ylim(1.05*ymin, 1.05*ymax)\n",
    "plt.xlabel(\"Max Temperature (F)\")\n",
    "plt.ylabel(\"Number of Rides\")\n",
    "plt.grid()\n",
    "plt.plot(x, regress, color='red', linewidth=2)\n",
    "plt.tight_layout()\n",
    "plt.show()\n",
    "\n",
    "print(f\"The r-value is {rvalue}.\")"
   ]
  },
  {
   "cell_type": "code",
   "execution_count": null,
   "metadata": {},
   "outputs": [],
   "source": [
    "x = weather_df[\"PRCP\"]\n",
    "y = daily_rides_edit\n",
    "ymax = max(y)\n",
    "ymin = min(y)\n",
    "\n",
    "plt.figure(figsize=(9,6))\n",
    "plt.scatter(x, y, marker=\"o\", s=50, facecolor=\"cyan\", edgecolors=\"black\", alpha=0.75, linewidths=1)\n",
    "plt.xlim(-.05,2.5)\n",
    "plt.ylim(1.05*ymin, 1.05*ymax)\n",
    "plt.xlabel(\"Precipitation (Inches)\")\n",
    "plt.ylabel(\"Number of Rides\")\n",
    "plt.grid()\n",
    "plt.tight_layout()\n",
    "plt.show()"
   ]
  },
  {
   "cell_type": "code",
   "execution_count": null,
   "metadata": {},
   "outputs": [],
   "source": [
    "x = weather_df[\"PRCP\"]\n",
    "y = daily_rides_edit\n",
    "\n",
    "#calculate regression\n",
    "(slope, intercept, rvalue, pvalue, stderr) = linregress(x, y)\n",
    "regress = x * slope + intercept\n",
    "line_eq = \"y=\" + str(round(slope,2)) + \"x + \" + str(round(intercept,2))\n",
    "print(line_eq)"
   ]
  },
  {
   "cell_type": "code",
   "execution_count": null,
   "metadata": {},
   "outputs": [],
   "source": [
    "x = weather_df[\"PRCP\"]\n",
    "y = daily_rides_edit\n",
    "ymax = max(y)\n",
    "ymin = min(y)\n",
    "\n",
    "plt.figure(figsize=(9,6))\n",
    "plt.scatter(x, y, marker=\"o\", s=50, facecolor=\"cyan\", edgecolors=\"black\", alpha=0.75, linewidths=1)\n",
    "plt.xlim(-.05,2.5)\n",
    "plt.ylim(1.05*ymin, 1.05*ymax)\n",
    "plt.xlabel(\"Precipitation (Inches)\")\n",
    "plt.ylabel(\"Number of Rides\")\n",
    "plt.grid()\n",
    "plt.plot(x, regress, color='red', linewidth=2)\n",
    "plt.tight_layout()\n",
    "plt.show()\n",
    "\n",
    "print(f\"The r-value is {rvalue}.\")"
   ]
  },
  {
   "cell_type": "code",
   "execution_count": null,
   "metadata": {},
   "outputs": [],
   "source": [
    "# END STEPH SECTION - LINE CHART"
   ]
  },
  {
   "cell_type": "code",
   "execution_count": null,
   "metadata": {},
   "outputs": [],
   "source": []
  }
 ],
 "metadata": {
  "kernelspec": {
   "display_name": "Python 3",
   "language": "python",
   "name": "python3"
  },
  "language_info": {
   "codemirror_mode": {
    "name": "ipython",
    "version": 3
   },
   "file_extension": ".py",
   "mimetype": "text/x-python",
   "name": "python",
   "nbconvert_exporter": "python",
   "pygments_lexer": "ipython3",
   "version": "3.6.10"
  }
 },
 "nbformat": 4,
 "nbformat_minor": 4
}
