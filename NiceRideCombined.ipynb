{
 "cells": [
  {
   "cell_type": "markdown",
   "metadata": {},
   "source": [
    "# Nice Ride Analysis Notebook"
   ]
  },
  {
   "cell_type": "markdown",
   "metadata": {},
   "source": [
    "### Import data and set up for working"
   ]
  },
  {
   "cell_type": "code",
   "execution_count": null,
   "metadata": {},
   "outputs": [],
   "source": [
    "# Import dependencies\n",
    "\n",
    "import pandas as pd\n",
    "import numpy as np\n",
    "import matplotlib.pyplot as plt\n",
    "import datetime\n",
    "import scipy.stats as st"
   ]
  },
  {
   "cell_type": "code",
   "execution_count": null,
   "metadata": {},
   "outputs": [],
   "source": [
    "#Import data\n",
    "\n",
    "csv_path = \"Resources/Nice_ride_trip_history_\"\n",
    "year_2015 = pd.read_csv(f\"{csv_path}2015_season.csv\", low_memory=False)\n",
    "year_2016 = pd.read_csv(f\"{csv_path}2016_season.csv\", low_memory=False)\n",
    "year_2017 = pd.read_csv(f\"{csv_path}2017_season.csv\", low_memory=False)\n",
    "year_2018 = pd.read_csv(f\"{csv_path}2018_season.csv\", low_memory=False)\n",
    "year_2019 = pd.read_csv(f\"{csv_path}2019_season.csv\", low_memory=False)\n",
    "year_2020 = pd.read_csv(f\"{csv_path}2020_season.csv\", low_memory=False)"
   ]
  },
  {
   "cell_type": "code",
   "execution_count": null,
   "metadata": {},
   "outputs": [],
   "source": [
    "\n",
    "# Create initial Data Frames\n",
    "# 2015\n",
    "df_2015 = pd.DataFrame(year_2015)\n",
    "df_2015.head() # start date 4/1/2015"
   ]
  },
  {
   "cell_type": "code",
   "execution_count": null,
   "metadata": {},
   "outputs": [],
   "source": [
    "df_2015.tail() # end date 11/1/2015"
   ]
  },
  {
   "cell_type": "code",
   "execution_count": null,
   "metadata": {},
   "outputs": [],
   "source": [
    "# 2015 Fix dtypes\n",
    "\n",
    "df_2015.start_datetime = pd.to_datetime(df_2015.start_datetime)\n",
    "df_2015.end_datetime = pd.to_datetime(df_2015.end_datetime)\n",
    "df_2015.start_station_name = df_2015.start_station_name.astype(str)\n",
    "df_2015.end_station_name = df_2015.end_station_name.astype(str)\n",
    "df_2015.account_type = df_2015.account_type.astype(str)\n",
    "df_2015.start_station_id = df_2015.start_station_id.astype(str)\n",
    "df_2015.end_station_id = df_2015.end_station_id.astype(str)\n",
    "\n",
    "df_2015.dtypes"
   ]
  },
  {
   "cell_type": "code",
   "execution_count": null,
   "metadata": {},
   "outputs": [],
   "source": [
    "# 2016\n",
    "df_2016 = pd.DataFrame(year_2016)\n",
    "df_2016.head() # start date 4/4/2016"
   ]
  },
  {
   "cell_type": "code",
   "execution_count": null,
   "metadata": {},
   "outputs": [],
   "source": [
    "\n",
    "df_2016.tail() # end date 11/6/2016"
   ]
  },
  {
   "cell_type": "code",
   "execution_count": null,
   "metadata": {},
   "outputs": [],
   "source": [
    "# 2016 Fix dtypes\n",
    "\n",
    "df_2016.start_datetime = pd.to_datetime(df_2016.start_datetime)\n",
    "df_2016.end_datetime = pd.to_datetime(df_2016.end_datetime)\n",
    "df_2016.start_station_name = df_2016.start_station_name.astype(str)\n",
    "df_2016.end_station_name = df_2016.end_station_name.astype(str)\n",
    "df_2016.account_type = df_2016.account_type.astype(str)\n",
    "df_2016.start_station_id = df_2016.start_station_id.astype(str)\n",
    "df_2016.end_station_id = df_2016.end_station_id.astype(str)\n",
    "\n",
    "df_2016.dtypes"
   ]
  },
  {
   "cell_type": "code",
   "execution_count": null,
   "metadata": {},
   "outputs": [],
   "source": [
    "# 2017\n",
    "df_2017 = pd.DataFrame(year_2017)\n",
    "df_2017.head() # start date 4/3/2017"
   ]
  },
  {
   "cell_type": "code",
   "execution_count": null,
   "metadata": {},
   "outputs": [],
   "source": [
    "df_2017.tail() # end date 11/5/2017"
   ]
  },
  {
   "cell_type": "code",
   "execution_count": null,
   "metadata": {},
   "outputs": [],
   "source": [
    "# 2017 Fix dtypes\n",
    "\n",
    "df_2017.start_datetime = pd.to_datetime(df_2017.start_datetime)\n",
    "df_2017.end_datetime = pd.to_datetime(df_2017.end_datetime)\n",
    "df_2017.start_station_name = df_2017.start_station_name.astype(str)\n",
    "df_2017.end_station_name = df_2017.end_station_name.astype(str)\n",
    "df_2017.account_type = df_2017.account_type.astype(str)\n",
    "df_2017.start_station_id = df_2017.start_station_id.astype(str)\n",
    "df_2017.end_station_id = df_2017.end_station_id.astype(str)\n",
    "\n",
    "df_2017.dtypes"
   ]
  },
  {
   "cell_type": "code",
   "execution_count": null,
   "metadata": {},
   "outputs": [],
   "source": [
    "# 2018\n",
    "df_2018 = pd.DataFrame(year_2018)\n",
    "df_2018.head() # start date 4/12/2018"
   ]
  },
  {
   "cell_type": "code",
   "execution_count": null,
   "metadata": {},
   "outputs": [],
   "source": [
    "df_2018.tail() # end date 11/17/2018"
   ]
  },
  {
   "cell_type": "code",
   "execution_count": null,
   "metadata": {},
   "outputs": [],
   "source": [
    "# 2018 Fix dtypes\n",
    "\n",
    "df_2018.start_datetime = pd.to_datetime(df_2018.start_datetime)\n",
    "df_2018.end_datetime = pd.to_datetime(df_2018.end_datetime)\n",
    "df_2018.start_station_name = df_2018.start_station_name.astype(str)\n",
    "df_2018.end_station_name = df_2018.end_station_name.astype(str)\n",
    "df_2018.account_type = df_2018.account_type.astype(str)\n",
    "df_2018.start_station_id = df_2018.start_station_id.astype(str)\n",
    "df_2018.end_station_id = df_2018.end_station_id.astype(str)\n",
    "\n",
    "df_2018.dtypes"
   ]
  },
  {
   "cell_type": "code",
   "execution_count": null,
   "metadata": {},
   "outputs": [],
   "source": [
    "# 2019\n",
    "df_2019 = pd.DataFrame(year_2019)\n",
    "df_2019.head() # start date 4/22/2019"
   ]
  },
  {
   "cell_type": "code",
   "execution_count": null,
   "metadata": {},
   "outputs": [],
   "source": [
    "df_2019.tail() # end date 11/30/2019"
   ]
  },
  {
   "cell_type": "code",
   "execution_count": null,
   "metadata": {},
   "outputs": [],
   "source": [
    "# 2019 Fix dtypes\n",
    "\n",
    "df_2019.start_datetime = pd.to_datetime(df_2019.start_datetime)\n",
    "df_2019.end_datetime = pd.to_datetime(df_2019.end_datetime)\n",
    "df_2019.start_station_name = df_2019.start_station_name.astype(str)\n",
    "df_2019.end_station_name = df_2019.end_station_name.astype(str)\n",
    "df_2019.account_type = df_2019.account_type.astype(str)\n",
    "df_2019.start_station_id = df_2019.start_station_id.astype(str)\n",
    "df_2019.end_station_id = df_2019.end_station_id.astype(str)\n",
    "\n",
    "df_2019.dtypes"
   ]
  },
  {
   "cell_type": "code",
   "execution_count": null,
   "metadata": {},
   "outputs": [],
   "source": [
    "# 2020 \n",
    "df_2020 = pd.DataFrame(year_2020)\n",
    "df_2020.head() #start date 4/1/2020"
   ]
  },
  {
   "cell_type": "code",
   "execution_count": null,
   "metadata": {},
   "outputs": [],
   "source": [
    "df_2020.tail() #end date 11/4/2020"
   ]
  },
  {
   "cell_type": "code",
   "execution_count": null,
   "metadata": {},
   "outputs": [],
   "source": [
    "# 2020 Fix dtypes\n",
    "\n",
    "df_2020.start_datetime = pd.to_datetime(df_2020.start_datetime)\n",
    "df_2020.end_datetime = pd.to_datetime(df_2020.end_datetime)\n",
    "df_2020.start_station_name = df_2020.start_station_name.astype(str)\n",
    "df_2020.end_station_name = df_2020.end_station_name.astype(str)\n",
    "df_2020.account_type = df_2020.account_type.astype(str)\n",
    "df_2020.start_station_id = df_2020.start_station_id.astype(str)\n",
    "df_2020.end_station_id = df_2020.end_station_id.astype(str)\n",
    "\n",
    "df_2020.dtypes"
   ]
  },
  {
   "cell_type": "markdown",
   "metadata": {},
   "source": [
    "# This is the Steph section - begin here"
   ]
  },
  {
   "cell_type": "code",
   "execution_count": null,
   "metadata": {},
   "outputs": [],
   "source": [
    "# Calculate total number of rides per day, by year\n",
    "# 2015\n",
    "\n",
    "# Split datetime column into three values\n",
    "df_2015[\"year\"] = df_2015.start_datetime.dt.year\n",
    "df_2015[\"month\"] = df_2015.start_datetime.dt.month\n",
    "df_2015[\"day\"] = df_2015.start_datetime.dt.day\n",
    "df_2015.head()"
   ]
  },
  {
   "cell_type": "code",
   "execution_count": null,
   "metadata": {
    "scrolled": false
   },
   "outputs": [],
   "source": [
    "# Group by month, day\n",
    "per_day_15 = df_2015.groupby([df_2015.month, df_2015.day]).count()"
   ]
  },
  {
   "cell_type": "code",
   "execution_count": null,
   "metadata": {
    "scrolled": false
   },
   "outputs": [],
   "source": [
    "per_day_15 = per_day_15.reset_index()\n",
    "per_day_15 = pd.DataFrame(per_day_15)\n",
    "# per_day_15.loc[per_day_15[\"month\"] == 11]\n",
    "# All data are complete for 4/1 - 11/1; will need zeros appended from 11/2 - 11/30"
   ]
  },
  {
   "cell_type": "code",
   "execution_count": null,
   "metadata": {},
   "outputs": [],
   "source": [
    "# 2016\n",
    "# Split datetime column into three values\n",
    "df_2016[\"year\"] = df_2016.start_datetime.dt.year\n",
    "df_2016[\"month\"] = df_2016.start_datetime.dt.month\n",
    "df_2016[\"day\"] = df_2016.start_datetime.dt.day\n",
    "df_2016.head()"
   ]
  },
  {
   "cell_type": "code",
   "execution_count": null,
   "metadata": {},
   "outputs": [],
   "source": [
    "# Group by month, day\n",
    "per_day_16 = df_2016.groupby([df_2016.month, df_2016.day]).count()\n",
    "per_day_16 = per_day_16.reset_index()\n",
    "per_day_16 = pd.DataFrame(per_day_16)\n",
    "# per_day_16.loc[per_day_16[\"month\"] == 11]\n",
    "# Will need 0 to fill from 4/1-4/3; and from 11/7-11/30"
   ]
  },
  {
   "cell_type": "code",
   "execution_count": null,
   "metadata": {},
   "outputs": [],
   "source": [
    "# 2017\n",
    "\n",
    "# Split datetime column into three values\n",
    "df_2017[\"year\"] = df_2017.start_datetime.dt.year\n",
    "df_2017[\"month\"] = df_2017.start_datetime.dt.month\n",
    "df_2017[\"day\"] = df_2017.start_datetime.dt.day\n",
    "df_2017.head()"
   ]
  },
  {
   "cell_type": "code",
   "execution_count": null,
   "metadata": {},
   "outputs": [],
   "source": [
    "# Group by month, day\n",
    "per_day_17 = df_2017.groupby([df_2017.month, df_2017.day]).count()\n",
    "per_day_17 = per_day_17.reset_index()\n",
    "per_day_17 = pd.DataFrame(per_day_17)\n",
    "# per_day_17.loc[per_day_17[\"month\"] == 11]\n",
    "# Need to add 0 for 4/1-4/2; 11/6-11/30"
   ]
  },
  {
   "cell_type": "code",
   "execution_count": null,
   "metadata": {},
   "outputs": [],
   "source": [
    "# 2018\n",
    "# Split datetime column into three values\n",
    "df_2018[\"year\"] = df_2018.start_datetime.dt.year\n",
    "df_2018[\"month\"] = df_2018.start_datetime.dt.month\n",
    "df_2018[\"day\"] = df_2018.start_datetime.dt.day\n",
    "df_2018.head()"
   ]
  },
  {
   "cell_type": "code",
   "execution_count": null,
   "metadata": {},
   "outputs": [],
   "source": [
    "# Group by month, day\n",
    "per_day_18 = df_2018.groupby([df_2018.year, df_2018.month, df_2018.day]).count()\n",
    "per_day_18 = per_day_18.reset_index()\n",
    "per_day_18 = pd.DataFrame(per_day_18)\n",
    "# per_day_18.loc[per_day_18[\"month\"] == 11]\n",
    "# Need 0 from 4/1-4/11; 11/18-11/30"
   ]
  },
  {
   "cell_type": "code",
   "execution_count": null,
   "metadata": {},
   "outputs": [],
   "source": [
    "# 2019\n",
    "# Split datetime column into three values\n",
    "df_2019[\"year\"] = df_2019.start_datetime.dt.year\n",
    "df_2019[\"month\"] = df_2019.start_datetime.dt.month\n",
    "df_2019[\"day\"] = df_2019.start_datetime.dt.day\n",
    "df_2019.head()"
   ]
  },
  {
   "cell_type": "code",
   "execution_count": null,
   "metadata": {},
   "outputs": [],
   "source": [
    "# Group by month, day\n",
    "per_day_19 = df_2019.groupby([df_2019.year, df_2019.month, df_2019.day]).count()\n",
    "per_day_19 = per_day_19.reset_index()\n",
    "per_day_19 = pd.DataFrame(per_day_19)\n",
    "# per_day_19.loc[per_day_19[\"month\"] == 11]\n",
    "# Need 0 for 4/1 - 4/21"
   ]
  },
  {
   "cell_type": "code",
   "execution_count": null,
   "metadata": {},
   "outputs": [],
   "source": [
    "# 2020\n",
    "# Split datetime column into three values\n",
    "df_2020[\"year\"] = df_2020.start_datetime.dt.year\n",
    "df_2020[\"month\"] = df_2020.start_datetime.dt.month\n",
    "df_2020[\"day\"] = df_2020.start_datetime.dt.day\n",
    "df_2020.head()"
   ]
  },
  {
   "cell_type": "code",
   "execution_count": null,
   "metadata": {},
   "outputs": [],
   "source": [
    "# Group by month, day\n",
    "per_day_20 = df_2020.groupby([df_2020.year, df_2020.month, df_2020.day]).count()\n",
    "per_day_20 = per_day_20.reset_index()\n",
    "per_day_20 = pd.DataFrame(per_day_20)\n",
    "# per_day_20.loc[per_day_20[\"month\"] == 5]\n",
    "# Need 0 for 4/5, 5/31, 11/5-11/30"
   ]
  },
  {
   "cell_type": "code",
   "execution_count": null,
   "metadata": {},
   "outputs": [],
   "source": [
    "#Calculate daily rides by year\n",
    "\n",
    "#2015\n",
    "daily_rides_15 = list(per_day_15.account_type)\n",
    "print(f\"2015: {len(daily_rides_15)}\")\n",
    "\n",
    "#2016\n",
    "daily_rides_16 = list(per_day_16.account_type)\n",
    "print(f\"2016: {len(daily_rides_16)}\")\n",
    "\n",
    "#2017\n",
    "daily_rides_17 = list(per_day_17.account_type)\n",
    "print(f\"2017: {len(daily_rides_17)}\")\n",
    "      \n",
    "#2018\n",
    "daily_rides_18 = list(per_day_18.account_type)\n",
    "print(f\"2018: {len(daily_rides_18)}\")\n",
    "\n",
    "#2019\n",
    "daily_rides_19 = list(per_day_19.account_type)\n",
    "print(f\"2019: {len(daily_rides_19)}\")\n",
    "\n",
    "#2020\n",
    "daily_rides_20 = list(per_day_20.account_type)\n",
    "print(f\"2020: {len(daily_rides_20)}\")\n",
    "#daily_rides_20\n"
   ]
  },
  {
   "cell_type": "code",
   "execution_count": null,
   "metadata": {},
   "outputs": [],
   "source": [
    "# It is necessary for all years to hold the same number of values\n",
    "# For values that are missing, we should insert a zero:\n",
    "# 2015\n",
    "\n",
    "for n in range(29):\n",
    "    daily_rides_15.append(int(0))    \n",
    "    \n",
    "daily_rides_15\n",
    "len(daily_rides_15)"
   ]
  },
  {
   "cell_type": "code",
   "execution_count": null,
   "metadata": {},
   "outputs": [],
   "source": [
    "#2016\n",
    "\n",
    "for n in range (3):\n",
    "    daily_rides_16.insert(0, 0)\n",
    "for n in range(24):\n",
    "    daily_rides_16.append(int(0))\n",
    "    \n",
    "len(daily_rides_16)"
   ]
  },
  {
   "cell_type": "code",
   "execution_count": null,
   "metadata": {},
   "outputs": [],
   "source": [
    "# 2017\n",
    "\n",
    "for n in range(2):\n",
    "    daily_rides_17.insert(0, 0)\n",
    "for n in range(25):\n",
    "    daily_rides_17.append(int(0))\n",
    "    \n",
    "len(daily_rides_17)"
   ]
  },
  {
   "cell_type": "code",
   "execution_count": null,
   "metadata": {},
   "outputs": [],
   "source": [
    "# 2018\n",
    "\n",
    "for n in range(11):\n",
    "    daily_rides_18.insert(0, 0)\n",
    "for n in range(13):\n",
    "    daily_rides_18.append(int(0))\n",
    "    \n",
    "len(daily_rides_18)"
   ]
  },
  {
   "cell_type": "code",
   "execution_count": null,
   "metadata": {},
   "outputs": [],
   "source": [
    "# 2019\n",
    "\n",
    "for n in range(21):\n",
    "    daily_rides_19.insert(0, 0)\n",
    "    \n",
    "len(daily_rides_19)"
   ]
  },
  {
   "cell_type": "code",
   "execution_count": null,
   "metadata": {},
   "outputs": [],
   "source": [
    "# 2020\n",
    "\n",
    "daily_rides_20.insert(4, 0)\n",
    "daily_rides_20.insert(60,0)\n",
    "\n",
    "for n in range(26):\n",
    "    daily_rides_20.append(int(0))\n",
    "\n",
    "len(daily_rides_20)"
   ]
  },
  {
   "cell_type": "code",
   "execution_count": null,
   "metadata": {},
   "outputs": [],
   "source": [
    "rides_by_month = pd.DataFrame({\"2015\" : daily_rides_15,\n",
    "                               \"2016\" : daily_rides_16,\n",
    "                               \"2017\" : daily_rides_17,\n",
    "                               \"2018\" : daily_rides_18,\n",
    "                               \"2019\" : daily_rides_19,\n",
    "                               \"2020\" : daily_rides_20})\n",
    "rides_by_month"
   ]
  },
  {
   "cell_type": "code",
   "execution_count": null,
   "metadata": {},
   "outputs": [],
   "source": [
    "# Define xticks for plot by day\n",
    "\n",
    "Apr = 1\n",
    "May = 30 + 1\n",
    "June = 30 + 31 + 1\n",
    "July = 30 + 31 + 30 + 1\n",
    "Aug = 30 + 31 + 30 + 31 + 1\n",
    "Sep = 30 + 31 + 30 + 31 + 31 + 1\n",
    "Oct = 30 + 31 + 30 + 31 + 31 + 30 + 1\n",
    "Nov = 30 + 31 + 30 + 31 + 31 + 30 + 31 + 1\n",
    "\n",
    "month_locations = np.array([Apr, May, June, July, Aug, Sep, Oct, Nov])\n",
    "print(month_locations)\n",
    "\n",
    "month_labels = np.array([\"April\", \"May\", \"June\", \"July\", \"August\", \"September\", \"October\", \"November\"])\n",
    "print(month_labels)"
   ]
  },
  {
   "cell_type": "code",
   "execution_count": null,
   "metadata": {
    "scrolled": true
   },
   "outputs": [],
   "source": [
    "# Define parameters for plot by day\n",
    "\n",
    "plt.figure(figsize=(30,10))\n",
    "#2015\n",
    "x_2015 = np.arange(1,245,1)\n",
    "y_2015 = rides_by_month[\"2015\"]\n",
    "plt.plot(x_2015, y_2015, label=\"2015\", color=\"red\")\n",
    "#2016\n",
    "x_2016 = np.arange(1,245,1)\n",
    "y_2016 = rides_by_month[\"2016\"]\n",
    "plt.plot(x_2016, y_2016, label =\"2016\", color=\"orange\")\n",
    "#2017\n",
    "x_2017 = np.arange(1,245,1)\n",
    "y_2017 = rides_by_month[\"2017\"]\n",
    "plt.plot(x_2017, y_2017, label=\"2017\", color=\"yellow\")\n",
    "#2018\n",
    "x_2018 = np.arange(1,245,1)\n",
    "y_2018 = rides_by_month[\"2018\"]\n",
    "plt.plot(x_2018, y_2018, label=\"2018\", color=\"green\")\n",
    "#2019\n",
    "x_2019 = np.arange(1,245,1)\n",
    "y_2019 = rides_by_month[\"2019\"]\n",
    "plt.plot(x_2019, y_2019, label=\"2019\", color=\"blue\")\n",
    "#2020\n",
    "x_2020 = np.arange(1,245,1)\n",
    "y_2020 = rides_by_month[\"2020\"]\n",
    "plt.plot(x_2020, y_2020, label=\"2020\", color=\"purple\")\n",
    "\n",
    "plt.xticks(month_locations, month_labels, rotation=\"vertical\")\n",
    "\n",
    "plt.tight_layout()\n",
    "plt.show()"
   ]
  },
  {
   "cell_type": "code",
   "execution_count": null,
   "metadata": {},
   "outputs": [],
   "source": [
    "# Define x_ticks for Mpls even timeline in 2020\n",
    "import matplotlib.ticker as ticker\n",
    "\n",
    "Apr = 1\n",
    "# 4/6 - Nice Ride season begins\n",
    "tick1 = 6\n",
    "# 4/18 - Outdoor recreation allowed\n",
    "tick2 = 18\n",
    "# 4/26 - Some non-critical workers can return to work\n",
    "tick3 = 26\n",
    "May = 31\n",
    "# 5/25 - Death of George Floyd\n",
    "tick4 = 30 + 25\n",
    "# 5/26 - Protests begin\n",
    "tick5 = 30 + 26\n",
    "# 5/27 - Opening for outdoor service for bars and restaurants\n",
    "tick6 = 30 + 27\n",
    "# 5/28 - National Guard activated\n",
    "tick7 = 30 + 28\n",
    "June = 62\n",
    "# 6/9 - Allows for limited reopening\n",
    "tick8 = 30 + 31 + 9\n",
    "July = 92\n",
    "# 8/1 - Mayor closes indoor dining\n",
    "tick9 = 30 + 31 + 30 + 31 + 1\n",
    "Sep = 154\n",
    "# 9/8 - First day of U of M fall semester\n",
    "tick10 = 30 + 31 + 30 + 31 + 31 + 8\n",
    "Oct = 184\n",
    "Nov = 215\n",
    "# 11/4 - Nice Ride season ends\n",
    "tick11 = 30 + 31 + 30 + 31 + 31 + 30 + 31 + 4\n",
    "\n",
    "x_tick_locations = np.array([Apr, tick1, tick2, tick3, May, tick7, June, tick8, July, tick9, Sep, tick10, Oct, Nov, tick11])\n",
    "print(x_tick_locations)  \n",
    "\n",
    "xtick_labels = np.array([\"April\", \"Nice Ride season begins\", \"Outdoor recreation allowed\", \n",
    "                         \"Non-critical workers return to work\", \"May\", \"Death of George Floyd\", \"June\",\n",
    "                         \"Limited reopening\", \"July\", \"August - Mayor closes indoor dining\", \"September\",\n",
    "                         \"First day of fall semester\", \"October\", \"November\", \"Nice Ride season ends\"])"
   ]
  },
  {
   "cell_type": "code",
   "execution_count": null,
   "metadata": {},
   "outputs": [],
   "source": [
    "plt.figure(figsize=(17,8))\n",
    "x_axis = np.arange(1,245,1)\n",
    "y_values = rides_by_month[\"2020\"]\n",
    "plt.plot(x_axis, y_values, color=\"purple\")\n",
    "\n",
    "plt.xticks(x_tick_locations, xtick_labels, rotation=\"vertical\")\n",
    "plt.tight_layout()\n",
    "plt.show()"
   ]
  },
  {
   "cell_type": "markdown",
   "metadata": {},
   "source": [
    "# This is the end of the Steph section"
   ]
  },
  {
   "cell_type": "markdown",
   "metadata": {},
   "source": [
    "# Luis' code - Monthly Ridership Line Plots"
   ]
  },
  {
   "cell_type": "code",
   "execution_count": null,
   "metadata": {},
   "outputs": [],
   "source": []
  },
  {
   "cell_type": "code",
   "execution_count": null,
   "metadata": {},
   "outputs": [],
   "source": [
    "# 2015\n",
    "by_month_2015 = df_2015[[\"start_datetime\", \"month\"]].groupby(\"month\").count()\n",
    "by_month_2015.rename(columns = {\"start_datetime\": \"2015\"}, inplace = True)\n",
    "by_month_2015"
   ]
  },
  {
   "cell_type": "code",
   "execution_count": null,
   "metadata": {},
   "outputs": [],
   "source": [
    "# 2016\n",
    "by_month_2016 = df_2016[[\"start_datetime\", \"month\"]].groupby(\"month\").count()\n",
    "by_month_2016.rename(columns = {\"start_datetime\": \"2016\"}, inplace = True)\n",
    "by_month_2016"
   ]
  },
  {
   "cell_type": "code",
   "execution_count": null,
   "metadata": {},
   "outputs": [],
   "source": [
    "# 2017\n",
    "by_month_2017 = df_2017[[\"start_datetime\", \"month\"]].groupby(\"month\").count()\n",
    "by_month_2017.rename(columns = {\"start_datetime\": \"2017\"}, inplace = True)\n",
    "by_month_2017"
   ]
  },
  {
   "cell_type": "code",
   "execution_count": null,
   "metadata": {},
   "outputs": [],
   "source": [
    "# 2018\n",
    "by_month_2018 = df_2018[[\"start_datetime\", \"month\"]].groupby(\"month\").count()\n",
    "by_month_2018.rename(columns = {\"start_datetime\": \"2018\"}, inplace = True)\n",
    "by_month_2018"
   ]
  },
  {
   "cell_type": "code",
   "execution_count": null,
   "metadata": {},
   "outputs": [],
   "source": [
    "# 2019\n",
    "by_month_2019 = df_2019[[\"start_datetime\", \"month\"]].groupby(\"month\").count()\n",
    "by_month_2019.rename(columns = {\"start_datetime\": \"2019\"}, inplace = True)\n",
    "by_month_2019"
   ]
  },
  {
   "cell_type": "code",
   "execution_count": null,
   "metadata": {},
   "outputs": [],
   "source": [
    "# 2018\n",
    "by_month_2020 = df_2020[[\"start_datetime\", \"month\"]].groupby(\"month\").count()\n",
    "by_month_2020.rename(columns = {\"start_datetime\": \"2020\"}, inplace = True)\n",
    "by_month_2020"
   ]
  },
  {
   "cell_type": "code",
   "execution_count": null,
   "metadata": {},
   "outputs": [],
   "source": [
    "# Join dataframes using concat\n",
    "\n",
    "rides_by_month = pd.concat([by_month_2015, by_month_2016, by_month_2017, by_month_2018, by_month_2019, by_month_2020], axis = 1)\n",
    "\n",
    "# Set index to the months\n",
    "\n",
    "months_list = [\"April\", \"May\", \"June\", \"July\", \"August\", \"September\", \"October\", \"November\"]\n",
    "\n",
    "rides_by_month.index = months_list\n",
    "\n",
    "rides_by_month"
   ]
  },
  {
   "cell_type": "code",
   "execution_count": null,
   "metadata": {},
   "outputs": [],
   "source": [
    "rides_by_month.plot(kind = \"line\")\n",
    "plt.legend(loc = \"upper right\")\n",
    "plt.xticks(rotation = 45)\n",
    "plt.show()"
   ]
  },
  {
   "cell_type": "markdown",
   "metadata": {},
   "source": [
    "# This is the Rachel section - begin here"
   ]
  },
  {
   "cell_type": "code",
   "execution_count": null,
   "metadata": {},
   "outputs": [],
   "source": [
    "ride_count_2015 = len(year_2015)\n",
    "ride_count_2016 = len(year_2016)\n",
    "ride_count_2017 = len(year_2017)\n",
    "ride_count_2018 = len(year_2018)\n",
    "ride_count_2019 = len(year_2019)\n",
    "ride_count_2020 = len(year_2020)"
   ]
  },
  {
   "cell_type": "code",
   "execution_count": null,
   "metadata": {},
   "outputs": [],
   "source": [
    "\n",
    "total_ridership_by_year = {'2015' : ride_count_2015,\n",
    "                           '2016' : ride_count_2016,\n",
    "                           '2017' : ride_count_2017,\n",
    "                           '2018' : ride_count_2018,\n",
    "                           '2019' : ride_count_2019,\n",
    "                           '2020' : ride_count_2020\n",
    "                          }\n",
    "\n",
    "years = list(total_ridership_by_year.keys())\n",
    "rides = list(total_ridership_by_year.values())\n",
    "\n",
    "plt.bar(years, rides, color = 'maroon', width = .5)"
   ]
  },
  {
   "cell_type": "code",
   "execution_count": null,
   "metadata": {},
   "outputs": [],
   "source": []
  },
  {
   "cell_type": "code",
   "execution_count": null,
   "metadata": {},
   "outputs": [],
   "source": []
  },
  {
   "cell_type": "code",
   "execution_count": null,
   "metadata": {},
   "outputs": [],
   "source": [
    "#later try to make a scatter plot by month\n",
    "# rides_2015 = rides_by_month[\"2015\"].tolist()\n",
    "# rides_2016 = rides_by_month[\"2016\"].tolist()\n",
    "# rides_2017 = rides_by_month[\"2017\"].tolist()\n",
    "# rides_2018 = rides_by_month[\"2018\"].tolist()\n",
    "# rides_2019 = rides_by_month[\"2019\"].tolist()\n",
    "# rides_2020 = rides_by_month[\"2020\"].tolist()\n",
    "\n",
    "# plt.scatter()\n",
    "\n",
    "#plt.scatter(year,ride)"
   ]
  },
  {
   "cell_type": "code",
   "execution_count": null,
   "metadata": {},
   "outputs": [],
   "source": [
    "#convert string to integer\n",
    "#years = list(map(int,years))\n",
    "#years = [1,2,3,4,5,6]\n",
    "#years"
   ]
  },
  {
   "cell_type": "code",
   "execution_count": null,
   "metadata": {},
   "outputs": [],
   "source": [
    "#convert dictionary to dataframe\n",
    "total_ridership_by_year_df = pd.DataFrame(list(total_ridership_by_year.items()), columns = ['year','ride'])\n",
    "\n",
    "#trying to test positive regression\n",
    "#total_ridership_by_year_df = pd.DataFrame({'year':['2015','2016','2017','2018','2019','2020'],\n",
    "#                                           \"ride\" : ['229077','358707','412423','460718','432274','483229']})\n",
    "\n",
    "\n",
    "each_year = total_ridership_by_year_df[\"year\"].astype(str).astype(int)\n",
    "total_rides = total_ridership_by_year_df[\"ride\"].astype(str).astype(int)\n",
    "\n",
    "total_rides\n",
    "\n",
    "#total_ridership_by_year_df\n"
   ]
  },
  {
   "cell_type": "code",
   "execution_count": null,
   "metadata": {},
   "outputs": [],
   "source": [
    "print(f\"The correlation coefficient is {round(st.pearsonr(each_year,total_rides)[0],2)}\")"
   ]
  },
  {
   "cell_type": "code",
   "execution_count": null,
   "metadata": {},
   "outputs": [],
   "source": [
    "\n",
    "cap_slope, cap_intercept, cap_r, cap_p, cap_std_err = st.linregress(each_year, total_rides)\n",
    "\n",
    "print (f'linear regression: \\n   slope = {cap_slope}\\n   intercept = {cap_intercept}\\n   rvalue = {cap_r}\\n   pvalue = {cap_p}\\n   std error = {cap_std_err}')"
   ]
  },
  {
   "cell_type": "code",
   "execution_count": null,
   "metadata": {},
   "outputs": [],
   "source": [
    "year = total_ridership_by_year_df.iloc[:,0]\n",
    "ride = total_ridership_by_year_df.iloc[:,1]\n",
    "\n",
    "plt.scatter(year, ride)"
   ]
  },
  {
   "cell_type": "code",
   "execution_count": null,
   "metadata": {},
   "outputs": [],
   "source": [
    "year = total_ridership_by_year_df.iloc[:,0]\n",
    "ride = total_ridership_by_year_df.iloc[:,1]\n",
    "\n",
    "plt.scatter(year, ride)\n",
    "\n",
    "#plot the linear model on top of scatter plot\n",
    "fit = cap_slope * ride + cap_intercept\n",
    "\n",
    "plt.plot(year, fit, \"--\")\n",
    "\n",
    "#label\n",
    "plt.xlabel('Year')\n",
    "plt.ylabel('Number of Rides')\n",
    "\n",
    "plt.show()"
   ]
  },
  {
   "cell_type": "markdown",
   "metadata": {},
   "source": [
    "#heat map of start locations"
   ]
  },
  {
   "cell_type": "markdown",
   "metadata": {},
   "source": [
    "# This is the Rachel section - end here"
   ]
  },
  {
   "cell_type": "code",
   "execution_count": null,
   "metadata": {},
   "outputs": [],
   "source": []
  }
 ],
 "metadata": {
  "kernelspec": {
   "display_name": "Python 3",
   "language": "python",
   "name": "python3"
  },
  "language_info": {
   "codemirror_mode": {
    "name": "ipython",
    "version": 3
   },
   "file_extension": ".py",
   "mimetype": "text/x-python",
   "name": "python",
   "nbconvert_exporter": "python",
   "pygments_lexer": "ipython3",
   "version": "3.6.10"
  }
 },
 "nbformat": 4,
 "nbformat_minor": 4
}
