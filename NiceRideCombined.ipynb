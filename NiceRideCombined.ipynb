{
 "cells": [
  {
   "cell_type": "markdown",
   "metadata": {},
   "source": [
    "# Nice Ride Analysis Notebook"
   ]
  },
  {
   "cell_type": "markdown",
   "metadata": {},
   "source": [
    "### Add some stuff here"
   ]
  },
  {
   "cell_type": "code",
   "execution_count": 58,
   "metadata": {},
   "outputs": [],
   "source": [
    "# Import dependencies\n",
    "import pandas as pd\n",
    "import numpy as np\n",
    "import matplotlib.pyplot as plt"
   ]
  },
  {
   "cell_type": "code",
   "execution_count": 59,
   "metadata": {},
   "outputs": [],
   "source": [
    "#cvs_path_2015 = \"Resources/Nice_ride_trip_history_2015_season.csv\"\n",
    "#cvs_path_2016 = \"Resources/Nice_ride_trip_history_2016_season.csv\"\n",
    "cvs_path_2017 = \"Resources/Nice_ride_trip_history_2017_season.csv\"\n",
    "cvs_path_2018 = \"Resources/Nice_ride_trip_history_2018_season.csv\"\n",
    "cvs_path_2019 = \"Resources/Nice_ride_trip_history_2019_season.csv\"\n",
    "cvs_path_2020 = \"Resources/Nice_ride_trip_history_2020_season.csv\"\n",
    "\n",
    "\n",
    "#nice_ride_2015_df = pd.read_csv(cvs_path_2015)\n",
    "#nice_ride_2016_df = pd.read_csv(cvs_path_2016)\n",
    "nice_ride_2017_df = pd.read_csv(cvs_path_2017)\n",
    "nice_ride_2018_df = pd.read_csv(cvs_path_2018)\n",
    "nice_ride_2019_df = pd.read_csv(cvs_path_2019)\n",
    "nice_ride_2020_df = pd.read_csv(cvs_path_2020)\n"
   ]
  },
  {
   "cell_type": "code",
   "execution_count": 60,
   "metadata": {},
   "outputs": [],
   "source": [
    "#ride_count_2015 = len(nice_ride_2015_df)\n",
    "#ride_count_2016 = len(nice_ride_2016_df)\n",
    "ride_count_2017 = len(nice_ride_2017_df)\n",
    "ride_count_2018 = len(nice_ride_2018_df)\n",
    "ride_count_2019 = len(nice_ride_2019_df)\n",
    "ride_count_2020 = len(nice_ride_2020_df)\n"
   ]
  },
  {
   "cell_type": "code",
   "execution_count": null,
   "metadata": {},
   "outputs": [],
   "source": []
  },
  {
   "cell_type": "markdown",
   "metadata": {},
   "source": [
    "#bar graph of total ridership per year "
   ]
  },
  {
   "cell_type": "code",
   "execution_count": 64,
   "metadata": {},
   "outputs": [
    {
     "data": {
      "text/plain": [
       "<BarContainer object of 4 artists>"
      ]
     },
     "execution_count": 64,
     "metadata": {},
     "output_type": "execute_result"
    },
    {
     "data": {
      "image/png": "[encoded data removed]",
      "text/plain": [
       "<Figure size 432x288 with 1 Axes>"
      ]
     },
     "metadata": {
      "needs_background": "light"
     },
     "output_type": "display_data"
    }
   ],
   "source": [
    "\n",
    "total_ridership_by_year = {'2017_ride' : ride_count_2017,\n",
    "                           '2018_ride' : ride_count_2018,\n",
    "                           '2019_ride' : ride_count_2019,\n",
    "                           '2020_ride' : ride_count_2020\n",
    "                          }\n",
    "\n",
    "years = list(data.keys())\n",
    "values = list(data.values())\n",
    "\n",
    "plt.bar(years, values, color = 'maroon',width = .2)"
   ]
  },
  {
   "cell_type": "code",
   "execution_count": 65,
   "metadata": {},
   "outputs": [
    {
     "data": {
      "text/plain": [
       "{'2017_ride': 460718,\n",
       " '2018_ride': 412423,\n",
       " '2019_ride': 358707,\n",
       " '2020_ride': 229077}"
      ]
     },
     "execution_count": 65,
     "metadata": {},
     "output_type": "execute_result"
    }
   ],
   "source": [
    "total_ridership_by_year"
   ]
  },
  {
   "cell_type": "markdown",
   "metadata": {},
   "source": [
    "#scatter plot with linear regression for total riderhsip in years 2015 through 2019\n",
    "#projected ridership for 2020\n"
   ]
  },
  {
   "cell_type": "code",
   "execution_count": null,
   "metadata": {},
   "outputs": [],
   "source": []
  },
  {
   "cell_type": "code",
   "execution_count": 66,
   "metadata": {},
   "outputs": [
    {
     "data": {
      "image/png": "[encoded data removed]",
      "text/plain": [
       "<Figure size 432x288 with 1 Axes>"
      ]
     },
     "metadata": {
      "needs_background": "light"
     },
     "output_type": "display_data"
    }
   ],
   "source": [
    "\n",
    "#ride = nice_ride_2019_df.iloc[:,0]\n",
    "#year = nice_ride_2019_df.iloc[:,1]\n",
    "\n",
    "#for total_dict in total_ridership_by_year.values():\n",
    "#    x = \n",
    "plt.scatter(years, values)\n",
    "plt.show()"
   ]
  },
  {
   "cell_type": "code",
   "execution_count": null,
   "metadata": {},
   "outputs": [],
   "source": []
  }
 ],
 "metadata": {
  "kernelspec": {
   "display_name": "Python 3",
   "language": "python",
   "name": "python3"
  },
  "language_info": {
   "codemirror_mode": {
    "name": "ipython",
    "version": 3
   },
   "file_extension": ".py",
   "mimetype": "text/x-python",
   "name": "python",
   "nbconvert_exporter": "python",
   "pygments_lexer": "ipython3",
   "version": "3.6.10"
  }
 },
 "nbformat": 4,
 "nbformat_minor": 4
}
