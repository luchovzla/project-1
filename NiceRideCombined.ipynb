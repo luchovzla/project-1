{
 "cells": [
  {
   "cell_type": "markdown",
   "metadata": {},
   "source": [
    "# Nice Ride Analysis Notebook"
   ]
  },
  {
   "cell_type": "markdown",
   "metadata": {},
   "source": [
    "### Add some stuff here"
   ]
  },
  {
   "cell_type": "code",
   "execution_count": null,
   "metadata": {},
   "outputs": [],
   "source": [
    "# Import dependencies\n",
    "import pandas as pd\n",
    "import numpy as np\n",
    "import matplotlib.pyplot as plt"
   ]
  },
  {
   "cell_type": "code",
   "execution_count": null,
   "metadata": {},
   "outputs": [],
   "source": []
  },
  {
   "cell_type": "code",
   "execution_count": null,
   "metadata": {},
   "outputs": [],
   "source": [
    "#ride_count_2015 = len(year_2015)\n",
    "#ride_count_2016 = len(year_2016)\n",
    "ride_count_2017 = len(year_2017)\n",
    "ride_count_2018 = len(year_2018)\n",
    "ride_count_2019 = len(year_2019)\n",
    "ride_count_2020 = len(year_2020)\n"
   ]
  },
  {
   "cell_type": "code",
   "execution_count": null,
   "metadata": {},
   "outputs": [],
   "source": []
  },
  {
   "cell_type": "markdown",
   "metadata": {},
   "source": [
    "#bar graph of total ridership per year "
   ]
  },
  {
   "cell_type": "code",
   "execution_count": null,
   "metadata": {},
   "outputs": [],
   "source": [
    "\n",
    "total_ridership_by_year = {'2017_ride' : ride_count_2017,\n",
    "                           '2018_ride' : ride_count_2018,\n",
    "                           '2019_ride' : ride_count_2019,\n",
    "                           '2020_ride' : ride_count_2020\n",
    "                          }\n",
    "\n",
    "years = list(data.keys())\n",
    "values = list(data.values())\n",
    "\n",
    "plt.bar(years, values, color = 'maroon',width = .2)"
   ]
  },
  {
   "cell_type": "code",
   "execution_count": null,
   "metadata": {},
   "outputs": [],
   "source": [
    "total_ridership_by_year"
   ]
  },
  {
   "cell_type": "markdown",
   "metadata": {},
   "source": [
    "#scatter plot with linear regression for total riderhsip in years 2015 through 2019\n",
    "#projected ridership for 2020\n"
   ]
  },
  {
   "cell_type": "code",
   "execution_count": null,
   "metadata": {},
   "outputs": [],
   "source": []
  },
  {
   "cell_type": "code",
   "execution_count": null,
   "metadata": {},
   "outputs": [],
   "source": [
    "\n",
    "#ride = nice_ride_2019_df.iloc[:,0]\n",
    "#year = nice_ride_2019_df.iloc[:,1]\n",
    "\n",
    "#for total_dict in total_ridership_by_year.values():\n",
    "#    x = \n",
    "plt.scatter(years, values)\n",
    "plt.show()"
   ]
  },
  {
   "cell_type": "code",
   "execution_count": null,
   "metadata": {},
   "outputs": [],
   "source": []
  }
 ],
 "metadata": {
  "kernelspec": {
   "display_name": "Python 3",
   "language": "python",
   "name": "python3"
  },
  "language_info": {
   "codemirror_mode": {
    "name": "ipython",
    "version": 3
   },
   "file_extension": ".py",
   "mimetype": "text/x-python",
   "name": "python",
   "nbconvert_exporter": "python",
   "pygments_lexer": "ipython3",
   "version": "3.6.10"
  }
 },
 "nbformat": 4,
 "nbformat_minor": 4
}
