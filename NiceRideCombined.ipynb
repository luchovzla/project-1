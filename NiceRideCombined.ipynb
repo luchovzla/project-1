{
 "cells": [
  {
   "cell_type": "markdown",
   "metadata": {},
   "source": [
    "# Nice Ride Analysis Notebook"
   ]
  },
  {
   "cell_type": "markdown",
   "metadata": {},
   "source": [
    "### Import data and set up for working"
   ]
  },
  {
   "cell_type": "code",
   "execution_count": null,
   "metadata": {},
   "outputs": [],
   "source": [
    "# Import dependencies\n",
    "\n",
    "import pandas as pd\n",
    "import numpy as np\n",
    "import matplotlib.pyplot as plt\n",
    "import datetime"
   ]
  },
  {
   "cell_type": "code",
   "execution_count": null,
   "metadata": {},
   "outputs": [],
   "source": [
    "#Import data\n",
    "\n",
    "csv_path = \"Resources/Nice_ride_trip_history_\"\n",
    "year_2015 = pd.read_csv(f\"{csv_path}2015_season.csv\", low_memory=False)\n",
    "year_2016 = pd.read_csv(f\"{csv_path}2016_season.csv\", low_memory=False)\n",
    "year_2017 = pd.read_csv(f\"{csv_path}2017_season.csv\", low_memory=False)\n",
    "year_2018 = pd.read_csv(f\"{csv_path}2018_season.csv\", low_memory=False)\n",
    "year_2019 = pd.read_csv(f\"{csv_path}2019_season.csv\", low_memory=False)\n",
    "year_2020 = pd.read_csv(f\"{csv_path}2020_season.csv\", low_memory=False)"
   ]
  },
  {
   "cell_type": "code",
   "execution_count": null,
   "metadata": {},
   "outputs": [],
   "source": [
    "# Create initial Data Frames\n",
    "# 2015\n",
    "df_2015 = pd.DataFrame(year_2015)\n",
    "df_2015.head() # start date 4/1/2015"
   ]
  },
  {
   "cell_type": "code",
   "execution_count": null,
   "metadata": {},
   "outputs": [],
   "source": [
    "df_2015.tail() # end date 11/1/2015"
   ]
  },
  {
   "cell_type": "code",
   "execution_count": null,
   "metadata": {},
   "outputs": [],
   "source": [
    "# 2015 Fix dtypes\n",
    "\n",
    "df_2015.start_datetime = pd.to_datetime(df_2015.start_datetime)\n",
    "df_2015.end_datetime = pd.to_datetime(df_2015.end_datetime)\n",
    "df_2015.start_station_name = df_2015.start_station_name.astype(str)\n",
    "df_2015.end_station_name = df_2015.end_station_name.astype(str)\n",
    "df_2015.account_type = df_2015.account_type.astype(str)\n",
    "df_2015.start_station_id = df_2015.start_station_id.astype(str)\n",
    "df_2015.end_station_id = df_2015.end_station_id.astype(str)\n",
    "\n",
    "df_2015.dtypes"
   ]
  },
  {
   "cell_type": "code",
   "execution_count": null,
   "metadata": {},
   "outputs": [],
   "source": [
    "# 2016\n",
    "df_2016 = pd.DataFrame(year_2016)\n",
    "df_2016.head() # start date 4/4/2016"
   ]
  },
  {
   "cell_type": "code",
   "execution_count": null,
   "metadata": {},
   "outputs": [],
   "source": [
    "df_2016.tail() # end date 11/6/2016"
   ]
  },
  {
   "cell_type": "code",
   "execution_count": null,
   "metadata": {},
   "outputs": [],
   "source": [
    "# 2016 Fix dtypes\n",
    "\n",
    "df_2016.start_datetime = pd.to_datetime(df_2016.start_datetime)\n",
    "df_2016.end_datetime = pd.to_datetime(df_2016.end_datetime)\n",
    "df_2016.start_station_name = df_2016.start_station_name.astype(str)\n",
    "df_2016.end_station_name = df_2016.end_station_name.astype(str)\n",
    "df_2016.account_type = df_2016.account_type.astype(str)\n",
    "df_2016.start_station_id = df_2016.start_station_id.astype(str)\n",
    "df_2016.end_station_id = df_2016.end_station_id.astype(str)\n",
    "\n",
    "df_2016.dtypes"
   ]
  },
  {
   "cell_type": "code",
   "execution_count": null,
   "metadata": {},
   "outputs": [],
   "source": [
    "# 2017\n",
    "df_2017 = pd.DataFrame(year_2017)\n",
    "df_2017.head() # start date 4/3/2017"
   ]
  },
  {
   "cell_type": "code",
   "execution_count": null,
   "metadata": {},
   "outputs": [],
   "source": [
    "df_2017.tail() # end date 11/5/2017"
   ]
  },
  {
   "cell_type": "code",
   "execution_count": null,
   "metadata": {},
   "outputs": [],
   "source": [
    "# 2017 Fix dtypes\n",
    "\n",
    "df_2017.start_datetime = pd.to_datetime(df_2017.start_datetime)\n",
    "df_2017.end_datetime = pd.to_datetime(df_2017.end_datetime)\n",
    "df_2017.start_station_name = df_2017.start_station_name.astype(str)\n",
    "df_2017.end_station_name = df_2017.end_station_name.astype(str)\n",
    "df_2017.account_type = df_2017.account_type.astype(str)\n",
    "df_2017.start_station_id = df_2017.start_station_id.astype(str)\n",
    "df_2017.end_station_id = df_2017.end_station_id.astype(str)\n",
    "\n",
    "df_2017.dtypes"
   ]
  },
  {
   "cell_type": "code",
   "execution_count": null,
   "metadata": {},
   "outputs": [],
   "source": [
    "# 2018\n",
    "df_2018 = pd.DataFrame(year_2018)\n",
    "df_2018.head() # start date 4/12/2018"
   ]
  },
  {
   "cell_type": "code",
   "execution_count": null,
   "metadata": {},
   "outputs": [],
   "source": [
    "df_2018.tail() # end date 11/17/2018"
   ]
  },
  {
   "cell_type": "code",
   "execution_count": null,
   "metadata": {},
   "outputs": [],
   "source": [
    "# 2018 Fix dtypes\n",
    "\n",
    "df_2018.start_datetime = pd.to_datetime(df_2018.start_datetime)\n",
    "df_2018.end_datetime = pd.to_datetime(df_2018.end_datetime)\n",
    "df_2018.start_station_name = df_2018.start_station_name.astype(str)\n",
    "df_2018.end_station_name = df_2018.end_station_name.astype(str)\n",
    "df_2018.account_type = df_2018.account_type.astype(str)\n",
    "df_2018.start_station_id = df_2018.start_station_id.astype(str)\n",
    "df_2018.end_station_id = df_2018.end_station_id.astype(str)\n",
    "\n",
    "df_2018.dtypes"
   ]
  },
  {
   "cell_type": "code",
   "execution_count": null,
   "metadata": {},
   "outputs": [],
   "source": [
    "# 2019\n",
    "df_2019 = pd.DataFrame(year_2019)\n",
    "df_2019.head() # start date 4/22/2019"
   ]
  },
  {
   "cell_type": "code",
   "execution_count": null,
   "metadata": {},
   "outputs": [],
   "source": [
    "df_2019.tail() # end date 11/30/2019"
   ]
  },
  {
   "cell_type": "code",
   "execution_count": null,
   "metadata": {},
   "outputs": [],
   "source": [
    "# 2019 Fix dtypes\n",
    "\n",
    "df_2019.start_datetime = pd.to_datetime(df_2019.start_datetime)\n",
    "df_2019.end_datetime = pd.to_datetime(df_2019.end_datetime)\n",
    "df_2019.start_station_name = df_2019.start_station_name.astype(str)\n",
    "df_2019.end_station_name = df_2019.end_station_name.astype(str)\n",
    "df_2019.account_type = df_2019.account_type.astype(str)\n",
    "df_2019.start_station_id = df_2019.start_station_id.astype(str)\n",
    "df_2019.end_station_id = df_2019.end_station_id.astype(str)\n",
    "\n",
    "df_2019.dtypes"
   ]
  },
  {
   "cell_type": "code",
   "execution_count": null,
   "metadata": {},
   "outputs": [],
   "source": [
    "# 2020 \n",
    "df_2020 = pd.DataFrame(year_2020)\n",
    "df_2020.head() #start date 4/1/2020"
   ]
  },
  {
   "cell_type": "code",
   "execution_count": null,
   "metadata": {},
   "outputs": [],
   "source": [
    "df_2020.tail() #end date 11/4/2020"
   ]
  },
  {
   "cell_type": "code",
   "execution_count": null,
   "metadata": {},
   "outputs": [],
   "source": [
    "# 2020 Fix dtypes\n",
    "\n",
    "df_2020.start_datetime = pd.to_datetime(df_2020.start_datetime)\n",
    "df_2020.end_datetime = pd.to_datetime(df_2020.end_datetime)\n",
    "df_2020.start_station_name = df_2020.start_station_name.astype(str)\n",
    "df_2020.end_station_name = df_2020.end_station_name.astype(str)\n",
    "df_2020.account_type = df_2020.account_type.astype(str)\n",
    "df_2020.start_station_id = df_2020.start_station_id.astype(str)\n",
    "df_2020.end_station_id = df_2020.end_station_id.astype(str)\n",
    "\n",
    "df_2020.dtypes"
   ]
  },
  {
   "cell_type": "markdown",
   "metadata": {},
   "source": [
    "# This is the Steph section - begin here"
   ]
  },
  {
   "cell_type": "code",
   "execution_count": null,
   "metadata": {},
   "outputs": [],
   "source": [
    "# Calculate total number of rides per day, by year\n",
    "# 2015\n",
    "\n",
    "# Split datetime column into three values\n",
    "df_2015[\"year\"] = df_2015.start_datetime.dt.year\n",
    "df_2015[\"month\"] = df_2015.start_datetime.dt.month\n",
    "df_2015[\"day\"] = df_2015.start_datetime.dt.day\n",
    "df_2015.head()"
   ]
  },
  {
   "cell_type": "code",
   "execution_count": null,
   "metadata": {
    "scrolled": false
   },
   "outputs": [],
   "source": [
    "# Group by month, day\n",
    "per_day_15 = df_2015.groupby([df_2015.month, df_2015.day]).count().reset_index()\n",
    "per_day_15 = pd.DataFrame(per_day_15)\n",
    "per_day_15.loc[per_day_15[\"month\"] == 11]\n",
    "# All data are complete for 4/1 - 11/1; will need zeros appended from 11/2 - 11/30"
   ]
  },
  {
   "cell_type": "code",
   "execution_count": null,
   "metadata": {},
   "outputs": [],
   "source": [
    "# 2016\n",
    "# Split datetime column into three values\n",
    "df_2016[\"year\"] = df_2016.start_datetime.dt.year\n",
    "df_2016[\"month\"] = df_2016.start_datetime.dt.month\n",
    "df_2016[\"day\"] = df_2016.start_datetime.dt.day\n",
    "df_2016.head()"
   ]
  },
  {
   "cell_type": "code",
   "execution_count": null,
   "metadata": {},
   "outputs": [],
   "source": [
    "# Group by month, day\n",
    "per_day_16 = df_2016.groupby([df_2016.year, df_2016.month, df_2016.day]).count().reset_index()\n",
    "per_day_16 = pd.DataFrame(per_day_16)\n",
    "per_day_16.loc[per_day_16[\"month\"] == 11]\n",
    "# Will need 0 to fill from 4/1-4/3; and from 11/7-11/30"
   ]
  },
  {
   "cell_type": "code",
   "execution_count": null,
   "metadata": {},
   "outputs": [],
   "source": [
    "# 2017\n",
    "\n",
    "# Split datetime column into three values\n",
    "df_2017[\"year\"] = df_2017.start_datetime.dt.year\n",
    "df_2017[\"month\"] = df_2017.start_datetime.dt.month\n",
    "df_2017[\"day\"] = df_2017.start_datetime.dt.day\n",
    "df_2017.head()"
   ]
  },
  {
   "cell_type": "code",
   "execution_count": null,
   "metadata": {},
   "outputs": [],
   "source": [
    "# Group by month, day\n",
    "per_day_17 = df_2017.groupby([df_2017.year, df_2017.month, df_2017.day]).count().reset_index()\n",
    "per_day_17 = pd.DataFrame(per_day_17)\n",
    "per_day_17.loc[per_day_17[\"month\"] == 11]\n",
    "# Need to add 0 for 4/1-4/2; 11/6-11/30"
   ]
  },
  {
   "cell_type": "code",
   "execution_count": null,
   "metadata": {},
   "outputs": [],
   "source": [
    "# 2018\n",
    "# Split datetime column into three values\n",
    "df_2018[\"year\"] = df_2018.start_datetime.dt.year\n",
    "df_2018[\"month\"] = df_2018.start_datetime.dt.month\n",
    "df_2018[\"day\"] = df_2018.start_datetime.dt.day\n",
    "df_2018.head()"
   ]
  },
  {
   "cell_type": "code",
   "execution_count": null,
   "metadata": {},
   "outputs": [],
   "source": [
    "# Group by month, day\n",
    "per_day_18 = df_2018.groupby([df_2018.year, df_2018.month, df_2018.day]).count().reset_index()\n",
    "per_day_18 = pd.DataFrame(per_day_18)\n",
    "per_day_18.loc[per_day_18[\"month\"] == 11]\n",
    "# Need 0 from 4/1-4/11; 11/18-11/30"
   ]
  },
  {
   "cell_type": "code",
   "execution_count": null,
   "metadata": {},
   "outputs": [],
   "source": [
    "# 2019\n",
    "# Split datetime column into three values\n",
    "df_2019[\"year\"] = df_2019.start_datetime.dt.year\n",
    "df_2019[\"month\"] = df_2019.start_datetime.dt.month\n",
    "df_2019[\"day\"] = df_2019.start_datetime.dt.day\n",
    "df_2019.head()"
   ]
  },
  {
   "cell_type": "code",
   "execution_count": null,
   "metadata": {},
   "outputs": [],
   "source": [
    "# Group by month, day\n",
    "per_day_19 = df_2019.groupby([df_2019.year, df_2019.month, df_2019.day]).count().reset_index()\n",
    "per_day_19 = pd.DataFrame(per_day_19)\n",
    "per_day_19.loc[per_day_19[\"month\"] == 11]\n",
    "# Need 0 for 4/1 - 4/21"
   ]
  },
  {
   "cell_type": "code",
   "execution_count": null,
   "metadata": {},
   "outputs": [],
   "source": [
    "# 2020\n",
    "# Split datetime column into three values\n",
    "df_2020[\"year\"] = df_2020.start_datetime.dt.year\n",
    "df_2020[\"month\"] = df_2020.start_datetime.dt.month\n",
    "df_2020[\"day\"] = df_2020.start_datetime.dt.day\n",
    "df_2020.head()"
   ]
  },
  {
   "cell_type": "code",
   "execution_count": null,
   "metadata": {},
   "outputs": [],
   "source": [
    "# Group by month, day\n",
    "per_day_20 = df_2020.groupby([df_2020.year, df_2020.month, df_2020.day]).count().reset_index()\n",
    "per_day_20 = pd.DataFrame(per_day_20)\n",
    "per_day_20.loc[per_day_20[\"month\"] == 11]\n",
    "# Need 0 for 4/5, 5/31, 11/5-11/30"
   ]
  },
  {
   "cell_type": "code",
   "execution_count": null,
   "metadata": {},
   "outputs": [],
   "source": [
    "#Calculate daily rides by year\n",
    "\n",
    "#2015\n",
    "daily_rides_15 = list(per_day_15.account_type)\n",
    "print(f\"2015: {len(daily_rides_15)}\")\n",
    "\n",
    "#2016\n",
    "daily_rides_16 = list(per_day_16.account_type)\n",
    "print(f\"2016: {len(daily_rides_16)}\")\n",
    "\n",
    "#2017\n",
    "daily_rides_17 = list(per_day_17.account_type)\n",
    "print(f\"2017: {len(daily_rides_17)}\")\n",
    "      \n",
    "#2018\n",
    "daily_rides_18 = list(per_day_18.account_type)\n",
    "print(f\"2018: {len(daily_rides_18)}\")\n",
    "\n",
    "#2019\n",
    "daily_rides_19 = list(per_day_19.account_type)\n",
    "print(f\"2019: {len(daily_rides_19)}\")\n",
    "\n",
    "#2020\n",
    "daily_rides_20 = list(per_day_20.account_type)\n",
    "print(f\"2020: {len(daily_rides_20)}\")\n",
    "#daily_rides_20"
   ]
  },
  {
   "cell_type": "code",
   "execution_count": null,
   "metadata": {},
   "outputs": [],
   "source": [
    "# It is necessary for all years to hold the same number of values\n",
    "# We have to extrapolate the values that make the most sense\n",
    "# For values that begin or end a year's data set, we should insert a zero:"
   ]
  },
  {
   "cell_type": "code",
   "execution_count": null,
   "metadata": {},
   "outputs": [],
   "source": [
    "years = [\"2015\", \"2016\", \"2017\", \"2018\", \"2019\", \"2020\"]\n",
    "months = [4, 5, 6, 7, 8, 9, 10, 11]\n",
    "for year in years:\n",
    "    for month in months:\n",
    "        "
   ]
  },
  {
   "cell_type": "code",
   "execution_count": null,
   "metadata": {},
   "outputs": [],
   "source": [
    "rides_by_month = pd.DataFrame({\"2015\" : daily_rides_15,\n",
    "                               \"2016\" : daily_rides_16,\n",
    "                               \"2017\" : daily_rides_17,\n",
    "                               \"2018\" : daily_rides_18,\n",
    "                               \"2019\" : daily_rides_19,\n",
    "                               \"2020\" : daily_rides_20})\n",
    "rides_by_month"
   ]
  },
  {
   "cell_type": "markdown",
   "metadata": {},
   "source": [
    "# This is the end of the Steph section"
   ]
  },
  {
   "cell_type": "markdown",
   "metadata": {},
   "source": [
    "# Luis' code - Monthly Ridership Line Plots"
   ]
  },
  {
   "cell_type": "code",
   "execution_count": null,
   "metadata": {},
   "outputs": [],
   "source": []
  },
  {
   "cell_type": "code",
   "execution_count": null,
   "metadata": {},
   "outputs": [],
   "source": [
    "# 2015\n",
    "by_month_2015 = df_2015[[\"start_datetime\", \"month\"]].groupby(\"month\").count()\n",
    "by_month_2015.rename(columns = {\"start_datetime\": \"2015\"}, inplace = True)\n",
    "by_month_2015"
   ]
  },
  {
   "cell_type": "code",
   "execution_count": null,
   "metadata": {},
   "outputs": [],
   "source": [
    "# 2016\n",
    "by_month_2016 = df_2016[[\"start_datetime\", \"month\"]].groupby(\"month\").count()\n",
    "by_month_2016.rename(columns = {\"start_datetime\": \"2016\"}, inplace = True)\n",
    "by_month_2016"
   ]
  },
  {
   "cell_type": "code",
   "execution_count": null,
   "metadata": {},
   "outputs": [],
   "source": [
    "# 2017\n",
    "by_month_2017 = df_2017[[\"start_datetime\", \"month\"]].groupby(\"month\").count()\n",
    "by_month_2017.rename(columns = {\"start_datetime\": \"2017\"}, inplace = True)\n",
    "by_month_2017"
   ]
  },
  {
   "cell_type": "code",
   "execution_count": null,
   "metadata": {},
   "outputs": [],
   "source": [
    "# 2018\n",
    "by_month_2018 = df_2018[[\"start_datetime\", \"month\"]].groupby(\"month\").count()\n",
    "by_month_2018.rename(columns = {\"start_datetime\": \"2018\"}, inplace = True)\n",
    "by_month_2018"
   ]
  },
  {
   "cell_type": "code",
   "execution_count": null,
   "metadata": {},
   "outputs": [],
   "source": [
    "# 2019\n",
    "by_month_2019 = df_2019[[\"start_datetime\", \"month\"]].groupby(\"month\").count()\n",
    "by_month_2019.rename(columns = {\"start_datetime\": \"2019\"}, inplace = True)\n",
    "by_month_2019"
   ]
  },
  {
   "cell_type": "code",
   "execution_count": null,
   "metadata": {},
   "outputs": [],
   "source": [
    "# 2018\n",
    "by_month_2020 = df_2020[[\"start_datetime\", \"month\"]].groupby(\"month\").count()\n",
    "by_month_2020.rename(columns = {\"start_datetime\": \"2020\"}, inplace = True)\n",
    "by_month_2020"
   ]
  },
  {
   "cell_type": "code",
   "execution_count": null,
   "metadata": {},
   "outputs": [],
   "source": [
    "# Join dataframes using concat\n",
    "\n",
    "rides_by_month = pd.concat([by_month_2015, by_month_2016, by_month_2017, by_month_2018, by_month_2019, by_month_2020], axis = 1)\n",
    "\n",
    "# Set index to the months\n",
    "\n",
    "months_list = [\"April\", \"May\", \"June\", \"July\", \"August\", \"September\", \"October\", \"November\"]\n",
    "\n",
    "rides_by_month.index = months_list\n",
    "\n",
    "rides_by_month"
   ]
  },
  {
   "cell_type": "code",
   "execution_count": null,
   "metadata": {},
   "outputs": [],
   "source": [
    "rides_by_month.plot(kind = \"line\")\n",
    "plt.legend(loc = \"upper right\")\n",
    "plt.xticks(rotation = 45)\n",
    "plt.show()"
   ]
  },
  {
   "cell_type": "code",
   "execution_count": null,
   "metadata": {},
   "outputs": [],
   "source": []
  }
 ],
 "metadata": {
  "kernelspec": {
   "display_name": "Python 3",
   "language": "python",
   "name": "python3"
  },
  "language_info": {
   "codemirror_mode": {
    "name": "ipython",
    "version": 3
   },
   "file_extension": ".py",
   "mimetype": "text/x-python",
   "name": "python",
   "nbconvert_exporter": "python",
   "pygments_lexer": "ipython3",
   "version": "3.6.10"
  }
 },
 "nbformat": 4,
 "nbformat_minor": 4
}
