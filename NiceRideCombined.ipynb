{
 "cells": [
  {
   "cell_type": "markdown",
   "metadata": {},
   "source": [
    "# Nice Ride Analysis Notebook"
   ]
  },
  {
   "cell_type": "markdown",
   "metadata": {},
   "source": [
    "### Import data and set up for working"
   ]
  },
  {
   "cell_type": "code",
   "execution_count": null,
   "metadata": {},
   "outputs": [],
   "source": [
    "# Import dependencies\n",
    "\n",
    "import pandas as pd\n",
    "import numpy as np\n",
    "import matplotlib.pyplot as plt\n",
    "import datetime"
   ]
  },
  {
   "cell_type": "code",
   "execution_count": null,
   "metadata": {},
   "outputs": [],
   "source": [
    "#Import data\n",
    "\n",
    "csv_path = \"Resources/Nice_ride_trip_history_\"\n",
    "year_2015 = pd.read_csv(f\"{csv_path}2015_season.csv\", low_memory=False)\n",
    "year_2016 = pd.read_csv(f\"{csv_path}2016_season.csv\", low_memory=False)\n",
    "year_2017 = pd.read_csv(f\"{csv_path}2017_season.csv\", low_memory=False)\n",
    "year_2018 = pd.read_csv(f\"{csv_path}2018_season.csv\", low_memory=False)\n",
    "year_2019 = pd.read_csv(f\"{csv_path}2019_season.csv\", low_memory=False)\n",
    "year_2020 = pd.read_csv(f\"{csv_path}2020_season.csv\", low_memory=False)"
   ]
  },
  {
   "cell_type": "code",
   "execution_count": null,
   "metadata": {},
   "outputs": [],
   "source": [
    "# Create initial Data Frames\n",
    "# 2015\n",
    "df_2015 = pd.DataFrame(year_2015)\n",
    "#df_2015.head() # start date 4/1/2015"
   ]
  },
  {
   "cell_type": "code",
   "execution_count": null,
   "metadata": {},
   "outputs": [],
   "source": [
    "#df_2015.tail() # end date 11/1/2015"
   ]
  },
  {
   "cell_type": "code",
   "execution_count": null,
   "metadata": {},
   "outputs": [],
   "source": [
    "# 2015 Fix dtypes\n",
    "\n",
    "df_2015.start_datetime = pd.to_datetime(df_2015.start_datetime)\n",
    "df_2015.end_datetime = pd.to_datetime(df_2015.end_datetime)\n",
    "df_2015.start_station_name = df_2015.start_station_name.astype(str)\n",
    "df_2015.end_station_name = df_2015.end_station_name.astype(str)\n",
    "df_2015.account_type = df_2015.account_type.astype(str)\n",
    "df_2015.start_station_id = df_2015.start_station_id.astype(str)\n",
    "df_2015.end_station_id = df_2015.end_station_id.astype(str)\n",
    "\n",
    "#df_2015.dtypes"
   ]
  },
  {
   "cell_type": "code",
   "execution_count": null,
   "metadata": {},
   "outputs": [],
   "source": [
    "# 2016\n",
    "df_2016 = pd.DataFrame(year_2016)\n",
    "#df_2016.head() # start date 4/4/2016"
   ]
  },
  {
   "cell_type": "code",
   "execution_count": null,
   "metadata": {},
   "outputs": [],
   "source": [
    "#df_2016.tail() # end date 11/6/2016"
   ]
  },
  {
   "cell_type": "code",
   "execution_count": null,
   "metadata": {},
   "outputs": [],
   "source": [
    "# 2016 Fix dtypes\n",
    "\n",
    "df_2016.start_datetime = pd.to_datetime(df_2016.start_datetime)\n",
    "df_2016.end_datetime = pd.to_datetime(df_2016.end_datetime)\n",
    "df_2016.start_station_name = df_2016.start_station_name.astype(str)\n",
    "df_2016.end_station_name = df_2016.end_station_name.astype(str)\n",
    "df_2016.account_type = df_2016.account_type.astype(str)\n",
    "df_2016.start_station_id = df_2016.start_station_id.astype(str)\n",
    "df_2016.end_station_id = df_2016.end_station_id.astype(str)\n",
    "\n",
    "#df_2016.dtypes"
   ]
  },
  {
   "cell_type": "code",
   "execution_count": null,
   "metadata": {},
   "outputs": [],
   "source": [
    "# 2017\n",
    "df_2017 = pd.DataFrame(year_2017)\n",
    "#df_2017.head() # start date 4/3/2017"
   ]
  },
  {
   "cell_type": "code",
   "execution_count": null,
   "metadata": {},
   "outputs": [],
   "source": [
    "#df_2017.tail() # end date 11/5/2017"
   ]
  },
  {
   "cell_type": "code",
   "execution_count": null,
   "metadata": {},
   "outputs": [],
   "source": [
    "# 2017 Fix dtypes\n",
    "\n",
    "df_2017.start_datetime = pd.to_datetime(df_2017.start_datetime)\n",
    "df_2017.end_datetime = pd.to_datetime(df_2017.end_datetime)\n",
    "df_2017.start_station_name = df_2017.start_station_name.astype(str)\n",
    "df_2017.end_station_name = df_2017.end_station_name.astype(str)\n",
    "df_2017.account_type = df_2017.account_type.astype(str)\n",
    "df_2017.start_station_id = df_2017.start_station_id.astype(str)\n",
    "df_2017.end_station_id = df_2017.end_station_id.astype(str)\n",
    "\n",
    "#df_2017.dtypes"
   ]
  },
  {
   "cell_type": "code",
   "execution_count": null,
   "metadata": {},
   "outputs": [],
   "source": [
    "# 2018\n",
    "df_2018 = pd.DataFrame(year_2018)\n",
    "#df_2018.head() # start date 4/12/2018"
   ]
  },
  {
   "cell_type": "code",
   "execution_count": null,
   "metadata": {},
   "outputs": [],
   "source": [
    "#df_2018.tail() # end date 11/17/2018"
   ]
  },
  {
   "cell_type": "code",
   "execution_count": null,
   "metadata": {},
   "outputs": [],
   "source": [
    "# 2018 Fix dtypes\n",
    "\n",
    "df_2018.start_datetime = pd.to_datetime(df_2018.start_datetime)\n",
    "df_2018.end_datetime = pd.to_datetime(df_2018.end_datetime)\n",
    "df_2018.start_station_name = df_2018.start_station_name.astype(str)\n",
    "df_2018.end_station_name = df_2018.end_station_name.astype(str)\n",
    "df_2018.account_type = df_2018.account_type.astype(str)\n",
    "df_2018.start_station_id = df_2018.start_station_id.astype(str)\n",
    "df_2018.end_station_id = df_2018.end_station_id.astype(str)\n",
    "\n",
    "#df_2018.dtypes"
   ]
  },
  {
   "cell_type": "code",
   "execution_count": null,
   "metadata": {},
   "outputs": [],
   "source": [
    "# 2019\n",
    "df_2019 = pd.DataFrame(year_2019)\n",
    "#df_2019.head() # start date 4/22/2019"
   ]
  },
  {
   "cell_type": "code",
   "execution_count": null,
   "metadata": {},
   "outputs": [],
   "source": [
    "#df_2019.tail() # end date 11/30/2019"
   ]
  },
  {
   "cell_type": "code",
   "execution_count": null,
   "metadata": {},
   "outputs": [],
   "source": [
    "# 2019 Fix dtypes\n",
    "\n",
    "df_2019.start_datetime = pd.to_datetime(df_2019.start_datetime)\n",
    "df_2019.end_datetime = pd.to_datetime(df_2019.end_datetime)\n",
    "df_2019.start_station_name = df_2019.start_station_name.astype(str)\n",
    "df_2019.end_station_name = df_2019.end_station_name.astype(str)\n",
    "df_2019.account_type = df_2019.account_type.astype(str)\n",
    "df_2019.start_station_id = df_2019.start_station_id.astype(str)\n",
    "df_2019.end_station_id = df_2019.end_station_id.astype(str)\n",
    "\n",
    "#df_2019.dtypes"
   ]
  },
  {
   "cell_type": "code",
   "execution_count": null,
   "metadata": {},
   "outputs": [],
   "source": [
    "# 2020 \n",
    "df_2020 = pd.DataFrame(year_2020)\n",
    "#df_2020.head() #start date 4/1/2020"
   ]
  },
  {
   "cell_type": "code",
   "execution_count": null,
   "metadata": {},
   "outputs": [],
   "source": [
    "#df_2020.tail() #end date 11/4/2020"
   ]
  },
  {
   "cell_type": "code",
   "execution_count": null,
   "metadata": {},
   "outputs": [],
   "source": [
    "# 2020 Fix dtypes\n",
    "\n",
    "df_2020.start_datetime = pd.to_datetime(df_2020.start_datetime)\n",
    "df_2020.end_datetime = pd.to_datetime(df_2020.end_datetime)\n",
    "df_2020.start_station_name = df_2020.start_station_name.astype(str)\n",
    "df_2020.end_station_name = df_2020.end_station_name.astype(str)\n",
    "df_2020.account_type = df_2020.account_type.astype(str)\n",
    "df_2020.start_station_id = df_2020.start_station_id.astype(str)\n",
    "df_2020.end_station_id = df_2020.end_station_id.astype(str)\n",
    "\n",
    "#df_2020.dtypes"
   ]
  },
  {
   "cell_type": "code",
   "execution_count": null,
   "metadata": {},
   "outputs": [],
   "source": [
    "# Define function to extract date information from datetime\n",
    "    \n",
    "def extract_date(x):\n",
    "    x[\"year\"] = x.start_datetime.dt.year\n",
    "    x[\"month\"] = x.start_datetime.dt.month\n",
    "    x[\"day\"] = x.start_datetime.dt.day"
   ]
  },
  {
   "cell_type": "code",
   "execution_count": null,
   "metadata": {},
   "outputs": [],
   "source": [
    "# Extract dates and add new columns to dfs\n",
    "\n",
    "x = df_2015\n",
    "extract_date(x)\n",
    "\n",
    "x = df_2016\n",
    "extract_date(x)\n",
    "\n",
    "x = df_2017\n",
    "extract_date(x)\n",
    "\n",
    "x = df_2018\n",
    "extract_date(x)\n",
    "\n",
    "x = df_2019\n",
    "extract_date(x)\n",
    "\n",
    "x = df_2020\n",
    "extract_date(x)"
   ]
  },
  {
   "cell_type": "markdown",
   "metadata": {},
   "source": [
    "# This is the Steph section - begin here"
   ]
  },
  {
   "cell_type": "code",
   "execution_count": null,
   "metadata": {},
   "outputs": [],
   "source": [
    "# Copy data for steph section\n",
    "\n",
    "s_2015 = df_2015.copy()\n",
    "s_2016 = df_2016.copy()\n",
    "s_2017 = df_2017.copy()\n",
    "s_2018 = df_2018.copy()\n",
    "s_2019 = df_2019.copy()\n",
    "s_2020 = df_2020.copy()"
   ]
  },
  {
   "cell_type": "code",
   "execution_count": null,
   "metadata": {},
   "outputs": [],
   "source": [
    "# Define function to extract day of week from datetime\n",
    "    \n",
    "def get_dayofweek(x):    \n",
    "    start = x.start_datetime[0]\n",
    "    end = x.start_datetime[len(x.start_datetime)-1]\n",
    "    s = pd.date_range(start, end, freq=\"D\").to_series()\n",
    "    #print(s)\n",
    "    s = list(s.dt.dayofweek)\n",
    "    return s\n",
    "\n",
    "#dayofweek: 0 = Monday, 6 = Sunday"
   ]
  },
  {
   "cell_type": "code",
   "execution_count": null,
   "metadata": {},
   "outputs": [],
   "source": [
    "# Calculate total number of rides per day, by year\n",
    "# 2015\n",
    "s_2015.head()"
   ]
  },
  {
   "cell_type": "code",
   "execution_count": null,
   "metadata": {},
   "outputs": [],
   "source": [
    "# Group by month, day\n",
    "grouped_2015 = s_2015.groupby([s_2015[\"month\"], s_2015[\"day\"]]).count()\n",
    "grouped_2015 = grouped_2015[\"start_datetime\"]\n",
    "grouped_2015 = pd.DataFrame(grouped_2015)\n",
    "grouped_2015 = grouped_2015.rename(columns={\"start_datetime\" : \"num_rides\"})\n",
    "grouped_2015.head()"
   ]
  },
  {
   "cell_type": "code",
   "execution_count": null,
   "metadata": {
    "scrolled": false
   },
   "outputs": [],
   "source": [
    "# Get day of the week\n",
    "x = s_2015\n",
    "s = get_dayofweek(x)\n",
    "grouped_2015[\"dayofweek\"] = s\n",
    "grouped_2015.head()"
   ]
  },
  {
   "cell_type": "code",
   "execution_count": null,
   "metadata": {},
   "outputs": [],
   "source": [
    "# 2016\n",
    "\n",
    "grouped_2016 = s_2016.groupby([s_2016[\"month\"], s_2016[\"day\"]]).count()\n",
    "grouped_2016 = grouped_2016[\"start_datetime\"]\n",
    "grouped_2016 = pd.DataFrame(grouped_2016)\n",
    "grouped_2016 = grouped_2016.rename(columns={\"start_datetime\" : \"num_rides\"})\n",
    "#grouped_2016.head()\n",
    "\n",
    "x = s_2016\n",
    "s = get_dayofweek(x)\n",
    "grouped_2016[\"dayofweek\"] = s\n",
    "grouped_2016.head()"
   ]
  },
  {
   "cell_type": "code",
   "execution_count": null,
   "metadata": {},
   "outputs": [],
   "source": [
    "# 2017\n",
    "\n",
    "grouped_2017 = s_2017.groupby([s_2017[\"month\"], s_2017[\"day\"]]).count()\n",
    "grouped_2017 = grouped_2017[\"start_datetime\"]\n",
    "grouped_2017 = pd.DataFrame(grouped_2017)\n",
    "grouped_2017 = grouped_2017.rename(columns={\"start_datetime\" : \"num_rides\"})\n",
    "#grouped_2017.head()\n",
    "\n",
    "x = s_2017\n",
    "s = get_dayofweek(x)\n",
    "grouped_2017[\"dayofweek\"] = s\n",
    "grouped_2017.head()"
   ]
  },
  {
   "cell_type": "code",
   "execution_count": null,
   "metadata": {},
   "outputs": [],
   "source": [
    "# 2018\n",
    "\n",
    "grouped_2018 = s_2018.groupby([s_2018[\"month\"], s_2018[\"day\"]]).count()\n",
    "grouped_2018 = grouped_2018[\"start_datetime\"]\n",
    "grouped_2018 = pd.DataFrame(grouped_2018)\n",
    "grouped_2018 = grouped_2018.rename(columns={\"start_datetime\" : \"num_rides\"})\n",
    "#grouped_2018.head()\n",
    "\n",
    "x = s_2018\n",
    "s = get_dayofweek(x)\n",
    "grouped_2018[\"dayofweek\"] = s\n",
    "grouped_2018.head()"
   ]
  },
  {
   "cell_type": "code",
   "execution_count": null,
   "metadata": {},
   "outputs": [],
   "source": [
    "# 2019\n",
    "\n",
    "grouped_2019 = s_2019.groupby([s_2019[\"month\"], s_2019[\"day\"]]).count()\n",
    "grouped_2019 = grouped_2019[\"start_datetime\"]\n",
    "grouped_2019 = pd.DataFrame(grouped_2019)\n",
    "grouped_2019 = grouped_2019.rename(columns={\"start_datetime\" : \"num_rides\"})\n",
    "#grouped_2019.head()\n",
    "\n",
    "x = s_2019\n",
    "s = get_dayofweek(x)\n",
    "grouped_2019[\"dayofweek\"] = s\n",
    "grouped_2019.head()"
   ]
  },
  {
   "cell_type": "code",
   "execution_count": null,
   "metadata": {},
   "outputs": [],
   "source": [
    "# 2020\n",
    "\n",
    "grouped_2020 = s_2020.groupby([s_2020[\"month\"], s_2020[\"day\"]]).count()\n",
    "grouped_2020 = grouped_2020[\"start_datetime\"]\n",
    "grouped_2020 = pd.DataFrame(grouped_2020)\n",
    "grouped_2020 = grouped_2020.rename(columns={\"start_datetime\" : \"num_rides\"})\n",
    "len(grouped_2020)"
   ]
  },
  {
   "cell_type": "code",
   "execution_count": null,
   "metadata": {},
   "outputs": [],
   "source": [
    "# 2020 is missing two dates in the middle of the range that must be accounted for\n",
    "# before we can figure out day of the week:\n",
    "\n",
    "x = s_2020\n",
    "start = x.start_datetime[0]\n",
    "end = x.start_datetime[len(x.start_datetime)-1]\n",
    "s = pd.date_range(start, end, freq=\"D\").to_list()\n",
    "print(s.pop(4))\n",
    "print(s.pop(59))\n",
    "s=pd.Series(s)\n",
    "s = list(s.dt.dayofweek)\n",
    "grouped_2020[\"dayofweek\"] = s\n",
    "grouped_2020.head()"
   ]
  },
  {
   "cell_type": "code",
   "execution_count": null,
   "metadata": {},
   "outputs": [],
   "source": [
    "#Calculate daily rides by year\n",
    "\n",
    "#2015\n",
    "daily_rides_15 = list(grouped_2015.num_rides)\n",
    "print(f\"2015: {len(daily_rides_15)}\")\n",
    "\n",
    "#2016\n",
    "daily_rides_16 = list(grouped_2016.num_rides)\n",
    "print(f\"2016: {len(daily_rides_16)}\")\n",
    "\n",
    "#2017\n",
    "daily_rides_17 = list(grouped_2017.num_rides)\n",
    "print(f\"2017: {len(daily_rides_17)}\")\n",
    "      \n",
    "#2018\n",
    "daily_rides_18 = list(grouped_2018.num_rides)\n",
    "print(f\"2018: {len(daily_rides_18)}\")\n",
    "\n",
    "#2019\n",
    "daily_rides_19 = list(grouped_2019.num_rides)\n",
    "print(f\"2019: {len(daily_rides_19)}\")\n",
    "\n",
    "#2020\n",
    "daily_rides_20 = list(grouped_2020.num_rides)\n",
    "print(f\"2020: {len(daily_rides_20)}\")\n",
    "#daily_rides_20\n"
   ]
  },
  {
   "cell_type": "code",
   "execution_count": null,
   "metadata": {},
   "outputs": [],
   "source": [
    "# It is necessary for all years to hold the same number of values\n",
    "# For values that are missing, we should insert a zero:\n",
    "# 2015\n",
    "\n",
    "for n in range(29):\n",
    "    daily_rides_15.append(int(0))    \n",
    "    \n",
    "daily_rides_15\n",
    "len(daily_rides_15)"
   ]
  },
  {
   "cell_type": "code",
   "execution_count": null,
   "metadata": {},
   "outputs": [],
   "source": [
    "#2016\n",
    "\n",
    "for n in range (3):\n",
    "    daily_rides_16.insert(0, 0)\n",
    "for n in range(24):\n",
    "    daily_rides_16.append(int(0))\n",
    "    \n",
    "len(daily_rides_16)"
   ]
  },
  {
   "cell_type": "code",
   "execution_count": null,
   "metadata": {},
   "outputs": [],
   "source": [
    "# 2017\n",
    "\n",
    "for n in range(2):\n",
    "    daily_rides_17.insert(0, 0)\n",
    "for n in range(25):\n",
    "    daily_rides_17.append(int(0))\n",
    "    \n",
    "len(daily_rides_17)"
   ]
  },
  {
   "cell_type": "code",
   "execution_count": null,
   "metadata": {},
   "outputs": [],
   "source": [
    "# 2018\n",
    "\n",
    "for n in range(11):\n",
    "    daily_rides_18.insert(0, 0)\n",
    "for n in range(13):\n",
    "    daily_rides_18.append(int(0))\n",
    "    \n",
    "len(daily_rides_18)"
   ]
  },
  {
   "cell_type": "code",
   "execution_count": null,
   "metadata": {},
   "outputs": [],
   "source": [
    "# 2019\n",
    "\n",
    "for n in range(21):\n",
    "    daily_rides_19.insert(0, 0)\n",
    "    \n",
    "len(daily_rides_19)"
   ]
  },
  {
   "cell_type": "code",
   "execution_count": null,
   "metadata": {},
   "outputs": [],
   "source": [
    "# 2020\n",
    "\n",
    "daily_rides_20.insert(4,0)\n",
    "daily_rides_20.insert(60,0)\n",
    "\n",
    "for n in range(26):\n",
    "    daily_rides_20.append(int(0))\n",
    "\n",
    "len(daily_rides_20)"
   ]
  },
  {
   "cell_type": "code",
   "execution_count": null,
   "metadata": {},
   "outputs": [],
   "source": [
    "rides_by_month = pd.DataFrame({\"2015\" : daily_rides_15,\n",
    "                               \"2016\" : daily_rides_16,\n",
    "                               \"2017\" : daily_rides_17,\n",
    "                               \"2018\" : daily_rides_18,\n",
    "                               \"2019\" : daily_rides_19,\n",
    "                               \"2020\" : daily_rides_20})\n",
    "rides_by_month"
   ]
  },
  {
   "cell_type": "code",
   "execution_count": null,
   "metadata": {},
   "outputs": [],
   "source": [
    "# Define xticks for plot by day\n",
    "\n",
    "Apr = 1\n",
    "May = 30 + 1\n",
    "June = 30 + 31 + 1\n",
    "July = 30 + 31 + 30 + 1\n",
    "Aug = 30 + 31 + 30 + 31 + 1\n",
    "Sep = 30 + 31 + 30 + 31 + 31 + 1\n",
    "Oct = 30 + 31 + 30 + 31 + 31 + 30 + 1\n",
    "Nov = 30 + 31 + 30 + 31 + 31 + 30 + 31 + 1\n",
    "\n",
    "month_locations = np.array([Apr, May, June, July, Aug, Sep, Oct, Nov])\n",
    "print(month_locations)\n",
    "\n",
    "month_labels = np.array([\"April\", \"May\", \"June\", \"July\", \"August\", \"September\", \"October\", \"November\"])\n",
    "print(month_labels)"
   ]
  },
  {
   "cell_type": "code",
   "execution_count": null,
   "metadata": {
    "scrolled": true
   },
   "outputs": [],
   "source": [
    "# Define parameters for plot by day\n",
    "\n",
    "plt.figure(figsize=(20,8))\n",
    "#2015\n",
    "x_2015 = np.arange(1,245,1)\n",
    "y_2015 = rides_by_month[\"2015\"]\n",
    "plt.plot(x_2015, y_2015, label=\"2015\", color=\"red\")\n",
    "#2016\n",
    "x_2016 = np.arange(1,245,1)\n",
    "y_2016 = rides_by_month[\"2016\"]\n",
    "plt.plot(x_2016, y_2016, label =\"2016\", color=\"orange\")\n",
    "#2017\n",
    "x_2017 = np.arange(1,245,1)\n",
    "y_2017 = rides_by_month[\"2017\"]\n",
    "plt.plot(x_2017, y_2017, label=\"2017\", color=\"yellow\")\n",
    "#2018\n",
    "x_2018 = np.arange(1,245,1)\n",
    "y_2018 = rides_by_month[\"2018\"]\n",
    "plt.plot(x_2018, y_2018, label=\"2018\", color=\"green\")\n",
    "#2019\n",
    "x_2019 = np.arange(1,245,1)\n",
    "y_2019 = rides_by_month[\"2019\"]\n",
    "plt.plot(x_2019, y_2019, label=\"2019\", color=\"blue\")\n",
    "#2020\n",
    "x_2020 = np.arange(1,245,1)\n",
    "y_2020 = rides_by_month[\"2020\"]\n",
    "plt.plot(x_2020, y_2020, label=\"2020\", color=\"purple\")\n",
    "\n",
    "plt.xticks(month_locations, month_labels, rotation=\"vertical\")\n",
    "\n",
    "plt.tight_layout()\n",
    "plt.show()"
   ]
  },
  {
   "cell_type": "code",
   "execution_count": null,
   "metadata": {},
   "outputs": [],
   "source": [
    "# Define x_ticks for Mpls even timeline in 2020\n",
    "import matplotlib.ticker as ticker\n",
    "\n",
    "Apr = 1\n",
    "# 4/6 - Nice Ride season begins\n",
    "tick1 = 6\n",
    "# 4/18 - Outdoor recreation allowed\n",
    "tick2 = 18\n",
    "# 4/26 - Some non-critical workers can return to work\n",
    "tick3 = 26\n",
    "May = 31\n",
    "# 5/25 - Death of George Floyd\n",
    "tick4 = 30 + 25\n",
    "# 5/26 - Protests begin\n",
    "tick5 = 30 + 26\n",
    "# 5/27 - Opening for outdoor service for bars and restaurants\n",
    "tick6 = 30 + 27\n",
    "# 5/28 - National Guard activated\n",
    "tick7 = 30 + 28\n",
    "June = 62\n",
    "# 6/9 - Allows for limited reopening\n",
    "tick8 = 30 + 31 + 9\n",
    "July = 92\n",
    "# 8/1 - Mayor closes indoor dining\n",
    "tick9 = 30 + 31 + 30 + 31 + 1\n",
    "Sep = 154\n",
    "# 9/8 - First day of U of M fall semester\n",
    "tick10 = 30 + 31 + 30 + 31 + 31 + 8\n",
    "Oct = 184\n",
    "Nov = 215\n",
    "# 11/4 - Nice Ride season ends\n",
    "tick11 = 30 + 31 + 30 + 31 + 31 + 30 + 31 + 4\n",
    "\n",
    "x_tick_locations = np.array([Apr, tick1, tick2, tick3, May, tick7, June, tick8, July, tick9, Sep, tick10, Oct, Nov, tick11])\n",
    "print(x_tick_locations)  \n",
    "\n",
    "xtick_labels = np.array([\"April\", \"Nice Ride season begins\", \"Outdoor recreation allowed\", \n",
    "                         \"Non-critical workers return to work\", \"May\", \"Death of George Floyd\", \"June\",\n",
    "                         \"Limited reopening\", \"July\", \"August - Mayor closes indoor dining\", \"September\",\n",
    "                         \"First day of fall semester\", \"October\", \"November\", \"Nice Ride season ends\"])"
   ]
  },
  {
   "cell_type": "code",
   "execution_count": null,
   "metadata": {},
   "outputs": [],
   "source": [
    "plt.figure(figsize=(17,8))\n",
    "x_axis = np.arange(1,245,1)\n",
    "y_values = rides_by_month[\"2020\"]\n",
    "plt.plot(x_axis, y_values, color=\"purple\")\n",
    "\n",
    "plt.xticks(x_tick_locations, xtick_labels, rotation=\"vertical\")\n",
    "plt.tight_layout()\n",
    "plt.show()"
   ]
  },
  {
   "cell_type": "code",
   "execution_count": null,
   "metadata": {},
   "outputs": [],
   "source": [
    "# Looking at other factors:\n",
    "# 2020 by day of week\n",
    "grouped_2020.head()\n",
    "\n",
    "Sunday = grouped_2020.loc[grouped_2020[\"dayofweek\"] == 6].num_rides.sum()\n",
    "Monday = grouped_2020.loc[grouped_2020[\"dayofweek\"] == 0].num_rides.sum()\n",
    "Tuesday = grouped_2020.loc[grouped_2020[\"dayofweek\"] == 1].num_rides.sum()\n",
    "Wednesday = grouped_2020.loc[grouped_2020[\"dayofweek\"] == 2].num_rides.sum()\n",
    "Thursday = grouped_2020.loc[grouped_2020[\"dayofweek\"] == 3].num_rides.sum()\n",
    "Friday = grouped_2020.loc[grouped_2020[\"dayofweek\"] == 4].num_rides.sum()\n",
    "Saturday = grouped_2020.loc[grouped_2020[\"dayofweek\"] == 5].num_rides.sum()\n",
    "print(Sunday)\n",
    "print(Monday)\n",
    "print(Tuesday)\n",
    "print(Wednesday)\n",
    "print(Thursday)\n",
    "print(Friday)\n",
    "print(Saturday)"
   ]
  },
  {
   "cell_type": "code",
   "execution_count": null,
   "metadata": {},
   "outputs": [],
   "source": []
  },
  {
   "cell_type": "code",
   "execution_count": null,
   "metadata": {},
   "outputs": [],
   "source": []
  },
  {
   "cell_type": "markdown",
   "metadata": {},
   "source": [
    "# This is the end of the Steph section"
   ]
  },
  {
   "cell_type": "markdown",
   "metadata": {},
   "source": [
    "# Luis' code - Monthly Ridership Line Plots"
   ]
  },
  {
   "cell_type": "code",
   "execution_count": null,
   "metadata": {},
   "outputs": [],
   "source": []
  },
  {
   "cell_type": "code",
   "execution_count": null,
   "metadata": {},
   "outputs": [],
   "source": [
    "# 2015\n",
    "by_month_2015 = df_2015[[\"start_datetime\", \"month\"]].groupby(\"month\").count()\n",
    "by_month_2015.rename(columns = {\"start_datetime\": \"2015\"}, inplace = True)\n",
    "by_month_2015"
   ]
  },
  {
   "cell_type": "code",
   "execution_count": null,
   "metadata": {},
   "outputs": [],
   "source": [
    "# 2016\n",
    "by_month_2016 = df_2016[[\"start_datetime\", \"month\"]].groupby(\"month\").count()\n",
    "by_month_2016.rename(columns = {\"start_datetime\": \"2016\"}, inplace = True)\n",
    "by_month_2016"
   ]
  },
  {
   "cell_type": "code",
   "execution_count": null,
   "metadata": {},
   "outputs": [],
   "source": [
    "# 2017\n",
    "by_month_2017 = df_2017[[\"start_datetime\", \"month\"]].groupby(\"month\").count()\n",
    "by_month_2017.rename(columns = {\"start_datetime\": \"2017\"}, inplace = True)\n",
    "by_month_2017"
   ]
  },
  {
   "cell_type": "code",
   "execution_count": null,
   "metadata": {},
   "outputs": [],
   "source": [
    "# 2018\n",
    "by_month_2018 = df_2018[[\"start_datetime\", \"month\"]].groupby(\"month\").count()\n",
    "by_month_2018.rename(columns = {\"start_datetime\": \"2018\"}, inplace = True)\n",
    "by_month_2018"
   ]
  },
  {
   "cell_type": "code",
   "execution_count": null,
   "metadata": {},
   "outputs": [],
   "source": [
    "# 2019\n",
    "by_month_2019 = df_2019[[\"start_datetime\", \"month\"]].groupby(\"month\").count()\n",
    "by_month_2019.rename(columns = {\"start_datetime\": \"2019\"}, inplace = True)\n",
    "by_month_2019"
   ]
  },
  {
   "cell_type": "code",
   "execution_count": null,
   "metadata": {},
   "outputs": [],
   "source": [
    "# 2018\n",
    "by_month_2020 = df_2020[[\"start_datetime\", \"month\"]].groupby(\"month\").count()\n",
    "by_month_2020.rename(columns = {\"start_datetime\": \"2020\"}, inplace = True)\n",
    "by_month_2020"
   ]
  },
  {
   "cell_type": "code",
   "execution_count": null,
   "metadata": {},
   "outputs": [],
   "source": [
    "# Join dataframes using concat\n",
    "\n",
    "rides_by_month = pd.concat([by_month_2015, by_month_2016, by_month_2017, by_month_2018, by_month_2019, by_month_2020], axis = 1)\n",
    "\n",
    "# Set index to the months\n",
    "\n",
    "months_list = [\"April\", \"May\", \"June\", \"July\", \"August\", \"September\", \"October\", \"November\"]\n",
    "\n",
    "rides_by_month.index = months_list\n",
    "\n",
    "rides_by_month"
   ]
  },
  {
   "cell_type": "code",
   "execution_count": null,
   "metadata": {},
   "outputs": [],
   "source": [
    "rides_by_month.plot(kind = \"line\")\n",
    "plt.legend(loc = \"upper right\")\n",
    "plt.xticks(rotation = 45)\n",
    "plt.show()"
   ]
  },
  {
   "cell_type": "markdown",
   "metadata": {},
   "source": [
    "## End of Luis' code"
   ]
  },
  {
   "cell_type": "markdown",
   "metadata": {},
   "source": [
    "## Rachel's Code"
   ]
  },
  {
   "cell_type": "code",
   "execution_count": null,
   "metadata": {},
   "outputs": [],
   "source": [
    "ride_count_2015 = len(year_2015)\n",
    "ride_count_2016 = len(year_2016)\n",
    "ride_count_2017 = len(year_2017)\n",
    "ride_count_2018 = len(year_2018)\n",
    "ride_count_2019 = len(year_2019)\n",
    "ride_count_2020 = len(year_2020)\n",
    "\n",
    "total_ridership_by_year = {'2017_ride' : ride_count_2017,\n",
    "                           '2018_ride' : ride_count_2018,\n",
    "                           '2019_ride' : ride_count_2019,\n",
    "                           '2020_ride' : ride_count_2020\n",
    "                          }\n",
    "\n",
    "years = list(data.keys())\n",
    "values = list(data.values())\n",
    "\n",
    "plt.bar(years, values, color = 'maroon', width = .2)"
   ]
  }
 ],
 "metadata": {
  "kernelspec": {
   "display_name": "Python 3",
   "language": "python",
   "name": "python3"
  },
  "language_info": {
   "codemirror_mode": {
    "name": "ipython",
    "version": 3
   },
   "file_extension": ".py",
   "mimetype": "text/x-python",
   "name": "python",
   "nbconvert_exporter": "python",
   "pygments_lexer": "ipython3",
   "version": "3.6.10"
  }
 },
 "nbformat": 4,
 "nbformat_minor": 4
}
