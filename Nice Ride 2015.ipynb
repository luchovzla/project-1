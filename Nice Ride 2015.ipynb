{
 "cells": [
  {
   "cell_type": "code",
   "execution_count": null,
   "metadata": {},
   "outputs": [],
   "source": [
    "#Dependencies\n",
    "import pandas as pd\n",
    "import numpy as np"
   ]
  },
  {
   "cell_type": "code",
   "execution_count": null,
   "metadata": {},
   "outputs": [],
   "source": [
    "#Import CSV File\n",
    "nr_2015_sta_path = \"Input_Data/Nice_Ride_2015_station_locations.csv\"\n",
    "nr_2015_trip_path = \"Input_Data/Nice_ride_trip_history_2015_season.csv\""
   ]
  },
  {
   "cell_type": "code",
   "execution_count": null,
   "metadata": {},
   "outputs": [],
   "source": [
    "#Read station data to df\n",
    "station_15 = pd.read_csv(nr_2015_sta_path, dtype={\"Terminal\":int, \"Station\":str, \"Latitude\":float, \"Longitude\":float, \"NbDocks\":int, \"Notes\":str})\n",
    "station_15.head()"
   ]
  },
  {
   "cell_type": "code",
   "execution_count": null,
   "metadata": {},
   "outputs": [],
   "source": [
    "# Get number of stations\n",
    "len(station_15)"
   ]
  },
  {
   "cell_type": "code",
   "execution_count": null,
   "metadata": {},
   "outputs": [],
   "source": [
    "# Remove unused columns\n",
    "station_15 = station_15.drop(columns=[\"NbDocks\", \"Notes\"])\n",
    "station_15"
   ]
  },
  {
   "cell_type": "code",
   "execution_count": null,
   "metadata": {},
   "outputs": [],
   "source": [
    "# Rename columns to create a universal format\n",
    "station_15.rename(columns={\"Terminal\" : \"station_id\", \n",
    "                           \"Station\" : \"station_name\", \n",
    "                           \"Latitude\" : \"station_lat\", \n",
    "                           \"Longitude\" : \"station_lng\"}, \n",
    "                  inplace=True)"
   ]
  },
  {
   "cell_type": "code",
   "execution_count": null,
   "metadata": {},
   "outputs": [],
   "source": [
    "station_15.head()"
   ]
  },
  {
   "cell_type": "code",
   "execution_count": null,
   "metadata": {},
   "outputs": [],
   "source": [
    "# Export .csv\n",
    "station_15.to_csv(path_or_buf=\"Resources/Nice_ride_2015_station_locations.csv\", index=False)"
   ]
  },
  {
   "cell_type": "code",
   "execution_count": null,
   "metadata": {},
   "outputs": [],
   "source": [
    "# Read trip data to df\n",
    "trip_15 = pd.read_csv(nr_2015_trip_path, dtype={\"Start date\":str, \"Start station\":str, \"Start station number\":str, \"End date\":str, \"End station\":str, \"End station number\":str, \"Total duration (Seconds)\":int, \"Account type\":str})\n",
    "trip_15.head()"
   ]
  },
  {
   "cell_type": "code",
   "execution_count": null,
   "metadata": {},
   "outputs": [],
   "source": [
    "len(trip_15)"
   ]
  },
  {
   "cell_type": "code",
   "execution_count": null,
   "metadata": {},
   "outputs": [],
   "source": [
    "trip_15[\"Start date\"] = pd.to_datetime(trip_15[\"Start date\"])\n",
    "trip_15[\"End date\"] = pd.to_datetime(trip_15[\"End date\"])"
   ]
  },
  {
   "cell_type": "code",
   "execution_count": null,
   "metadata": {},
   "outputs": [],
   "source": [
    "trip_15.rename(columns={\"Start date\" : \"start_datetime\", \n",
    "                        \"Start station\" : \"start_station_name\", \n",
    "                        \"Start station number\" : \"start_station_id\",\n",
    "                        \"End date\" : \"end_datetime\",\n",
    "                        \"End station\" : \"end_station_name\",\n",
    "                        \"End station number\" : \"end_station_id\",\n",
    "                        \"Total duration (Seconds)\" : \"total_duration_sec\",\n",
    "                        \"Account type\" : \"account_type\"}, \n",
    "              inplace=True)"
   ]
  },
  {
   "cell_type": "code",
   "execution_count": null,
   "metadata": {},
   "outputs": [],
   "source": [
    "trip_15.head()"
   ]
  },
  {
   "cell_type": "code",
   "execution_count": null,
   "metadata": {},
   "outputs": [],
   "source": [
    "# Re-sort by datetime\n",
    "trip_15 = trip_15.sort_values([\"start_datetime\"], ignore_index=True)\n",
    "trip_15"
   ]
  },
  {
   "cell_type": "code",
   "execution_count": null,
   "metadata": {},
   "outputs": [],
   "source": [
    "# Export .csv\n",
    "trip_15.to_csv(path_or_buf=\"Resources/Nice_ride_trip_history_2015_season.csv\", index=False)"
   ]
  },
  {
   "cell_type": "code",
   "execution_count": null,
   "metadata": {},
   "outputs": [],
   "source": []
  }
 ],
 "metadata": {
  "kernelspec": {
   "display_name": "Python 3",
   "language": "python",
   "name": "python3"
  },
  "language_info": {
   "codemirror_mode": {
    "name": "ipython",
    "version": 3
   },
   "file_extension": ".py",
   "mimetype": "text/x-python",
   "name": "python",
   "nbconvert_exporter": "python",
   "pygments_lexer": "ipython3",
   "version": "3.6.10"
  }
 },
 "nbformat": 4,
 "nbformat_minor": 4
}
