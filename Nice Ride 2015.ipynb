{
 "cells": [
  {
   "cell_type": "code",
   "execution_count": 9,
   "metadata": {},
   "outputs": [],
   "source": [
    "#Dependencies\n",
    "import pandas as pd\n",
    "import numpy as np"
   ]
  },
  {
   "cell_type": "code",
   "execution_count": 10,
   "metadata": {},
   "outputs": [],
   "source": [
    "#Import CSV File\n",
    "nr_2015_sta_path = \"Input_Data/Nice_Ride_2015_station_locations.csv\"\n",
    "nr_2015_trip_path = \"Input_Data/Nice_ride_trip_history_2015_season.csv\""
   ]
  },
  {
   "cell_type": "code",
   "execution_count": 11,
   "metadata": {},
   "outputs": [
    {
     "data": {
      "text/html": [
       "<div>\n",
       "<style scoped>\n",
       "    .dataframe tbody tr th:only-of-type {\n",
       "        vertical-align: middle;\n",
       "    }\n",
       "\n",
       "    .dataframe tbody tr th {\n",
       "        vertical-align: top;\n",
       "    }\n",
       "\n",
       "    .dataframe thead th {\n",
       "        text-align: right;\n",
       "    }\n",
       "</style>\n",
       "<table border=\"1\" class=\"dataframe\">\n",
       "  <thead>\n",
       "    <tr style=\"text-align: right;\">\n",
       "      <th></th>\n",
       "      <th>Terminal</th>\n",
       "      <th>Station</th>\n",
       "      <th>Latitude</th>\n",
       "      <th>Longitude</th>\n",
       "      <th>NbDocks</th>\n",
       "      <th>Notes</th>\n",
       "    </tr>\n",
       "  </thead>\n",
       "  <tbody>\n",
       "    <tr>\n",
       "      <th>0</th>\n",
       "      <td>30000</td>\n",
       "      <td>100 Main Street SE</td>\n",
       "      <td>44.984892</td>\n",
       "      <td>-93.256551</td>\n",
       "      <td>27</td>\n",
       "      <td>NaN</td>\n",
       "    </tr>\n",
       "    <tr>\n",
       "      <th>1</th>\n",
       "      <td>30001</td>\n",
       "      <td>25th Street &amp; 33rd Ave S</td>\n",
       "      <td>44.957341</td>\n",
       "      <td>-93.223374</td>\n",
       "      <td>15</td>\n",
       "      <td>NaN</td>\n",
       "    </tr>\n",
       "    <tr>\n",
       "      <th>2</th>\n",
       "      <td>30002</td>\n",
       "      <td>Riverside Ave &amp; 23rd Ave S</td>\n",
       "      <td>44.967115</td>\n",
       "      <td>-93.240149</td>\n",
       "      <td>15</td>\n",
       "      <td>NaN</td>\n",
       "    </tr>\n",
       "    <tr>\n",
       "      <th>3</th>\n",
       "      <td>30003</td>\n",
       "      <td>Plymouth Ave N &amp;  N Oliver Ave</td>\n",
       "      <td>44.991412</td>\n",
       "      <td>-93.306269</td>\n",
       "      <td>15</td>\n",
       "      <td>NaN</td>\n",
       "    </tr>\n",
       "    <tr>\n",
       "      <th>4</th>\n",
       "      <td>30004</td>\n",
       "      <td>11th Street &amp; Hennepin</td>\n",
       "      <td>44.975340</td>\n",
       "      <td>-93.278690</td>\n",
       "      <td>23</td>\n",
       "      <td>NaN</td>\n",
       "    </tr>\n",
       "  </tbody>\n",
       "</table>\n",
       "</div>"
      ],
      "text/plain": [
       "   Terminal                         Station   Latitude  Longitude  NbDocks  \\\n",
       "0     30000              100 Main Street SE  44.984892 -93.256551       27   \n",
       "1     30001        25th Street & 33rd Ave S  44.957341 -93.223374       15   \n",
       "2     30002      Riverside Ave & 23rd Ave S  44.967115 -93.240149       15   \n",
       "3     30003  Plymouth Ave N &  N Oliver Ave  44.991412 -93.306269       15   \n",
       "4     30004          11th Street & Hennepin  44.975340 -93.278690       23   \n",
       "\n",
       "  Notes  \n",
       "0   NaN  \n",
       "1   NaN  \n",
       "2   NaN  \n",
       "3   NaN  \n",
       "4   NaN  "
      ]
     },
     "execution_count": 11,
     "metadata": {},
     "output_type": "execute_result"
    }
   ],
   "source": [
    "#Read station data to df\n",
    "station_15 = pd.read_csv(nr_2015_sta_path, dtype={\"Terminal\":int, \"Station\":str, \"Latitude\":float, \"Longitude\":float, \"NbDocks\":int, \"Notes\":str})\n",
    "station_15.head()"
   ]
  },
  {
   "cell_type": "code",
   "execution_count": 12,
   "metadata": {},
   "outputs": [
    {
     "data": {
      "text/plain": [
       "190"
      ]
     },
     "execution_count": 12,
     "metadata": {},
     "output_type": "execute_result"
    }
   ],
   "source": [
    "# Get number of stations\n",
    "len(station_15)"
   ]
  },
  {
   "cell_type": "code",
   "execution_count": 13,
   "metadata": {},
   "outputs": [
    {
     "data": {
      "text/html": [
       "<div>\n",
       "<style scoped>\n",
       "    .dataframe tbody tr th:only-of-type {\n",
       "        vertical-align: middle;\n",
       "    }\n",
       "\n",
       "    .dataframe tbody tr th {\n",
       "        vertical-align: top;\n",
       "    }\n",
       "\n",
       "    .dataframe thead th {\n",
       "        text-align: right;\n",
       "    }\n",
       "</style>\n",
       "<table border=\"1\" class=\"dataframe\">\n",
       "  <thead>\n",
       "    <tr style=\"text-align: right;\">\n",
       "      <th></th>\n",
       "      <th>Terminal</th>\n",
       "      <th>Station</th>\n",
       "      <th>Latitude</th>\n",
       "      <th>Longitude</th>\n",
       "    </tr>\n",
       "  </thead>\n",
       "  <tbody>\n",
       "    <tr>\n",
       "      <th>0</th>\n",
       "      <td>30000</td>\n",
       "      <td>100 Main Street SE</td>\n",
       "      <td>44.984892</td>\n",
       "      <td>-93.256551</td>\n",
       "    </tr>\n",
       "    <tr>\n",
       "      <th>1</th>\n",
       "      <td>30001</td>\n",
       "      <td>25th Street &amp; 33rd Ave S</td>\n",
       "      <td>44.957341</td>\n",
       "      <td>-93.223374</td>\n",
       "    </tr>\n",
       "    <tr>\n",
       "      <th>2</th>\n",
       "      <td>30002</td>\n",
       "      <td>Riverside Ave &amp; 23rd Ave S</td>\n",
       "      <td>44.967115</td>\n",
       "      <td>-93.240149</td>\n",
       "    </tr>\n",
       "    <tr>\n",
       "      <th>3</th>\n",
       "      <td>30003</td>\n",
       "      <td>Plymouth Ave N &amp;  N Oliver Ave</td>\n",
       "      <td>44.991412</td>\n",
       "      <td>-93.306269</td>\n",
       "    </tr>\n",
       "    <tr>\n",
       "      <th>4</th>\n",
       "      <td>30004</td>\n",
       "      <td>11th Street &amp; Hennepin</td>\n",
       "      <td>44.975340</td>\n",
       "      <td>-93.278690</td>\n",
       "    </tr>\n",
       "    <tr>\n",
       "      <th>...</th>\n",
       "      <td>...</td>\n",
       "      <td>...</td>\n",
       "      <td>...</td>\n",
       "      <td>...</td>\n",
       "    </tr>\n",
       "    <tr>\n",
       "      <th>185</th>\n",
       "      <td>30185</td>\n",
       "      <td>5th Street NE &amp; 3rd Ave NE</td>\n",
       "      <td>44.991821</td>\n",
       "      <td>-93.255558</td>\n",
       "    </tr>\n",
       "    <tr>\n",
       "      <th>186</th>\n",
       "      <td>30186</td>\n",
       "      <td>5th Street &amp; Nicollet Mall</td>\n",
       "      <td>44.978665</td>\n",
       "      <td>-93.270503</td>\n",
       "    </tr>\n",
       "    <tr>\n",
       "      <th>187</th>\n",
       "      <td>30187</td>\n",
       "      <td>Groveland Ave &amp; Clifton Place</td>\n",
       "      <td>44.966145</td>\n",
       "      <td>-93.286294</td>\n",
       "    </tr>\n",
       "    <tr>\n",
       "      <th>188</th>\n",
       "      <td>30188</td>\n",
       "      <td>8th Street &amp; 2nd Ave S</td>\n",
       "      <td>44.974795</td>\n",
       "      <td>-93.270649</td>\n",
       "    </tr>\n",
       "    <tr>\n",
       "      <th>189</th>\n",
       "      <td>30189</td>\n",
       "      <td>Delaware St SE &amp; 26th Ave SE</td>\n",
       "      <td>44.972128</td>\n",
       "      <td>-93.221021</td>\n",
       "    </tr>\n",
       "  </tbody>\n",
       "</table>\n",
       "<p>190 rows × 4 columns</p>\n",
       "</div>"
      ],
      "text/plain": [
       "     Terminal                         Station   Latitude  Longitude\n",
       "0       30000              100 Main Street SE  44.984892 -93.256551\n",
       "1       30001        25th Street & 33rd Ave S  44.957341 -93.223374\n",
       "2       30002      Riverside Ave & 23rd Ave S  44.967115 -93.240149\n",
       "3       30003  Plymouth Ave N &  N Oliver Ave  44.991412 -93.306269\n",
       "4       30004          11th Street & Hennepin  44.975340 -93.278690\n",
       "..        ...                             ...        ...        ...\n",
       "185     30185      5th Street NE & 3rd Ave NE  44.991821 -93.255558\n",
       "186     30186      5th Street & Nicollet Mall  44.978665 -93.270503\n",
       "187     30187   Groveland Ave & Clifton Place  44.966145 -93.286294\n",
       "188     30188          8th Street & 2nd Ave S  44.974795 -93.270649\n",
       "189     30189    Delaware St SE & 26th Ave SE  44.972128 -93.221021\n",
       "\n",
       "[190 rows x 4 columns]"
      ]
     },
     "execution_count": 13,
     "metadata": {},
     "output_type": "execute_result"
    }
   ],
   "source": [
    "# Remove unused columns\n",
    "station_15 = station_15.drop(columns=[\"NbDocks\", \"Notes\"])\n",
    "station_15"
   ]
  },
  {
   "cell_type": "code",
   "execution_count": 14,
   "metadata": {},
   "outputs": [],
   "source": [
    "# Rename columns to create a universal format\n",
    "station_15.rename(columns={\"Terminal\" : \"station_id\", \n",
    "                           \"Station\" : \"station_name\", \n",
    "                           \"Latitude\" : \"station_lat\", \n",
    "                           \"Longitude\" : \"station_lng\"}, \n",
    "                  inplace=True)"
   ]
  },
  {
   "cell_type": "code",
   "execution_count": 15,
   "metadata": {},
   "outputs": [
    {
     "data": {
      "text/html": [
       "<div>\n",
       "<style scoped>\n",
       "    .dataframe tbody tr th:only-of-type {\n",
       "        vertical-align: middle;\n",
       "    }\n",
       "\n",
       "    .dataframe tbody tr th {\n",
       "        vertical-align: top;\n",
       "    }\n",
       "\n",
       "    .dataframe thead th {\n",
       "        text-align: right;\n",
       "    }\n",
       "</style>\n",
       "<table border=\"1\" class=\"dataframe\">\n",
       "  <thead>\n",
       "    <tr style=\"text-align: right;\">\n",
       "      <th></th>\n",
       "      <th>station_id</th>\n",
       "      <th>station_name</th>\n",
       "      <th>station_lat</th>\n",
       "      <th>station_lng</th>\n",
       "    </tr>\n",
       "  </thead>\n",
       "  <tbody>\n",
       "    <tr>\n",
       "      <th>0</th>\n",
       "      <td>30000</td>\n",
       "      <td>100 Main Street SE</td>\n",
       "      <td>44.984892</td>\n",
       "      <td>-93.256551</td>\n",
       "    </tr>\n",
       "    <tr>\n",
       "      <th>1</th>\n",
       "      <td>30001</td>\n",
       "      <td>25th Street &amp; 33rd Ave S</td>\n",
       "      <td>44.957341</td>\n",
       "      <td>-93.223374</td>\n",
       "    </tr>\n",
       "    <tr>\n",
       "      <th>2</th>\n",
       "      <td>30002</td>\n",
       "      <td>Riverside Ave &amp; 23rd Ave S</td>\n",
       "      <td>44.967115</td>\n",
       "      <td>-93.240149</td>\n",
       "    </tr>\n",
       "    <tr>\n",
       "      <th>3</th>\n",
       "      <td>30003</td>\n",
       "      <td>Plymouth Ave N &amp;  N Oliver Ave</td>\n",
       "      <td>44.991412</td>\n",
       "      <td>-93.306269</td>\n",
       "    </tr>\n",
       "    <tr>\n",
       "      <th>4</th>\n",
       "      <td>30004</td>\n",
       "      <td>11th Street &amp; Hennepin</td>\n",
       "      <td>44.975340</td>\n",
       "      <td>-93.278690</td>\n",
       "    </tr>\n",
       "  </tbody>\n",
       "</table>\n",
       "</div>"
      ],
      "text/plain": [
       "   station_id                    station_name  station_lat  station_lng\n",
       "0       30000              100 Main Street SE    44.984892   -93.256551\n",
       "1       30001        25th Street & 33rd Ave S    44.957341   -93.223374\n",
       "2       30002      Riverside Ave & 23rd Ave S    44.967115   -93.240149\n",
       "3       30003  Plymouth Ave N &  N Oliver Ave    44.991412   -93.306269\n",
       "4       30004          11th Street & Hennepin    44.975340   -93.278690"
      ]
     },
     "execution_count": 15,
     "metadata": {},
     "output_type": "execute_result"
    }
   ],
   "source": [
    "station_15.head()"
   ]
  },
  {
   "cell_type": "code",
   "execution_count": 16,
   "metadata": {},
   "outputs": [],
   "source": [
    "# Export .csv\n",
    "station_15.to_csv(path_or_buf=\"Resources/Nice_ride_2015_station_locations.csv\", index=False)"
   ]
  },
  {
   "cell_type": "code",
   "execution_count": 17,
   "metadata": {},
   "outputs": [
    {
     "data": {
      "text/html": [
       "<div>\n",
       "<style scoped>\n",
       "    .dataframe tbody tr th:only-of-type {\n",
       "        vertical-align: middle;\n",
       "    }\n",
       "\n",
       "    .dataframe tbody tr th {\n",
       "        vertical-align: top;\n",
       "    }\n",
       "\n",
       "    .dataframe thead th {\n",
       "        text-align: right;\n",
       "    }\n",
       "</style>\n",
       "<table border=\"1\" class=\"dataframe\">\n",
       "  <thead>\n",
       "    <tr style=\"text-align: right;\">\n",
       "      <th></th>\n",
       "      <th>Start date</th>\n",
       "      <th>Start station</th>\n",
       "      <th>Start station number</th>\n",
       "      <th>End date</th>\n",
       "      <th>End station</th>\n",
       "      <th>End station number</th>\n",
       "      <th>Total duration (Seconds)</th>\n",
       "      <th>Account type</th>\n",
       "    </tr>\n",
       "  </thead>\n",
       "  <tbody>\n",
       "    <tr>\n",
       "      <th>0</th>\n",
       "      <td>11/1/2015 21:55</td>\n",
       "      <td>West 15th Street &amp; Willow</td>\n",
       "      <td>30093</td>\n",
       "      <td>11/1/2015 22:12</td>\n",
       "      <td>Nicollet Island</td>\n",
       "      <td>30170</td>\n",
       "      <td>983</td>\n",
       "      <td>Member</td>\n",
       "    </tr>\n",
       "    <tr>\n",
       "      <th>1</th>\n",
       "      <td>11/1/2015 21:55</td>\n",
       "      <td>West 15th Street &amp; Willow</td>\n",
       "      <td>30093</td>\n",
       "      <td>11/1/2015 22:12</td>\n",
       "      <td>Nicollet Island</td>\n",
       "      <td>30170</td>\n",
       "      <td>980</td>\n",
       "      <td>Member</td>\n",
       "    </tr>\n",
       "    <tr>\n",
       "      <th>2</th>\n",
       "      <td>11/1/2015 21:55</td>\n",
       "      <td>4th Street &amp; 13th Ave SE</td>\n",
       "      <td>30009</td>\n",
       "      <td>11/1/2015 22:05</td>\n",
       "      <td>Logan Park</td>\n",
       "      <td>30104</td>\n",
       "      <td>565</td>\n",
       "      <td>Casual</td>\n",
       "    </tr>\n",
       "    <tr>\n",
       "      <th>3</th>\n",
       "      <td>11/1/2015 21:54</td>\n",
       "      <td>Lyndale Ave S &amp; 22nd Street</td>\n",
       "      <td>30017</td>\n",
       "      <td>11/1/2015 21:55</td>\n",
       "      <td>Lyndale Ave S &amp; 22nd Street</td>\n",
       "      <td>30017</td>\n",
       "      <td>65</td>\n",
       "      <td>Member</td>\n",
       "    </tr>\n",
       "    <tr>\n",
       "      <th>4</th>\n",
       "      <td>11/1/2015 21:54</td>\n",
       "      <td>YWCA Downtown</td>\n",
       "      <td>30006</td>\n",
       "      <td>11/1/2015 22:44</td>\n",
       "      <td>YWCA Downtown</td>\n",
       "      <td>30006</td>\n",
       "      <td>3037</td>\n",
       "      <td>Casual</td>\n",
       "    </tr>\n",
       "  </tbody>\n",
       "</table>\n",
       "</div>"
      ],
      "text/plain": [
       "        Start date                 Start station Start station number  \\\n",
       "0  11/1/2015 21:55     West 15th Street & Willow                30093   \n",
       "1  11/1/2015 21:55     West 15th Street & Willow                30093   \n",
       "2  11/1/2015 21:55      4th Street & 13th Ave SE                30009   \n",
       "3  11/1/2015 21:54  Lyndale Ave S & 22nd Street                 30017   \n",
       "4  11/1/2015 21:54                 YWCA Downtown                30006   \n",
       "\n",
       "          End date                   End station End station number  \\\n",
       "0  11/1/2015 22:12               Nicollet Island              30170   \n",
       "1  11/1/2015 22:12               Nicollet Island              30170   \n",
       "2  11/1/2015 22:05                    Logan Park              30104   \n",
       "3  11/1/2015 21:55  Lyndale Ave S & 22nd Street               30017   \n",
       "4  11/1/2015 22:44                 YWCA Downtown              30006   \n",
       "\n",
       "   Total duration (Seconds) Account type  \n",
       "0                       983       Member  \n",
       "1                       980       Member  \n",
       "2                       565       Casual  \n",
       "3                        65       Member  \n",
       "4                      3037       Casual  "
      ]
     },
     "execution_count": 17,
     "metadata": {},
     "output_type": "execute_result"
    }
   ],
   "source": [
    "# Read trip data to df\n",
    "trip_15 = pd.read_csv(nr_2015_trip_path, dtype={\"Start date\":str, \"Start station\":str, \"Start station number\":str, \"End date\":str, \"End station\":str, \"End station number\":str, \"Total duration (Seconds)\":int, \"Account type\":str})\n",
    "trip_15.head()"
   ]
  },
  {
   "cell_type": "code",
   "execution_count": 18,
   "metadata": {},
   "outputs": [
    {
     "data": {
      "text/plain": [
       "483229"
      ]
     },
     "execution_count": 18,
     "metadata": {},
     "output_type": "execute_result"
    }
   ],
   "source": [
    "len(trip_15)"
   ]
  },
  {
   "cell_type": "code",
   "execution_count": null,
   "metadata": {},
   "outputs": [],
   "source": [
    "trip_15[\"Start date\"] = pd.to_datetime(trip_15[\"Start date\"])\n",
    "trip_15[\"End date\"] = pd.to_datetime(trip_15[\"End date\"])"
   ]
  },
  {
   "cell_type": "code",
   "execution_count": null,
   "metadata": {},
   "outputs": [],
   "source": [
    "trip_15.rename(columns={\"Start date\" : \"start_datetime\", \n",
    "                        \"Start station\" : \"start_station_name\", \n",
    "                        \"Start station number\" : \"start_station_id\",\n",
    "                        \"End date\" : \"end_datetime\",\n",
    "                        \"End station\" : \"end_station_name\",\n",
    "                        \"End station number\" : \"end_station_id\",\n",
    "                        \"Total duration (Seconds)\" : \"total_duration_sec\",\n",
    "                        \"Account type\" : \"account_type\"}, \n",
    "              inplace=True)"
   ]
  },
  {
   "cell_type": "code",
   "execution_count": null,
   "metadata": {},
   "outputs": [],
   "source": [
    "trip_15.head()"
   ]
  },
  {
   "cell_type": "code",
   "execution_count": null,
   "metadata": {},
   "outputs": [],
   "source": [
    "# Re-sort by datetime\n",
    "trip_15 = trip_15.sort_values([\"start_datetime\"], ignore_index=True)\n",
    "trip_15"
   ]
  },
  {
   "cell_type": "code",
   "execution_count": null,
   "metadata": {},
   "outputs": [],
   "source": [
    "# Export .csv\n",
    "trip_15.to_csv(path_or_buf=\"Resources/Nice_ride_trip_history_2015_season.csv\", index=False)"
   ]
  },
  {
   "cell_type": "code",
   "execution_count": null,
   "metadata": {},
   "outputs": [],
   "source": []
  }
 ],
 "metadata": {
  "kernelspec": {
   "display_name": "Python 3",
   "language": "python",
   "name": "python3"
  },
  "language_info": {
   "codemirror_mode": {
    "name": "ipython",
    "version": 3
   },
   "file_extension": ".py",
   "mimetype": "text/x-python",
   "name": "python",
   "nbconvert_exporter": "python",
   "pygments_lexer": "ipython3",
   "version": "3.6.10"
  }
 },
 "nbformat": 4,
 "nbformat_minor": 4
}
